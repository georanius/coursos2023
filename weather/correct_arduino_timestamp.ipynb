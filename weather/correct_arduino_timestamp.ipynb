{
 "cells": [
  {
   "cell_type": "markdown",
   "id": "fb63ec74",
   "metadata": {},
   "source": [
    "## Digitale Techniken: Weatherstation - correcting time stamps\n",
    "\n",
    "For the purpose of correcting timestamps in data files measured with arduino weatherstation where for each new measurement the clock is accidentally initialized with the time of compilation.\n",
    "\n",
    "joker, 2022-01\n",
    "\n",
    "<img src=\"https://mirrors.creativecommons.org/presskit/buttons/88x31/png/by-nc-sa.png\" style=\"height:50px\" align=\"left\"/> <br><br>\n",
    "\n",
    "https://creativecommons.org/licenses/by-nc-sa/4.0/"
   ]
  },
  {
   "cell_type": "markdown",
   "id": "69bfb87c",
   "metadata": {},
   "source": [
    "The example data from WiSe2021/22 for which this script was written comes with this header:<br>\n",
    "```datetime,lightIntensity,temperature,relHumidity,ppmCO2```"
   ]
  },
  {
   "cell_type": "markdown",
   "id": "0fecfea4",
   "metadata": {},
   "source": [
    "The WiSe2022/23 header looks like this:<br>\n",
    "```Datetime,Brightness,Relative humidity,Temperature,C02 mixing ratio,Air pressure,Altitude```"
   ]
  },
  {
   "cell_type": "markdown",
   "id": "8a7ee7c8",
   "metadata": {},
   "source": [
    "#### Below, check (and change):\n",
    "- the path to your incorrect data files\n",
    "- the index to pick one of the files\n",
    "- the true time you want to correct to"
   ]
  },
  {
   "cell_type": "code",
   "execution_count": 1,
   "id": "f0551604",
   "metadata": {
    "tags": []
   },
   "outputs": [],
   "source": [
    "# import module\n",
    "from datetime import datetime, timedelta\n",
    "from glob import glob\n",
    "import os"
   ]
  },
  {
   "cell_type": "code",
   "execution_count": 2,
   "id": "3321e79e",
   "metadata": {
    "tags": []
   },
   "outputs": [
    {
     "data": {
      "text/plain": [
       "['data_incorrect_time/01051302.txt', 'data_incorrect_time/01051302_1.txt']"
      ]
     },
     "execution_count": 2,
     "metadata": {},
     "output_type": "execute_result"
    }
   ],
   "source": [
    "# read data files with incorrect timestamps from a folder \"data_incorrect_time\"\n",
    "path = os.path.join('data_incorrect_time', '*.txt')\n",
    "files = glob(path)\n",
    "files"
   ]
  },
  {
   "cell_type": "code",
   "execution_count": 3,
   "id": "84da2786",
   "metadata": {
    "tags": []
   },
   "outputs": [
    {
     "name": "stdout",
     "output_type": "stream",
     "text": [
      "True start time: 2022-01-06 11:12:13\n",
      "Incorrect start time: 2022-01-05 13:02:24\n",
      "Time shift: 22:09:49\n",
      "Time corrected data file '01061112_corrected_time.txt' has been produced.\n"
     ]
    }
   ],
   "source": [
    "# choose a file from all incorrect files: CHANGE INDEX\n",
    "# or use a loop for all files\n",
    "\n",
    "file = files[0]\n",
    "filename = str.split(os.path.split(file)[-1],\".\")[0]\n",
    "# print(filename)\n",
    "\n",
    "# provide the correct time of the first measurement to which you want to shift the times: JUST ENTER \"2022-...\"\n",
    "# as string in format YYYY-mm-dd HH:MM:SS\n",
    "true_time = datetime.strptime(\"2022-01-06 11:12:13\", \"%Y-%m-%d %H:%M:%S\")\n",
    "print('True start time: ' + str(true_time))\n",
    "outfile = datetime.strftime(true_time,\"%m%d%H%M\") + '_corrected_time.txt'\n",
    "\n",
    "# define number of header lines to skip, separator of data columns\n",
    "skip = 1\n",
    "sep = \",\"\n",
    "    \n",
    "with open(file, \"r\") as f:\n",
    "    lines = f.readlines()\n",
    "    # print(lines[0] + lines[1])  # just test printing the first two lines\n",
    "    \n",
    "# initialize a new list to hold the corrected lines\n",
    "lines_new = list()\n",
    "\n",
    "# loop over all lines while using enumerate() to generate a tuple of line and its number\n",
    "for line_nr, line in enumerate(lines):\n",
    "    if line_nr < skip:\n",
    "        lines_new.append(line)\n",
    "        continue\n",
    "\n",
    "    cols = line.split(sep)\n",
    "    # first column holds time data as strings\n",
    "    # strptime parses this string to a datetime object in the time format provided \n",
    "    # (which has to match the format in the string)\n",
    "    time = datetime.strptime(cols[0], \"%Y-%m-%d %H:%M:%S\")\n",
    "    \n",
    "    if line_nr == skip:\n",
    "        # find the time shift between incorrect and correct start time\n",
    "        shift = true_time - time  # datetime.timedelta object\n",
    "        print('Incorrect start time: ' + str(time))\n",
    "        print('Time shift: ' + str(shift))\n",
    "    \n",
    "    corrected = time + shift\n",
    "    line_new = sep.join([datetime.strftime(corrected, \"%Y-%m-%d %H:%M:%S\")] + cols[1:])\n",
    "    lines_new.append(line_new)\n",
    "\n",
    "\n",
    "with open(outfile, \"w\") as f:\n",
    "    f.writelines(lines_new)\n",
    "    \n",
    "print(\"Time corrected data file '\" + str(outfile) + \"' has been produced.\")"
   ]
  },
  {
   "cell_type": "code",
   "execution_count": null,
   "id": "ee440016",
   "metadata": {},
   "outputs": [],
   "source": []
  }
 ],
 "metadata": {
  "kernelspec": {
   "display_name": "Python 3 (ipykernel)",
   "language": "python",
   "name": "python3"
  },
  "language_info": {
   "codemirror_mode": {
    "name": "ipython",
    "version": 3
   },
   "file_extension": ".py",
   "mimetype": "text/x-python",
   "name": "python",
   "nbconvert_exporter": "python",
   "pygments_lexer": "ipython3",
   "version": "3.10.10"
  }
 },
 "nbformat": 4,
 "nbformat_minor": 5
}
