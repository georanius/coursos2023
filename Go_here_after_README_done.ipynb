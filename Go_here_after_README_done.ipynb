{
 "cells": [
  {
   "cell_type": "markdown",
   "id": "7733d8e8",
   "metadata": {},
   "source": [
    "# <b> Digitale Techniken: Introduction to Git\n",
    "2023-10, johanna.kerch@uni-goettingen.de, goeran.liebs@uni-goettingen.de\n",
    "\n",
    "\n",
    "<img src=\"https://mirrors.creativecommons.org/presskit/buttons/88x31/png/by-nc-sa.png\" style=\"height:50px\" align=\"left\"/> <br><br>\n",
    "\n",
    "https://creativecommons.org/licenses/by-nc-sa/4.0/"
   ]
  },
  {
   "cell_type": "markdown",
   "id": "9da9c782-14f8-417a-859e-4964cafe9c2a",
   "metadata": {
    "tags": []
   },
   "source": [
    "# <b> 0. How to use a Jupyter Notebook\n",
    "congratulation you just opened a Jupyter Notebook with a computing device in a cloud.  \n",
    "And now hands on..."
   ]
  },
  {
   "cell_type": "markdown",
   "id": "7f5b2238-84b4-4e9d-85d3-7521410cb471",
   "metadata": {},
   "source": [
    "#### <b> Shortcuts in Jupyter Notebook"
   ]
  },
  {
   "cell_type": "markdown",
   "id": "d2e479e4-132c-4a7e-91d4-ef25434e0bf4",
   "metadata": {
    "tags": []
   },
   "source": [
    "* double click on some text (e.g. here), and a frame and a blue bar appears arround a cell. Now you can type what ever you want, programm language code or explenation text, or markup code.\n",
    "* change cellformat to code (executable): ``ESC + y``, see blue square brackets []\n",
    "* change to markdown: ``ESC + m``\n",
    "* run a cell or render text nicelly: ``Ctrl + Enter``\n",
    "* incerte new cell above | below: ``ESC + a | b``\n",
    "* delete cell: ``ESC + dd``\n",
    "* save file: ``ESC + s``\n",
    "* find and replace: ``ESC + f``\n",
    "* merge cell with cell below: ``ESC + Shift + m``\n",
    "* ...check all the buttons, by mousing over"
   ]
  },
  {
   "cell_type": "markdown",
   "id": "69c74d0d-a928-4377-9139-0fe50c53c96e",
   "metadata": {
    "tags": []
   },
   "source": [
    "<b> Look at this page:\n",
    "https://docs.gwdg.de/doku.php?id=en:services:application_services:jupyter:start"
   ]
  },
  {
   "cell_type": "markdown",
   "id": "82656951-a758-4c82-9386-88d7b8cb2374",
   "metadata": {
    "tags": []
   },
   "source": [
    "## <b> Some general programming intentions\n",
    "\n",
    "Mostly, you will execute something and get an error - don't panic! Here are a view hinds for troubleshooting, and relaxing programming.\n",
    "\n",
    "1. Programming error sources increase with the number of lines of code for a programm.<br>\n",
    "But in Jupyter Notebooks you have the option to run your code partial in little units, to locate the error (e.g. creating one plot). \n",
    "\n",
    "\n",
    "2. If you get an error message, you need to be able to draw the correct conclusion, because an error might produce an error warning of an other error. This is not easy and needs some practice (and sometimes another person is helpful, in case you miss the forest for the trees).\n",
    "\n",
    "\n",
    "3. Try to comment your code as much as possible to be able to understand (and reproduce) it a few years later. Also, keep in mind, that another person need to be able to follow your brilliant work, today software projects are now one-man-shows..."
   ]
  },
  {
   "cell_type": "markdown",
   "id": "6d050aa8",
   "metadata": {},
   "source": [
    "# <b>1. Explore git-repository with bash (Oldscool computation language)</b>"
   ]
  },
  {
   "cell_type": "markdown",
   "id": "e9dd5374-f91b-4dfc-9d98-f5c9240c29d2",
   "metadata": {
    "tags": []
   },
   "source": [
    "Bash, on of the oldest computer-commando-language can be executed in a code cell when setting the kernel (click on Kernel button, in the menu bar) to bash).<br>\n",
    "   <b> Now use following commando to be sure this notebook runs in the right folder you are cloned. "
   ]
  },
  {
   "cell_type": "code",
   "execution_count": null,
   "id": "62edae9e-dec5-4525-b223-2434bb42f045",
   "metadata": {
    "tags": []
   },
   "outputs": [],
   "source": [
    "cd /home/jovyan/digitale-techniken-wise2324-pre/ # change directory, a terminal-bash command in a jupyter code cell with python kernel"
   ]
  },
  {
   "cell_type": "markdown",
   "id": "00da79ce-0fc1-4696-892a-23667ebf82bd",
   "metadata": {
    "tags": []
   },
   "source": [
    "You are now in an existing git repository (you said git clone ...). If you arrived with the installation instructions in that README.md file add the Webpage of this Repository on GWDGgitlab."
   ]
  },
  {
   "cell_type": "markdown",
   "id": "d8ddae9d-631c-4373-bd42-d88fd3a212fa",
   "metadata": {},
   "source": [
    "<br><b>Try out the connection to your origin-repository."
   ]
  },
  {
   "cell_type": "code",
   "execution_count": null,
   "id": "8054d2c0-6611-4c3e-ab5e-e7d7a79a078a",
   "metadata": {
    "tags": []
   },
   "outputs": [],
   "source": [
    "!git remote -v"
   ]
  },
  {
   "cell_type": "markdown",
   "id": "05738e6a-f730-4b40-9c3b-419de1e0e829",
   "metadata": {
    "tags": []
   },
   "source": [
    "<br>\n",
    "<b> Update your clone, pull changes from the origin. "
   ]
  },
  {
   "cell_type": "code",
   "execution_count": null,
   "id": "21e32e53-153c-46d3-9ff1-a99cb5bf5d55",
   "metadata": {
    "tags": []
   },
   "outputs": [],
   "source": [
    "!git pull #  a terminal bash command.. pulling changes from the original git-repository"
   ]
  },
  {
   "cell_type": "markdown",
   "id": "6eeaf5d0-44de-4504-b3f6-f6f86ae3ad45",
   "metadata": {
    "tags": []
   },
   "source": [
    "<br>\n",
    "\n",
    "<b> List the content of the folder where your terminal runs. Notice the .git folder which makes it to a Git-Repository"
   ]
  },
  {
   "cell_type": "code",
   "execution_count": null,
   "id": "13a7a1f3-713f-42cd-9121-d98a2f1029ef",
   "metadata": {
    "tags": []
   },
   "outputs": [],
   "source": [
    "ls -la #bash: list the file content with all hiddenfiles, thus there is a flag (-la)."
   ]
  },
  {
   "cell_type": "markdown",
   "id": "c681c831-9e4b-45fa-aa8a-bdbaa8961450",
   "metadata": {
    "tags": []
   },
   "source": [
    "<br>\n",
    "<b>Change your terminal position into it, so hidden."
   ]
  },
  {
   "cell_type": "code",
   "execution_count": null,
   "id": "b19939c3-f447-432d-bf25-b1f362153776",
   "metadata": {
    "tags": []
   },
   "outputs": [],
   "source": [
    "cd .git/"
   ]
  },
  {
   "cell_type": "markdown",
   "id": "6fc47551-6dff-42d1-9764-2d590b524e04",
   "metadata": {
    "tags": []
   },
   "source": [
    "<br>\n",
    "<b>Display the content of the .git folder. <br>That holds the tracking information about this repository (branches, remotes...where is what..)."
   ]
  },
  {
   "cell_type": "code",
   "execution_count": null,
   "id": "3f541479",
   "metadata": {
    "tags": []
   },
   "outputs": [],
   "source": [
    "ls -l"
   ]
  },
  {
   "cell_type": "markdown",
   "id": "bbc36faf-f06f-4c0d-aa65-680267bd10fc",
   "metadata": {
    "tags": []
   },
   "source": [
    "<br>\n",
    "<b> Display the content of the file called config."
   ]
  },
  {
   "cell_type": "code",
   "execution_count": null,
   "id": "5199093a-80d4-4a7b-a33e-7fef7ceafdc1",
   "metadata": {
    "tags": []
   },
   "outputs": [],
   "source": [
    "cat config #cat command displays the text of textfiles on the output"
   ]
  },
  {
   "cell_type": "markdown",
   "id": "d93f659d-53ba-4cbd-b5ca-3005fcb64ee1",
   "metadata": {
    "tags": []
   },
   "source": [
    "<br><b> Change your working directory back to this repository!"
   ]
  },
  {
   "cell_type": "code",
   "execution_count": null,
   "id": "e557f2cd-b669-417c-93e1-08f34efe17e8",
   "metadata": {
    "tags": []
   },
   "outputs": [],
   "source": [
    "cd /home/jovyan/digitale-techniken-wise2324-pre/"
   ]
  },
  {
   "cell_type": "markdown",
   "id": "fcde83bf-b94f-4ff0-bc16-8a647b8eb3ca",
   "metadata": {
    "tags": []
   },
   "source": [
    "<b>  Play around with your home-directory of your jupytercloudlab and the terminal."
   ]
  },
  {
   "cell_type": "markdown",
   "id": "06cc0b0c",
   "metadata": {},
   "source": [
    "# <b> 2: Scenario: you are in a developing project \n",
    "Consider this Repository is a running internet-server-application with millions if users, and you are a developer maintening that tool. Then, something have to be changed. Your just clone the whole project and try the changes. \n",
    "    If you make mistakes, you can go back to an other state of your work with\n",
    "```git reset --hard commitID```. When you arrived by trial and error to get the changes running, you might push that changes to the origin and they will be forewarderd to the running web application. And customers and controlers are complaining the changes...\n",
    "<br>    \n",
    "But if you want to change a lot, it'll be better to make a brand new branche with ```git checkout -b Branchname``` . Which might be merged (request) with the main branche later, or disgarded.\n",
    "    <br>\n",
    "    \n",
    "<b>So lets create and switch in a new Branch which you might to modify to a nicer cours."
   ]
  },
  {
   "cell_type": "code",
   "execution_count": null,
   "id": "aa881e6a-04d4-42de-a3cb-0ab298f9cc0b",
   "metadata": {},
   "outputs": [],
   "source": [
    "git checkout -b MyBranchofMyforkedCours #please change the YourNameHere_Branch name to ...!"
   ]
  },
  {
   "cell_type": "code",
   "execution_count": null,
   "id": "865e87d3-2c35-43f3-8658-b053b3f7c4b6",
   "metadata": {},
   "outputs": [],
   "source": [
    "git branch"
   ]
  },
  {
   "cell_type": "markdown",
   "id": "c8a433fb-ab1d-444b-ade6-0eb7f39e2b22",
   "metadata": {},
   "source": [
    "# <b> 3. Create a file in bash (changes)"
   ]
  },
  {
   "cell_type": "markdown",
   "id": "7f68ab14",
   "metadata": {},
   "source": [
    "<b>Create a text-file with bash:"
   ]
  },
  {
   "cell_type": "code",
   "execution_count": null,
   "id": "00a9d58c-89b5-4ddd-80e6-a03c57dcbf64",
   "metadata": {},
   "outputs": [],
   "source": [
    "!touch your_name.Extentiondosntmatter # Hahahah an empty textfile"
   ]
  },
  {
   "cell_type": "markdown",
   "id": "08f52489-27f6-4ecc-9b7a-f1f190ac7746",
   "metadata": {},
   "source": [
    "<b> Wait until it appears, in the left filebrowserpanel."
   ]
  },
  {
   "cell_type": "markdown",
   "id": "316b0189-a9bd-47d6-8522-cbd5cd7a8a1f",
   "metadata": {
    "tags": []
   },
   "source": [
    "<br><b>Write text in that file:"
   ]
  },
  {
   "cell_type": "code",
   "execution_count": null,
   "id": "8c190ed3-3184-4f3c-803d-3245c1adef47",
   "metadata": {},
   "outputs": [],
   "source": [
    "!echo 'This text will be arise to the existing file with the > symbol.' > your_name.Extentiondosntmatter"
   ]
  },
  {
   "cell_type": "markdown",
   "id": "0aa60c63-a93a-4bae-be29-4d6b9acc89c4",
   "metadata": {
    "tags": []
   },
   "source": [
    "<b> Have a look in that file, graphically, click on it and it will be opened here in a new tab."
   ]
  },
  {
   "cell_type": "markdown",
   "id": "66becde8-6ac5-4c89-82d4-54cb2c9012cc",
   "metadata": {
    "tags": []
   },
   "source": [
    "<br><b> Read the file:"
   ]
  },
  {
   "cell_type": "code",
   "execution_count": null,
   "id": "6c90952f-9cb8-48ab-977a-61920faf81fe",
   "metadata": {},
   "outputs": [],
   "source": [
    "cat your_name.Extentiondosntmatter"
   ]
  },
  {
   "cell_type": "markdown",
   "id": "be134af8-04a7-450a-ae65-7d7a215b0bc3",
   "metadata": {
    "tags": []
   },
   "source": [
    "# <b> 4. Now, stage the changes "
   ]
  },
  {
   "cell_type": "code",
   "execution_count": null,
   "id": "fd01a3f9-60a5-43a4-9dae-de4a9bed766d",
   "metadata": {
    "tags": []
   },
   "outputs": [],
   "source": [
    "git add your_name.Extentiondosntmatter #tell git that you changed this file"
   ]
  },
  {
   "cell_type": "code",
   "execution_count": null,
   "id": "08c34e10-ebce-4640-ab1e-ffdca21af558",
   "metadata": {
    "tags": []
   },
   "outputs": [],
   "source": [
    "git status # u.c. what is going on, right branch right file...?"
   ]
  },
  {
   "cell_type": "code",
   "execution_count": null,
   "id": "ebb348c5-bcd3-4173-b913-c94eb770f030",
   "metadata": {
    "tags": []
   },
   "outputs": [],
   "source": [
    "!git add . # or stage all changes"
   ]
  },
  {
   "cell_type": "code",
   "execution_count": null,
   "id": "660922b2-a3a8-48eb-8feb-f57b1ac5aa2f",
   "metadata": {
    "tags": []
   },
   "outputs": [],
   "source": [
    "!git status"
   ]
  },
  {
   "cell_type": "code",
   "execution_count": null,
   "id": "19f7cd3a",
   "metadata": {
    "tags": []
   },
   "outputs": [],
   "source": [
    "!git rm -r --cached your_name.Extentiondosntmatter # this deletion will be tacked by git"
   ]
  },
  {
   "cell_type": "markdown",
   "id": "43bbb7a8",
   "metadata": {},
   "source": [
    "# <b> 5. Commit, save staged changes "
   ]
  },
  {
   "cell_type": "code",
   "execution_count": null,
   "id": "3995af71-1841-4723-8c54-d9eec3d28892",
   "metadata": {
    "tags": []
   },
   "outputs": [],
   "source": [
    "!git add Go_here_after_README_done.ipynb"
   ]
  },
  {
   "cell_type": "code",
   "execution_count": null,
   "id": "3e70659b-f334-4664-bdbf-83233015b3c1",
   "metadata": {
    "tags": []
   },
   "outputs": [],
   "source": [
    "!git commit -m 'bash old scool'"
   ]
  },
  {
   "cell_type": "markdown",
   "id": "ad7c42bd-81fa-4101-8e39-627d1de527e1",
   "metadata": {},
   "source": [
    "# <b> 6. Forward to the past "
   ]
  },
  {
   "cell_type": "markdown",
   "id": "f305e758-2c92-4720-8d80-a23c3192780e",
   "metadata": {
    "tags": []
   },
   "source": [
    "<b><br> With this command you display all your commits, with meaningfull comments."
   ]
  },
  {
   "cell_type": "code",
   "execution_count": null,
   "id": "ffc4c4d0-305d-4f6e-8547-0cc37a3d8c5e",
   "metadata": {
    "tags": []
   },
   "outputs": [],
   "source": [
    "!git log --pretty=oneline"
   ]
  },
  {
   "cell_type": "markdown",
   "id": "72779c08-a25b-4b0d-ae34-e6eeadf27887",
   "metadata": {
    "tags": []
   },
   "source": [
    "<b><br> With the command ```git reset --hard commitID``` you can go back in time."
   ]
  },
  {
   "cell_type": "markdown",
   "id": "994da26b-7de1-45b1-a88d-a179386dbfb0",
   "metadata": {},
   "source": [
    "# <b> 7. Push it to origins right branch"
   ]
  },
  {
   "cell_type": "markdown",
   "id": "c96f3cc2-9aff-4452-9187-f6fd78eb4423",
   "metadata": {
    "tags": []
   },
   "source": [
    "When you push your changes to the origin, the owner will be asked if he likes to merge it to the main branch.\n",
    "So do not worry will not destroy the running webapplication..."
   ]
  },
  {
   "cell_type": "code",
   "execution_count": null,
   "id": "6eb72c4f-b109-4174-831b-94e8bcbb1056",
   "metadata": {
    "tags": []
   },
   "outputs": [],
   "source": [
    "!git push --set-upstream origin"
   ]
  },
  {
   "cell_type": "markdown",
   "id": "03bfd1a9-a164-4bf0-9954-077dec0617b5",
   "metadata": {},
   "source": [
    "# <b> 8. Look at your project-gitlab-site\n",
    "\n",
    "<b>Find your new branch and merge it into the main."
   ]
  },
  {
   "cell_type": "markdown",
   "id": "06a84689-058a-417c-9e27-82d5373b37b1",
   "metadata": {},
   "source": [
    "# <b> 8. How to continue"
   ]
  },
  {
   "cell_type": "markdown",
   "id": "44342e33-3d62-41e2-b6b3-dcc202256e73",
   "metadata": {
    "tags": []
   },
   "source": [
    "<b> Just click on the folder demonstration. And then click on the Notebook ``` 01_DT_bash_intro.ipynb ``` to continue."
   ]
  }
 ],
 "metadata": {
  "kernelspec": {
   "display_name": "Bash",
   "language": "bash",
   "name": "bash"
  },
  "language_info": {
   "codemirror_mode": "shell",
   "file_extension": ".sh",
   "mimetype": "text/x-sh",
   "name": "bash"
  }
 },
 "nbformat": 4,
 "nbformat_minor": 5
}
