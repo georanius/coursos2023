{
 "cells": [
  {
   "cell_type": "markdown",
   "metadata": {},
   "source": [
    "# Digitale Techniken: Installation of Python\n",
    "2023-10, johanna.kerch@uni-goettingen.de, goeran.liebs@uni-goettingen.de\n",
    "\n",
    "\n",
    "<img src=\"https://mirrors.creativecommons.org/presskit/buttons/88x31/png/by-nc-sa.png\" style=\"height:50px\" align=\"left\"/> <br><br>\n",
    "\n",
    "https://creativecommons.org/licenses/by-nc-sa/4.0/"
   ]
  },
  {
   "cell_type": "markdown",
   "metadata": {
    "tags": []
   },
   "source": [
    "### Independend installation of Python\n",
    "\n",
    "If you like to run python and jupyter on a computer, follow the recommendation regarding your operations system (OS) and python distripution. Best way is to run a programm (e.g. docker, wmware) that runs an other comupter on a computer. That leaves your own OS (host) unchanged and allows you to run your code within its own computer, that includs only the required installations or python versions or distributions. And you are able to run your code on any computing device (e.g. smartphones, serverfarms, etc.) where you can install such virtualization programms.  \n",
    "Make a list from online profiders for python and jupyter labs, like https://www.pythonanywhere.com/user/goeran/consoles/30435343/ or https://aws.amazon.com/de/getting-started/hands-on/get-started-dlami/, etc.\n",
    "Or make an old labtop (64 bit) to your working mashing by installing linux with a live USB boot. https://ubuntu.com/tutorials/create-a-usb-stick-on-windows#1-overview"
   ]
  },
  {
   "cell_type": "markdown",
   "metadata": {
    "tags": []
   },
   "source": [
    "### Python distributions and versions\n",
    " A distribution of Python is a bundle that contains an implementation of Python along with a bunch of libraries or tools (e.g. Anaconda).\n",
    " Python has several versions, thus it is important that you choose the rigth, when you are involved in a project or want to run a downloaded source code.\n",
    " Preferably in a virtual environement, or docker container or similair.\n",
    " \n",
    "### Python standard library\n",
    "This are the functionalities provided by python without importing additional modules.\n",
    "https://docs.python.org/3/library/index.html"
   ]
  },
  {
   "cell_type": "markdown",
   "metadata": {
    "tags": []
   },
   "source": [
    "### Installation of Jupyter, Jupyterlab, Jupyterhub\n",
    "The installation of Jupyter* can be done with python package manager and the command ```pip install jupyterlab``` or with anaconda or docker via a line executed in your terminal.\n",
    "This will run a seperate computer on your computer that displays its interface in your browser.\n",
    "Today we use such a virtual computer running in the cloud (GWDG Rechenzentrum) or any where from an other profider... go find some more.\n",
    "\n",
    "Later in this notebook we will understand that we just installed a python package with modules. In summery we install a python package to implement python code in a nice browser application."
   ]
  },
  {
   "cell_type": "markdown",
   "metadata": {},
   "source": [
    "### Jupyter Notebook, behind the scenes, making of"
   ]
  },
  {
   "cell_type": "markdown",
   "metadata": {},
   "source": [
    "Traditionally, python can be used in a python-interpreter running in the terminal. That means, you type python3 in the terminal, hit enter and your are ready to execute single lines of python code. If you wish to run code of more lines, you put them correctly in a file with the extension ```.py```.\n",
    "This script will run with the command ``` python3 yourscriptname.py ``` in the terminal. Including as first line ```#!/usr/bin python3``` a python script can be run with ```./yourscriptname.py``` in the terminal, after changing the user-rights of the file to executable with the command ```chmod +x yourscriptname.py``` .\n",
    "<br>\n",
    "Sounds complicated. Thus, enjoy executable cells in a Jupyter Notebook. Like this one, you are reading now. \n",
    "In the next cell we display the first 60 Lines of this notebook, with the bash command. Try to recognice the titles and the executable cells with python code or the next cell.<br>"
   ]
  },
  {
   "cell_type": "code",
   "execution_count": null,
   "metadata": {
    "tags": []
   },
   "outputs": [],
   "source": [
    "!head -n160 02_DT_python_basics.ipynb #enjoy a notebook as it is, a text file following some java and internetstandarts"
   ]
  },
  {
   "cell_type": "markdown",
   "metadata": {},
   "source": [
    "Dokumentation: https://jupyterlab.readthedocs.io/en/stable/index.html, https://astrofrog.github.io/py4sci/, Tutorial recommendations: https://wiki.python.org/moin/BeginnersGuide/NonProgrammers, and many more for any level or purpose."
   ]
  },
  {
   "cell_type": "markdown",
   "metadata": {},
   "source": [
    "### Creation, Installation and Import of a Python module"
   ]
  },
  {
   "cell_type": "markdown",
   "metadata": {},
   "source": [
    "What is a module? What types of modules are there? Just to remember...\n",
    "\n",
    "1. you can write, compile and import self-written modules containing functions, classes in a folder e.g. ``src``\n",
    "\n",
    "2. you can import available (open-source) third-party modules/libraries after installing them with ```!pip ...```, in contrast to standart modules comming with your python distribution (e.g. math).<br>\n",
    "   \n",
    "3. write something yourself, or check if the functionality has not already been implemented, reproducible, or an other package..."
   ]
  },
  {
   "cell_type": "markdown",
   "metadata": {},
   "source": [
    "Examples: \n",
    "\n",
    "* ``math``: accessing many built-in mathematical functions\n",
    "* ``numpy, pandas, geopandas...``: working with n-dim. arrays\n",
    "* ``matplotlib, geoplot...`` : creating plots\n",
    "* ``segyio``: reading/processing seismic data\n",
    "*  https://github.com/javedali99/python-resources-for-earth-sciences\n"
   ]
  },
  {
   "cell_type": "markdown",
   "metadata": {},
   "source": [
    "### Import modules"
   ]
  },
  {
   "cell_type": "markdown",
   "metadata": {
    "tags": []
   },
   "source": [
    "If you like to do special opperations, you may choose modules from a variety, \n",
    "according to your purpose (e.g. math, pvpn ). "
   ]
  },
  {
   "cell_type": "code",
   "execution_count": null,
   "metadata": {},
   "outputs": [],
   "source": [
    "import math \n",
    "# this imports a python module\n",
    "# functions and classes for specific programming purpose...here higher math\n",
    "math.sin(90 * math.pi/180) # here we call the function or methode of the math module"
   ]
  },
  {
   "cell_type": "markdown",
   "metadata": {},
   "source": [
    "What do you need to keep in mind for this module?\n",
    "\n",
    "- special functions and constants (sin, cos, pi...) need a module, e.g. ``math``\n",
    "- trigonometrical functions: angles in rad = deg/180*$\\pi$\n",
    "- decimal power: 100000 $\\rightarrow$ ``10e4``\n",
    "- complex numbers: ``complex(a,b)``\n",
    "- mixing numeric types: e.g. float + integer $\\rightarrow$ float"
   ]
  },
  {
   "cell_type": "markdown",
   "metadata": {},
   "source": [
    "### Install modules"
   ]
  },
  {
   "cell_type": "code",
   "execution_count": null,
   "metadata": {
    "tags": []
   },
   "outputs": [],
   "source": [
    "!pip install segyio #just an example (Seismic), to install one direkt from the online-resource "
   ]
  },
  {
   "cell_type": "markdown",
   "metadata": {},
   "source": [
    "By default, pip will bring packages from Python Package Index (https://pypi.org/), a repository of software for the Python programming language where anyone can upload packages."
   ]
  },
  {
   "cell_type": "code",
   "execution_count": null,
   "metadata": {
    "tags": []
   },
   "outputs": [],
   "source": [
    "!pip list #check out your installed packages"
   ]
  },
  {
   "cell_type": "code",
   "execution_count": null,
   "metadata": {
    "tags": []
   },
   "outputs": [],
   "source": [
    "help('tornado')"
   ]
  },
  {
   "cell_type": "markdown",
   "metadata": {},
   "source": [
    "## Do not forget the environment \n",
    "#### Python virtual environments\n",
    "\n",
    "Python virtual environments give you the ability to isolate your Python development projects from your operating system installed Python and other Python environments. This gives you full control of your project, by just incountering needed modules and makes it easily reproducible, for other individuals on other mashines.\n",
    "After a while programming python, you will have a large number of modules installed. And it might be confusing which package was for which project.\n",
    "Thus you can use pythons (or anacondas) virtual environment feature. \n",
    "\n",
    "\n",
    "With the examples below in the console you might create special environemts from cloned software projects, running isolatet from your mashine.\n",
    "Remark the files requirements.txt, environment.yml or conda_env.yml and setup.py that contain a sort of recipie to back your environment.\n",
    "Try this following examples in the TERMINAL, or transver them with a repo of your choise! \n",
    "For more information, consult the profiders site https://docs.gwdg.de/doku.php?id=en:services:application_services:jupyter:start#selecting_a_notebook_image"
   ]
  },
  {
   "cell_type": "markdown",
   "metadata": {
    "tags": []
   },
   "source": [
    "## Change your kernel on Jupiter\n",
    "\n",
    "Jupyter is able to run code in diverent languages, thus we install your fresh created environemnts as kernel in the jupyterhub.\n",
    "With ```ipython kernel install --name \"YourCoolEnvironment\" --user```"
   ]
  },
  {
   "cell_type": "markdown",
   "metadata": {
    "tags": []
   },
   "source": [
    "## Enjoy and try the following examples... <br>of environment creation for science out of the box\n",
    "Execute the following lines (each for each) in your terminal of your jupyterlab (click file, New, Terminal)."
   ]
  },
  {
   "cell_type": "code",
   "execution_count": null,
   "metadata": {},
   "outputs": [],
   "source": [
    "cd     #get out of here...to home directori                                               "
   ]
  },
  {
   "cell_type": "code",
   "execution_count": null,
   "metadata": {},
   "outputs": [],
   "source": [
    "git clone -b v3.1.0 https://github.com/opesci/devito  #clone a repository of your choise"
   ]
  },
  {
   "cell_type": "code",
   "execution_count": null,
   "metadata": {},
   "outputs": [],
   "source": [
    "cd devito/                                     #go in that cloned folder"
   ]
  },
  {
   "cell_type": "code",
   "execution_count": null,
   "metadata": {},
   "outputs": [],
   "source": [
    "python3 -m venv devitoEnv               #create a Python Environment with python, try also pip and conda mamba"
   ]
  },
  {
   "cell_type": "code",
   "execution_count": null,
   "metadata": {
    "tags": []
   },
   "outputs": [],
   "source": [
    "source devitoEnv/bin/activate             #activate the Environment... The Name of Environment should be appear in the beginning of your command line"
   ]
  },
  {
   "cell_type": "code",
   "execution_count": null,
   "metadata": {
    "tags": []
   },
   "outputs": [],
   "source": [
    "pip install -r requirements.txt                    #put all that required stuff in that Environment"
   ]
  },
  {
   "cell_type": "code",
   "execution_count": null,
   "metadata": {},
   "outputs": [],
   "source": [
    "pip install jupyter                                    #Ah yes we need jupyter"
   ]
  },
  {
   "cell_type": "code",
   "execution_count": null,
   "metadata": {},
   "outputs": [],
   "source": [
    "python3 -m ipykernel install --user --name devitoEnv --display-name \"devitoEnvKernel\"  ####and with this we make a kernel from that environment, to run it for a jupyternotebook"
   ]
  },
  {
   "cell_type": "markdown",
   "metadata": {},
   "source": [
    "### And then you have to restart jupyterserver (klick file and than hub control panel) and then you find your new kernel in the right upper corner."
   ]
  },
  {
   "cell_type": "code",
   "execution_count": null,
   "metadata": {
    "tags": []
   },
   "outputs": [],
   "source": [
    "jupyter kernelspec list  ##guess what\n",
    "jupyter kernelspec remove <kernel-name>  ##clean up  "
   ]
  },
  {
   "cell_type": "markdown",
   "metadata": {},
   "source": [
    "### Variation over a theme: an environment with anaconda/mamba\n",
    "<b> please, try this two examples in your commando console, and check that you are able to run jupyternotebooks with the special kernels, some thing like a special computer with special programms for your special development project. If you fail... do some thing else and retry later. Because that's already fare away from easy programming, but crucial to be an enlightened snake charmer.\n",
    "    "
   ]
  },
  {
   "cell_type": "code",
   "execution_count": null,
   "metadata": {},
   "outputs": [],
   "source": [
    "## example 1\n",
    "git clone https://github.com/malcolmw/pykonal.git\n",
    ". /opt/conda/etc/profile.d/conda.sh\n",
    "mamba create -y --prefix ./pykoenv\n",
    "conda activate /home/jovyan/pykoenv/\n",
    "cd pykonal/\n",
    "pip install .\n",
    "pip install jupyter\n",
    "python3 -m ipykernel install --user --name pykoenv --display-name \"PyKokern\"\n",
    "####here restart your jupytercloudlab, click File and than Hub-Control-Panel\n",
    "####and have fun with the cloned repository and its own environement..."
   ]
  },
  {
   "cell_type": "code",
   "execution_count": null,
   "metadata": {},
   "outputs": [],
   "source": [
    "## example 11\n",
    "git clone https://github.com/gprMax/gprMax.git\n",
    "cd gprMax\n",
    "conda env create -f conda_env.yml\n",
    "conda activate /home/jovyan/gprMax/\n",
    "python setup.py build\n",
    "python setup.py install\n",
    "python -m ipykernel install --user --name gprMax --display-name \"gprMaxkernel\"\n",
    "####here restart your jupytercloudlab, click File and than Hub-Control-Panel\n",
    "####and have fun with the cloned repository and its own environement..."
   ]
  },
  {
   "cell_type": "code",
   "execution_count": null,
   "metadata": {
    "tags": []
   },
   "outputs": [],
   "source": [
    "###And don't forget to commit your improvements:\n",
    "\n",
    "!git add 010_DT_python_installation.ipynb\n",
    "\n",
    "!git commit -m 'play, play thermal'\n",
    "\n",
    "!git push --set-upstream origin main"
   ]
  },
  {
   "cell_type": "markdown",
   "metadata": {
    "tags": []
   },
   "source": [
    "### Now let`s continue with demonstration/012_DT_python_variables.ipynb, with the coding stuff."
   ]
  }
 ],
 "metadata": {
  "kernelspec": {
   "display_name": "Python 3 (ipykernel)",
   "language": "python",
   "name": "python3"
  },
  "language_info": {
   "codemirror_mode": {
    "name": "ipython",
    "version": 3
   },
   "file_extension": ".py",
   "mimetype": "text/x-python",
   "name": "python",
   "nbconvert_exporter": "python",
   "pygments_lexer": "ipython3",
   "version": "3.10.10"
  }
 },
 "nbformat": 4,
 "nbformat_minor": 4
}
