{
 "cells": [
  {
   "cell_type": "code",
   "execution_count": null,
   "id": "4465de81-3726-43bb-aa73-0964c57667a6",
   "metadata": {
    "tags": []
   },
   "outputs": [],
   "source": [
    "#!python -m venv eikffm_env"
   ]
  },
  {
   "cell_type": "code",
   "execution_count": null,
   "id": "2a2724b6-e182-4ef9-82f9-cd18de0df234",
   "metadata": {
    "tags": []
   },
   "outputs": [],
   "source": [
    "#!source eikffm_env/bin/activate"
   ]
  },
  {
   "cell_type": "code",
   "execution_count": null,
   "id": "9101f892-5d8b-4b09-98f3-a8611384ad5f",
   "metadata": {
    "tags": []
   },
   "outputs": [],
   "source": [
    "#!pip install ipykernel"
   ]
  },
  {
   "cell_type": "raw",
   "id": "f7cd0b37-fe1d-4cf3-b46f-4ed381691c6f",
   "metadata": {},
   "source": [
    "# shows you the list of kernels you added\n",
    "jupyter kernelspec list\n",
    "jupyter kernelspec uninstall my-env"
   ]
  },
  {
   "cell_type": "code",
   "execution_count": null,
   "id": "25b4096f-20c7-49ec-8346-286729ef27ab",
   "metadata": {
    "id": "PqmqsPWnoM0d",
    "tags": []
   },
   "outputs": [],
   "source": [
    "##from source\n",
    "#!pip install git+https://github.com/kevinganster/eikonalfm.git\n",
    "\n",
    "## or as pip \n",
    "#!pip install eikonalfm==0.9.5 # for reference solution (2nd-order factored FMM)"
   ]
  },
  {
   "cell_type": "raw",
   "id": "d353fa59-bdcc-4052-8b21-48dc517d260a",
   "metadata": {
    "tags": []
   },
   "source": [
    "#!pip install holoviews"
   ]
  },
  {
   "cell_type": "code",
   "execution_count": null,
   "id": "b43f3ea0-9c77-435f-bb0a-24a4126492ab",
   "metadata": {
    "tags": []
   },
   "outputs": [],
   "source": [
    "#!python -m ipykernel install --user --name=eikffm_env"
   ]
  },
  {
   "cell_type": "code",
   "execution_count": null,
   "id": "6ee0ca8b-a544-4615-bffc-02b31ee98419",
   "metadata": {
    "id": "PqmqsPWnoM0d",
    "tags": []
   },
   "outputs": [],
   "source": [
    "#from IPython.display import clear_output\n",
    "#clear_output()"
   ]
  },
  {
   "cell_type": "code",
   "execution_count": 11,
   "id": "38b9bfea-b8e5-4c16-8ae0-3f2932cb8792",
   "metadata": {
    "id": "PqmqsPWnoM0d",
    "tags": []
   },
   "outputs": [],
   "source": [
    "import numpy as np\n",
    "import eikonalfm\n",
    "\n",
    "#c = np.ones((100, 100))\n",
    "c= np.ones((100,100))\n",
    "c[0:50,:]=np.full((50,100,),0.4)\n",
    "x_s = (0, 50)\n",
    "dx = (1.0, 1.0)\n",
    "order = 2\n",
    "\n",
    "tau_fm = eikonalfm.fast_marching(c, x_s, dx, order)\n",
    "tau1_ffm = eikonalfm.factored_fast_marching(c, x_s, dx, order)"
   ]
  },
  {
   "cell_type": "code",
   "execution_count": 13,
   "id": "5bdcc69d-78f9-46ab-9477-0e2146e9ffca",
   "metadata": {},
   "outputs": [
    {
     "data": {
      "image/png": "[encoded data removed]",
      "text/plain": [
       "<Figure size 640x480 with 1 Axes>"
      ]
     },
     "metadata": {},
     "output_type": "display_data"
    }
   ],
   "source": [
    "import matplotlib.pyplot as plt\n",
    "\n",
    "# for the distance-function 'x_s' also describes an index-vector\n",
    "tau0 = eikonalfm.distance(tau1_ffm.shape, dx, x_s, indexing=\"ij\")\n",
    "#plt.contourf(tau0 * tau1_ffm)\n",
    "plt.contourf(tau_fm)\n",
    "plt.show()"
   ]
  }
 ],
 "metadata": {
  "kernelspec": {
   "display_name": "eikffm_env",
   "language": "python",
   "name": "eikffm_env"
  },
  "language_info": {
   "codemirror_mode": {
    "name": "ipython",
    "version": 3
   },
   "file_extension": ".py",
   "mimetype": "text/x-python",
   "name": "python",
   "nbconvert_exporter": "python",
   "pygments_lexer": "ipython3",
   "version": "3.10.10"
  }
 },
 "nbformat": 4,
 "nbformat_minor": 5
}
