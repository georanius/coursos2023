{
 "cells": [
  {
   "cell_type": "markdown",
   "metadata": {},
   "source": [
    "# <b> Digitale Techniken: Introduction to Python | control flow and functions\n",
    "2023-10, johanna.kerch@uni-goettingen.de, goeran.liebs@uni-goettingen.de\n",
    "\n",
    "<img src=\"https://mirrors.creativecommons.org/presskit/buttons/88x31/png/by-nc-sa.png\" style=\"height:50px\" align=\"left\"/> <br><br>\n",
    "\n",
    "https://creativecommons.org/licenses/by-nc-sa/4.0/"
   ]
  },
  {
   "cell_type": "markdown",
   "metadata": {},
   "source": [
    "Resources used for this jupyter notebook:<br>\n",
    "https://astrofrog.github.io/py4sci/"
   ]
  },
  {
   "cell_type": "markdown",
   "metadata": {},
   "source": [
    "# <b>Automating tasks and decisions with loops and conditions.\n",
    "\n",
    "<b>With a loop you repeat the same task for a number of iterations or a contition is fulfilled.\n",
    "Also, stating conditions allows to further control how the program proceeds."
   ]
  },
  {
   "cell_type": "markdown",
   "metadata": {},
   "source": [
    "### <b> The``if`` statements\n",
    "Some times we have to make a decision to continue with an action depending on a condition.\n",
    "Execute some code if a condition is true (boolean value).\n",
    "- comparisons (```==, <=, >= !=, <, >```)\n",
    "- logical operators (``and, or, not``)"
   ]
  },
  {
   "cell_type": "code",
   "execution_count": null,
   "metadata": {
    "tags": []
   },
   "outputs": [],
   "source": [
    "aBooleanVariablename = (5==5 and 6<=6 or not 6>=5) # feel free to try out all...\n",
    "print(aBooleanVariablename)"
   ]
  },
  {
   "cell_type": "markdown",
   "metadata": {},
   "source": [
    "### <b>As pseudo-code we write:\n",
    "\n",
    "```bash\n",
    "if condition:\n",
    "        # do something\n",
    "    elif condition:\n",
    "        # do something else\n",
    "    else:\n",
    "        # do yet something else\n",
    "```\n",
    "\n",
    "\n",
    "### <b>in R (and C++), brackets are used:\n",
    "```R\n",
    "    if (condition) {\n",
    "        # do something\n",
    "    }\n",
    "  ```\n",
    "\n",
    "### <b>in Bash, other brackets are used and more words are needed:\n",
    "```bash    \n",
    "    if [ -d \"data\" ]; then\n",
    "        echo \"folder already exists and will be removed\"\n",
    "        rm -d data\n",
    "    else \n",
    "        echo \"folder will be created\"\n",
    "        mkdir data\n",
    "    fi\n",
    "```"
   ]
  },
  {
   "cell_type": "markdown",
   "metadata": {},
   "source": [
    "### <b>Every language has it's own formulation of this purpose, remember in Python:\n",
    "- colon after, ```if statement:```\n",
    "- indentation of 4 spaces for the resulting action"
   ]
  },
  {
   "cell_type": "code",
   "execution_count": null,
   "metadata": {
    "tags": []
   },
   "outputs": [],
   "source": [
    "# example\n",
    "\n",
    "import random \n",
    "\n",
    "numbers = [6,7,13,26,42]\n",
    "x = random.choice(numbers)\n",
    "\n",
    "if x == 42:\n",
    "    print(x,' is the ultimate answer to life, universe and everything')\n",
    "else:\n",
    "    print(x,\" is a nice number, because it's random\")"
   ]
  },
  {
   "cell_type": "markdown",
   "metadata": {},
   "source": [
    "### <b> ``for`` loops over lists, ranges and dictonaries"
   ]
  },
  {
   "cell_type": "markdown",
   "metadata": {},
   "source": [
    "Execute some code multiple times.\n",
    "- iterable (lists, strings)\n",
    "- range\n",
    "- dictionary"
   ]
  },
  {
   "cell_type": "code",
   "execution_count": null,
   "metadata": {
    "tags": []
   },
   "outputs": [],
   "source": [
    "for x in [1,2,3,'polizei','3',[['crazy','list'],7,'mehr'], 'kölsche Bier']:  #no index used\n",
    "    print(x)"
   ]
  },
  {
   "cell_type": "code",
   "execution_count": null,
   "metadata": {
    "tags": []
   },
   "outputs": [],
   "source": [
    "# using range function to produce sequence of integers: range(start,stop[,step]) produces right-open interval [start,stop[\n",
    "for i in range(176,200,7):\n",
    "    print(i)"
   ]
  },
  {
   "cell_type": "code",
   "execution_count": null,
   "metadata": {
    "tags": []
   },
   "outputs": [],
   "source": [
    "dic = {'whateverKey':'apple', 2:'banana', 3:'cherry',7:'apple', 9:'banana', 2:'UhhaValuewithNonunicKey'} #whats wrong here?\n",
    "for key in dic:\n",
    "    print(key)\n",
    "    print(dic[key])"
   ]
  },
  {
   "cell_type": "markdown",
   "metadata": {},
   "source": [
    "### <b> Give me a ```while```"
   ]
  },
  {
   "cell_type": "code",
   "execution_count": null,
   "metadata": {
    "tags": []
   },
   "outputs": [],
   "source": [
    "i = 0\n",
    "Ourkeys=list(dic.keys())\n",
    "print(Ourkeys)\n",
    "while i <= len(Ourkeys)-1:   \n",
    "    \n",
    "    #print(i)\n",
    "    print(dic[Ourkeys[i]])\n",
    "    i=i+1"
   ]
  },
  {
   "cell_type": "code",
   "execution_count": null,
   "metadata": {
    "tags": []
   },
   "outputs": [],
   "source": [
    "for v in dic.items():\n",
    "    print(v)"
   ]
  },
  {
   "cell_type": "markdown",
   "metadata": {},
   "source": [
    "### <b>Practice: Have a break\n",
    "\n",
    "look up functionality ``break`` change the  positions of print()-function, the numbers, ... and comment"
   ]
  },
  {
   "cell_type": "code",
   "execution_count": null,
   "metadata": {
    "tags": []
   },
   "outputs": [],
   "source": [
    "#comment here what is going on\n",
    "for i in range(20): # please give a comment\n",
    "    print('stops after brpoint is reached',+i)\n",
    "    if i == 3: \n",
    "        print('breaks at brpoint, i == 3')\n",
    "        break\n",
    "        print('this will not be exacuted')\n",
    "    print(i)\n",
    "    \n",
    "#print(i)"
   ]
  },
  {
   "cell_type": "code",
   "execution_count": null,
   "metadata": {
    "tags": []
   },
   "outputs": [],
   "source": [
    "# find first 6 multiples of 7\n",
    "i = 1\n",
    "\n",
    "while i <= 77777:\n",
    "    print('7 * ',(i), '=',7 * i)\n",
    "\n",
    "    if i >= 6:\n",
    "        break\n",
    "        print('Hello')\n",
    "    i = i + 1"
   ]
  },
  {
   "cell_type": "markdown",
   "metadata": {},
   "source": [
    "### <b>Creativ training: Miss a turn and continue:\n",
    "\n",
    "look up functionality ``continue``, change the  positions of print() functions"
   ]
  },
  {
   "cell_type": "code",
   "execution_count": null,
   "metadata": {
    "tags": []
   },
   "outputs": [],
   "source": [
    "for i in range(6): \n",
    "    if i == 3:\n",
    "        continue\n",
    "        print('Nothing happens, where is the 3')\n",
    "    print(i)"
   ]
  },
  {
   "cell_type": "code",
   "execution_count": null,
   "metadata": {
    "tags": []
   },
   "outputs": [],
   "source": [
    "num = 0\n",
    "\n",
    "while num < 20:\n",
    "    num += 1\n",
    "    #print(num)\n",
    "    if (num % 3) == 0:\n",
    "        print('Just this iteration '+str(num))\n",
    "        continue\n",
    "        #print('Nothing happens')\n",
    "#print(num)\n",
    "    "
   ]
  },
  {
   "cell_type": "markdown",
   "metadata": {},
   "source": [
    "### <b> Exercise\n",
    "\n",
    "<b>Write some control flow yourself, inspired by this examples."
   ]
  },
  {
   "cell_type": "markdown",
   "metadata": {
    "tags": []
   },
   "source": [
    "#### if statement\n",
    "import random \n",
    "\n",
    "guess_range = 6\n",
    "answer = random.randint(1, guess_range)\n",
    "\n",
    "userInput = input(\"Go guess, which number i computed, type a number between 1 and \" + str(guess_range) + \":  \")\n",
    "guess = int(userInput)\n",
    "print(type(userInput))\n",
    "\n",
    "if guess == answer:\n",
    "    print('Well donne, clairvoyant')\n",
    "else:\n",
    "    print('please try again later, ',answer, 'was the answer')\n",
    "        \n",
    "     "
   ]
  },
  {
   "cell_type": "markdown",
   "metadata": {
    "tags": []
   },
   "source": [
    "### Examples "
   ]
  },
  {
   "cell_type": "code",
   "execution_count": null,
   "metadata": {
    "tags": []
   },
   "outputs": [],
   "source": [
    "# for loop over range\n",
    "scores = [54,67,48,99,27]\n",
    "for i in range(len(scores)):\n",
    "   print(i, scores[i])\n",
    "\n",
    "#nicer for loop for python\n",
    "#you can use it for other data types like strings, tuples, and dictionaries.\n",
    "\n",
    "dic = {'idx1':'Queen', 'idx2':'King', 'idx3':'Advisor'}\n",
    "for i, score in enumerate(dic):\n",
    "   print(i, score, dic[score])"
   ]
  },
  {
   "cell_type": "code",
   "execution_count": null,
   "metadata": {
    "tags": []
   },
   "outputs": [],
   "source": [
    "import random\n",
    "#SET your PASSWORD here random numbers between 3 and 23\n",
    "securecode = [4,5,22]#random.sample(range(3, 23), 3)\n",
    "\n",
    "hackerattemt = random.sample(range(3, 23), 3)\n",
    "\n",
    "attemtnr=0\n",
    "while securecode!=hackerattemt:\n",
    "    hackerattemt = random.sample(range(3, 23), 3)\n",
    "    attemtnr+=1\n",
    "print(\"Your password\", securecode, \"was chracked after\", attemtnr, \"attemts\")\n",
    "\n"
   ]
  },
  {
   "cell_type": "markdown",
   "metadata": {
    "tags": []
   },
   "source": [
    "## ... tracking changes....\n",
    "!git checkout -B  NoBranchB #Attention that will blow up a new branch... of your forked, but you might merge it, if its better now#\n",
    "\n",
    "!git add 020_DT_py_controlflow.ipynb #or use --all\n",
    "\n",
    "!git commit -m 'all FLows'\n",
    "\n",
    "!git push --set-upstream origin student_1_Branch"
   ]
  }
 ],
 "metadata": {
  "kernelspec": {
   "display_name": "Python 3 (ipykernel)",
   "language": "python",
   "name": "python3"
  },
  "language_info": {
   "codemirror_mode": {
    "name": "ipython",
    "version": 3
   },
   "file_extension": ".py",
   "mimetype": "text/x-python",
   "name": "python",
   "nbconvert_exporter": "python",
   "pygments_lexer": "ipython3",
   "version": "3.10.10"
  }
 },
 "nbformat": 4,
 "nbformat_minor": 4
}
