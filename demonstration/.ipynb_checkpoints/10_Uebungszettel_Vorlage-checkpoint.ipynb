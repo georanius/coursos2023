{
 "cells": [
  {
   "cell_type": "markdown",
   "metadata": {
    "tags": []
   },
   "source": [
    "## Exercise\n",
    "\n",
    "Try to implement the following tasks.<br>Ask me, if you need more explanation!"
   ]
  },
  {
   "cell_type": "markdown",
   "metadata": {},
   "source": [
    "Outline:\n",
    "- a variable (a) with the value 6.7 as an integer  and a float\n",
    "- a list with at least 5 elements of mixed type\n",
    "- a string which includes white space\n",
    "- a dictionary with translates words of a simple sentence between English and German"
   ]
  },
  {
   "cell_type": "markdown",
   "metadata": {
    "nbgrader": {
     "grade": true,
     "grade_id": "intdev",
     "locked": true,
     "points": 1,
     "schema_version": 3,
     "solution": false,
     "task": false
    },
    "tags": []
   },
   "source": [
    " Devine a variable with the name (a) with the value 6.7 as an integer\n",
    " you have to use int() to define an integer variable"
   ]
  },
  {
   "cell_type": "code",
   "execution_count": 41,
   "metadata": {
    "nbgrader": {
     "grade": true,
     "grade_id": "intdev",
     "locked": true,
     "points": 1,
     "schema_version": 3,
     "solution": false,
     "task": false
    },
    "tags": []
   },
   "outputs": [
    {
     "name": "stdout",
     "output_type": "stream",
     "text": [
      "6\n"
     ]
    }
   ],
   "source": [
    "### BEGIN SOLUTION\n",
    "a = int(6.7) \n",
    "### END SOLUTION\n",
    "print(a)"
   ]
  },
  {
   "cell_type": "markdown",
   "metadata": {
    "nbgrader": {
     "grade": true,
     "grade_id": "cell-354d7c8001070292",
     "locked": true,
     "points": 2,
     "schema_version": 3,
     "solution": false,
     "task": false
    },
    "tags": []
   },
   "source": [
    "Devine a variable (b) with the value 6.7 as a float\n",
    " you have to use float() to define a float"
   ]
  },
  {
   "cell_type": "code",
   "execution_count": 42,
   "metadata": {
    "nbgrader": {
     "grade": true,
     "grade_id": "cell-354d7c8001070292",
     "locked": true,
     "points": 2,
     "schema_version": 3,
     "solution": false,
     "task": false
    },
    "tags": []
   },
   "outputs": [
    {
     "name": "stdout",
     "output_type": "stream",
     "text": [
      "6.7\n"
     ]
    }
   ],
   "source": [
    "### BEGIN SOLUTION\n",
    "b = float(6.7)\n",
    "### END SOLUTION\n",
    "print(b)"
   ]
  },
  {
   "cell_type": "markdown",
   "metadata": {
    "nbgrader": {
     "grade": true,
     "grade_id": "cell-dcf421f4c900542d",
     "locked": true,
     "points": 3,
     "schema_version": 3,
     "solution": false,
     "task": false
    },
    "tags": []
   },
   "source": [
    "Devine a variable (c) with the value \"enjoy !\" as string\n",
    "you have to use \"\" to define a string"
   ]
  },
  {
   "cell_type": "code",
   "execution_count": 43,
   "metadata": {
    "nbgrader": {
     "grade": true,
     "grade_id": "cell-dcf421f4c900542d",
     "locked": true,
     "points": 3,
     "schema_version": 3,
     "solution": false,
     "task": false
    },
    "tags": []
   },
   "outputs": [
    {
     "name": "stdout",
     "output_type": "stream",
     "text": [
      "enjoy !\n"
     ]
    }
   ],
   "source": [
    "### BEGIN SOLUTION\n",
    "c = \"enjoy !\"\n",
    "### END SOLUTION\n",
    "print(c)"
   ]
  },
  {
   "cell_type": "markdown",
   "metadata": {
    "nbgrader": {
     "grade": false,
     "grade_id": "cell-a814db0665014c1c",
     "locked": false,
     "schema_version": 3,
     "solution": true,
     "task": false
    },
    "tags": []
   },
   "source": [
    "Devine a list with the name (Liste) containing the variables a,b,c\n",
    " you have to use [] and commas "
   ]
  },
  {
   "cell_type": "code",
   "execution_count": 44,
   "metadata": {
    "nbgrader": {
     "grade": false,
     "grade_id": "cell-a814db0665014c1c",
     "locked": false,
     "schema_version": 3,
     "solution": true,
     "task": false
    },
    "tags": []
   },
   "outputs": [
    {
     "name": "stdout",
     "output_type": "stream",
     "text": [
      "[6, 6.7, 'enjoy !']\n"
     ]
    }
   ],
   "source": [
    "### BEGIN SOLUTION\n",
    "Liste = [a,b,c]\n",
    "### END SOLUTION\n",
    "print(Liste)"
   ]
  },
  {
   "cell_type": "markdown",
   "metadata": {
    "tags": []
   },
   "source": [
    "Devine a variable called Listenlaenge containing the lenght of the list named Liste\n",
    "\n",
    " you have to use the build-in function len()"
   ]
  },
  {
   "cell_type": "code",
   "execution_count": 45,
   "metadata": {
    "tags": []
   },
   "outputs": [
    {
     "name": "stdout",
     "output_type": "stream",
     "text": [
      "3\n"
     ]
    }
   ],
   "source": [
    "### BEGIN SOLUTION\n",
    "Listenlaenge = len(Liste)\n",
    "### END SOLUTION\n",
    "print(Listenlaenge)"
   ]
  },
  {
   "cell_type": "markdown",
   "metadata": {
    "tags": []
   },
   "source": [
    "Devine a list named Liste_in_Liste containing the objects a,b,c and Liste"
   ]
  },
  {
   "cell_type": "code",
   "execution_count": 46,
   "metadata": {
    "tags": []
   },
   "outputs": [
    {
     "data": {
      "text/plain": [
       "list"
      ]
     },
     "execution_count": 46,
     "metadata": {},
     "output_type": "execute_result"
    }
   ],
   "source": [
    "### BEGIN SOLUTION\n",
    "Liste_in_Liste = [a,b,c,Liste]\n",
    "### END SOLUTION\n",
    "type(Liste_in_Liste)"
   ]
  },
  {
   "cell_type": "markdown",
   "metadata": {
    "tags": []
   },
   "source": [
    " access the fourth element of Liste that is the third element of Liste_in_Liste by using double indices and [][]"
   ]
  },
  {
   "cell_type": "code",
   "execution_count": 47,
   "metadata": {
    "tags": []
   },
   "outputs": [
    {
     "name": "stdout",
     "output_type": "stream",
     "text": [
      "enjoy !\n"
     ]
    }
   ],
   "source": [
    "print(\n",
    "### BEGIN SOLUTION\n",
    "    Liste_in_Liste[3][2]\n",
    "### END SOLUTION\n",
    "    )"
   ]
  },
  {
   "cell_type": "markdown",
   "metadata": {
    "tags": []
   },
   "source": [
    "Devine a dictionary named translate containing the keys (\"the\", \"tree\", \"has\", \"green\", \"leaves\", 5,6,7)\n",
    " and the values (\"der\", \"Baum\", \"hat\", \"gelbe\", \"Blaetter\", \"numbers as well\",6,7)"
   ]
  },
  {
   "cell_type": "code",
   "execution_count": 48,
   "metadata": {
    "tags": []
   },
   "outputs": [
    {
     "name": "stdout",
     "output_type": "stream",
     "text": [
      "{'the': 'der', 'tree': 'Baum', 'has': 'hat', 'yellow': 'gelbe', 'leaves': 'Blaetter', 5: 'numbers as well', 6: 6, 7: 7}\n"
     ]
    }
   ],
   "source": [
    "translate = {\"the\":\"der\", \n",
    "### BEGIN SOLUTION\n",
    "             \"tree\":\"Baum\", \n",
    "             \"has\":\"hat\", \n",
    "             \"yellow\":\"gelbe\", \n",
    "             \"leaves\":\"Blaetter\",\n",
    "             5:\"numbers as well\",\n",
    "             6:6,\n",
    "### END SOLUTION\n",
    "             7:7\n",
    "            }\n",
    "print(translate)"
   ]
  },
  {
   "cell_type": "markdown",
   "metadata": {},
   "source": [
    "What is the type of the result, if you add/multiply/divide the integer and the float?\n",
    "Devine variable named result containing the ratio of a and b"
   ]
  },
  {
   "cell_type": "code",
   "execution_count": 49,
   "metadata": {
    "tags": []
   },
   "outputs": [
    {
     "name": "stdout",
     "output_type": "stream",
     "text": [
      "0.8955223880597015\n"
     ]
    },
    {
     "data": {
      "text/plain": [
       "float"
      ]
     },
     "execution_count": 49,
     "metadata": {},
     "output_type": "execute_result"
    }
   ],
   "source": [
    "### BEGIN SOLUTION\n",
    "result = a/b\n",
    "### END SOLUTION\n",
    "print(result)\n",
    "type(result)"
   ]
  },
  {
   "cell_type": "markdown",
   "metadata": {},
   "source": [
    "Can you add the string and the integer the same way as you can add two lists?\n",
    "\n",
    "NO, you have to convert the float to a string with str()\n",
    "Devine variable named string_and_converted_number containing a string composed with the variable c and the to sting converted\n",
    "value of the variable b "
   ]
  },
  {
   "cell_type": "code",
   "execution_count": 50,
   "metadata": {
    "tags": []
   },
   "outputs": [
    {
     "name": "stdout",
     "output_type": "stream",
     "text": [
      "enjoy !6.7\n"
     ]
    }
   ],
   "source": [
    "### BEGIN SOLUTION\n",
    "string_and_converted_number = c + str(b)\n",
    "### END SOLUTION\n",
    "print(string_and_converted_number)"
   ]
  },
  {
   "cell_type": "markdown",
   "metadata": {},
   "source": [
    "Find and use a method of the list, that will return the index of an element of the list."
   ]
  },
  {
   "cell_type": "markdown",
   "metadata": {
    "tags": []
   },
   "source": [
    "Create a varable named index_of_joy_in_Liste containing the index of the value \"enjoy !\" in the list named Liste\n",
    "use a method of the object Liste of the class liste "
   ]
  },
  {
   "cell_type": "code",
   "execution_count": 51,
   "metadata": {
    "tags": []
   },
   "outputs": [
    {
     "name": "stdout",
     "output_type": "stream",
     "text": [
      "2\n"
     ]
    }
   ],
   "source": [
    "### BEGIN SOLUTION\n",
    "index_of_joy_in_Liste = Liste.index(\"enjoy !\")\n",
    "### END SOLUTION\n",
    "print(index_of_joy_in_Liste)\n",
    "### END SOLUTION"
   ]
  },
  {
   "cell_type": "markdown",
   "metadata": {
    "tags": []
   },
   "source": [
    "Create a varable named index_of_joy_in_Liste_in_Liste containing the index of the value \"enjoy !\" in the list\n",
    " named Liste_in_Liste"
   ]
  },
  {
   "cell_type": "code",
   "execution_count": 52,
   "metadata": {
    "tags": []
   },
   "outputs": [
    {
     "name": "stdout",
     "output_type": "stream",
     "text": [
      "2\n"
     ]
    }
   ],
   "source": [
    "### BEGIN SOLUTION\n",
    "index_of_joy_in_Liste_in_Liste = Liste_in_Liste.index(\"enjoy !\")\n",
    "### END SOLUTION\n",
    "print(index_of_joy_in_Liste_in_Liste)\n",
    "### END SOLUTION"
   ]
  },
  {
   "cell_type": "markdown",
   "metadata": {
    "tags": []
   },
   "source": [
    "Create a varable named index_of_joy_in_Liste_in_Liste_in_Liste containing the index of the value \"enjoy !\" in the list\n",
    " named Liste_in_Liste at the fourth position [3]."
   ]
  },
  {
   "cell_type": "code",
   "execution_count": 53,
   "metadata": {
    "tags": []
   },
   "outputs": [],
   "source": [
    "### BEGIN SOLUTION\n",
    "index_of_joy_in_Liste_in_Liste_in_Liste = Liste_in_Liste[3].index(\"enjoy !\")\n",
    "### END SOLUTION"
   ]
  },
  {
   "cell_type": "markdown",
   "metadata": {},
   "source": [
    "Find and use a method of the string, that will change all characters to upper case."
   ]
  },
  {
   "cell_type": "markdown",
   "metadata": {
    "tags": []
   },
   "source": [
    "Apply the method upper() to the variable c "
   ]
  },
  {
   "cell_type": "code",
   "execution_count": 54,
   "metadata": {
    "tags": []
   },
   "outputs": [
    {
     "data": {
      "text/plain": [
       "'ENJOY !'"
      ]
     },
     "execution_count": 54,
     "metadata": {},
     "output_type": "execute_result"
    }
   ],
   "source": [
    "### BEGIN SOLUTION\n",
    "c.upper()\n",
    "### END SOLUTION"
   ]
  },
  {
   "cell_type": "markdown",
   "metadata": {},
   "source": [
    "How many characters are in your string?"
   ]
  },
  {
   "cell_type": "markdown",
   "metadata": {
    "tags": []
   },
   "source": [
    "Apply a method the variable c to verify the number of characters in a string, incl. whitespace"
   ]
  },
  {
   "cell_type": "code",
   "execution_count": 55,
   "metadata": {
    "tags": []
   },
   "outputs": [
    {
     "data": {
      "text/plain": [
       "7"
      ]
     },
     "execution_count": 55,
     "metadata": {},
     "output_type": "execute_result"
    }
   ],
   "source": [
    "### BEGIN SOLUTION\n",
    "len(c) \n",
    "### BEGIN SOLUTION"
   ]
  },
  {
   "cell_type": "markdown",
   "metadata": {
    "tags": []
   },
   "source": [
    "Use the method count() to variable c to count how often there is a whitespace in the string"
   ]
  },
  {
   "cell_type": "code",
   "execution_count": 56,
   "metadata": {
    "tags": []
   },
   "outputs": [
    {
     "data": {
      "text/plain": [
       "1"
      ]
     },
     "execution_count": 56,
     "metadata": {},
     "output_type": "execute_result"
    }
   ],
   "source": [
    "### BEGIN SOLUTION\n",
    "c.count(\" \") \n",
    "### BEGIN SOLUTION"
   ]
  },
  {
   "cell_type": "markdown",
   "metadata": {},
   "source": [
    "Extract the second word in your string."
   ]
  },
  {
   "cell_type": "markdown",
   "metadata": {
    "tags": []
   },
   "source": [
    "Devine a string-variable named song\n",
    "with the phrase \"We learn by imitation, doing and thinking\""
   ]
  },
  {
   "cell_type": "code",
   "execution_count": 57,
   "metadata": {
    "tags": []
   },
   "outputs": [],
   "source": [
    "### BEGIN SOLUTION\n",
    "song = \"We learn by imitation, doing and thinking\"\n",
    "### END SOLUTION"
   ]
  },
  {
   "cell_type": "markdown",
   "metadata": {
    "tags": []
   },
   "source": [
    "Split the variable song into a list named words with whitespace as separator, by using a method"
   ]
  },
  {
   "cell_type": "code",
   "execution_count": 58,
   "metadata": {
    "tags": []
   },
   "outputs": [],
   "source": [
    "### BEGIN SOLUTION\n",
    "words = song.split()\n",
    "### END SOLUTION"
   ]
  },
  {
   "cell_type": "markdown",
   "metadata": {
    "tags": []
   },
   "source": [
    "Create a new string-variable named Newphrase containing the phrase \"We learn thinking\" by using indices to call words from words, \n",
    " +-Symbol to concatenate them\n",
    " and \" \" for whitespaces"
   ]
  },
  {
   "cell_type": "code",
   "execution_count": 59,
   "metadata": {
    "tags": []
   },
   "outputs": [
    {
     "name": "stdout",
     "output_type": "stream",
     "text": [
      "We learn thinking\n"
     ]
    }
   ],
   "source": [
    "### BEGIN SOLUTION\n",
    "Newphrase = words[0]+\" \"+words[1]+\" \"+words[-1]\n",
    "### END SOLUTION\n",
    "print(Newphrase)"
   ]
  },
  {
   "cell_type": "markdown",
   "metadata": {},
   "source": [
    "Write a statement (comparison,==) which returns if two elements (second, and last) in your variable Liste are the same."
   ]
  },
  {
   "cell_type": "code",
   "execution_count": 60,
   "metadata": {},
   "outputs": [
    {
     "data": {
      "text/plain": [
       "False"
      ]
     },
     "execution_count": 60,
     "metadata": {},
     "output_type": "execute_result"
    }
   ],
   "source": [
    "### BEGIN SOLUTION\n",
    "Liste[1] == Liste[2]\n",
    "### BEGIN SOLUTION"
   ]
  },
  {
   "cell_type": "markdown",
   "metadata": {},
   "source": [
    "Make a sentence in German by using the dictionary. just continue this line <br>\n",
    "    ```german_sentence = translate['the'] + \" \" + translate['tree']```"
   ]
  },
  {
   "cell_type": "code",
   "execution_count": 61,
   "metadata": {},
   "outputs": [
    {
     "name": "stdout",
     "output_type": "stream",
     "text": [
      "der Baum hat gelbe Blaetter\n"
     ]
    }
   ],
   "source": [
    "### BEGIN SOLUTION\n",
    "german_sentence = translate['the'] + \" \" + translate['tree'] + \" \" + translate['has'] + \" \" + translate['yellow'] + \" \" + translate['leaves']\n",
    "\n",
    "### BEGIN SOLUTION\n",
    "print(german_sentence)"
   ]
  },
  {
   "cell_type": "markdown",
   "metadata": {},
   "source": [
    "*Well done!*"
   ]
  },
  {
   "cell_type": "markdown",
   "metadata": {
    "tags": []
   },
   "source": [
    "## .... feel free to change, but track your changes..."
   ]
  },
  {
   "cell_type": "code",
   "execution_count": null,
   "metadata": {
    "tags": []
   },
   "outputs": [],
   "source": [
    "#!git checkout ....#create a branch"
   ]
  },
  {
   "cell_type": "code",
   "execution_count": 65,
   "metadata": {
    "tags": []
   },
   "outputs": [],
   "source": [
    "#!git add ## what you changed"
   ]
  },
  {
   "cell_type": "code",
   "execution_count": 66,
   "metadata": {
    "tags": []
   },
   "outputs": [
    {
     "name": "stdout",
     "output_type": "stream",
     "text": [
      "[student_1_Branch f42fbbd]  Bash..2 run_ NBgrader.git\n",
      " 3 files changed, 310 insertions(+), 1449 deletions(-)\n",
      " rename demonstration/{DT_python_basics_solution.ipynb => 11_DT_py_basics_solution.ipynb} (58%)\n",
      " delete mode 100644 demonstration/DT_bash_demo_extended.ipynb\n",
      " delete mode 100644 demonstration/DT_exercise_python_template.ipynb\n"
     ]
    }
   ],
   "source": [
    "#!git commit -m ' comment'"
   ]
  },
  {
   "cell_type": "code",
   "execution_count": 67,
   "metadata": {
    "tags": []
   },
   "outputs": [
    {
     "name": "stdout",
     "output_type": "stream",
     "text": [
      "Enumerating objects: 6, done.\n",
      "Counting objects: 100% (6/6), done.\n",
      "Delta compression using up to 4 threads\n",
      "Compressing objects: 100% (4/4), done.\n",
      "Writing objects: 100% (4/4), 3.12 KiB | 3.12 MiB/s, done.\n",
      "Total 4 (delta 2), reused 0 (delta 0), pack-reused 0\n",
      "remote: \n",
      "remote: ========================================================================\u001b[K\n",
      "remote: \n",
      "remote:    Dear Gitlab Users, for our upcoming upgrade to Gitlab v16, Gitlab\u001b[K\n",
      "remote:       will be unavailable on Thursday, 20.07.2023 from 5:00 pm to\u001b[K\n",
      "remote:       approximately 6:00 pm. Note that with v16, certain [breaking\u001b[K\n",
      "remote: changes](https://docs.gitlab.com/ee/update/deprecations.html?removal_milestone=16.0)\u001b[K\n",
      "remote:                           will be introduced.\u001b[K\n",
      "remote: \n",
      "remote: ========================================================================\u001b[K\n",
      "remote: \n",
      "remote: \n",
      "remote: To create a merge request for student_1_Branch, visit:\u001b[K\n",
      "remote:   https://gitlab.gwdg.de/johanna.kerch/digitale-techniken-intro-to-python/-/merge_requests/new?merge_request%5Bsource_branch%5D=student_1_Branch\u001b[K\n",
      "remote: \n",
      "To gitlab.gwdg.de:johanna.kerch/digitale-techniken-intro-to-python.git\n",
      "   84642b9..f42fbbd  student_1_Branch -> student_1_Branch\n",
      "Branch 'student_1_Branch' set up to track remote branch 'student_1_Branch' from 'origin'.\n"
     ]
    }
   ],
   "source": [
    "#!git push --set-upstream origin branchname"
   ]
  }
 ],
 "metadata": {
  "kernelspec": {
   "display_name": "Python 3 (ipykernel)",
   "language": "python",
   "name": "python3"
  },
  "language_info": {
   "codemirror_mode": {
    "name": "ipython",
    "version": 3
   },
   "file_extension": ".py",
   "mimetype": "text/x-python",
   "name": "python",
   "nbconvert_exporter": "python",
   "pygments_lexer": "ipython3",
   "version": "3.10.10"
  }
 },
 "nbformat": 4,
 "nbformat_minor": 4
}
