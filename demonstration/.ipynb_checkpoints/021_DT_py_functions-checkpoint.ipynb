{
 "cells": [
  {
   "cell_type": "markdown",
   "id": "279ecdcd-65d2-44c7-ad9b-2424e890ddc5",
   "metadata": {},
   "source": [
    "# <b> Digitale Techniken: Introduction to Python | Functions\n",
    "2023-10, johanna.kerch@uni-goettingen.de, goeran.liebs@uni-goettingen.de\n",
    "\n",
    "<img src=\"https://mirrors.creativecommons.org/presskit/buttons/88x31/png/by-nc-sa.png\" style=\"height:50px\" align=\"left\"/> <br><br>\n",
    "\n",
    "https://creativecommons.org/licenses/by-nc-sa/4.0/"
   ]
  },
  {
   "cell_type": "markdown",
   "id": "fb56bff3-328f-41c2-8ccd-e788e6885d39",
   "metadata": {},
   "source": [
    "Resources used for this jupyter notebook:<br>\n",
    "https://astrofrog.github.io/py4sci/"
   ]
  },
  {
   "cell_type": "markdown",
   "id": "a311ae94-2ae7-420e-8375-2fb32884bdd1",
   "metadata": {},
   "source": [
    "# <b>Functions scripts and files"
   ]
  },
  {
   "cell_type": "markdown",
   "id": "675f8821-d40f-4a30-81d2-47a477ab05c5",
   "metadata": {},
   "source": [
    "<b> Best practices: ... avoid repetitions ...\n",
    "A function allows you to pack a more elaborated action into a specific typsetting group, and to run it with a short statement (i.e. Funktionsname(Arguments)). Preferably, definitions of functions are situated separately from the main script, e.g. in the beginning.\n",
    "Naming convention for functions: ```lower_with_under()```\n",
    "Computational operations with some standard inputs, can be stored as functions, to be called and to return results.\n",
    "Thus, a little alone standing programm can be used many times.\n",
    "With function workflow can be devided in little steps, what is usefull for comprehension and trouble shooting.\n",
    "Choose self-contained units for defining functions and name them clearly!\n",
    "\n",
    "    def clear_function_name (argument(s)):\n",
    "        # code of task\n",
    "        # self contained memory: only input-arguments, local variables and resulting values\n",
    "        return values\n"
   ]
  },
  {
   "cell_type": "markdown",
   "id": "5d414102-5acd-49a8-a886-5eed4e36bf26",
   "metadata": {
    "tags": []
   },
   "source": [
    "<b> Functions may appear in a special position in a jupyternotebook, in a python script or in seperate textfiles with the extension ```.py```.<br>\n",
    "In this case, before calling an instance of the function it have to be imported from its file.<br> \n",
    "See below and open boah_a_module.py left in the file browserwindow!"
   ]
  },
  {
   "cell_type": "markdown",
   "id": "56fa3cf9-aaba-4ad8-bfa0-330bf567146a",
   "metadata": {},
   "source": [
    "<b> Note the commenting line introduced with ``\"\"\"...\"\"\"`` which provides a helpful documentation which is provided when calling the help function:"
   ]
  },
  {
   "cell_type": "code",
   "execution_count": null,
   "id": "476cda21-3cdc-43e2-a2cb-9a16dab5bd76",
   "metadata": {},
   "outputs": [],
   "source": [
    "from boah_a_module import seaice_change #when changing the module, restart the kernel, and import again\n",
    "help(seaice_change)"
   ]
  },
  {
   "cell_type": "code",
   "execution_count": null,
   "id": "49a63009-894c-4f9f-9b4d-a19c428fe3e5",
   "metadata": {
    "tags": []
   },
   "outputs": [],
   "source": [
    "import numpy as np\n",
    "#now we gonna use this function, with an example array (extent_data) as argument,\n",
    "#rember you can run a function with any argument, of a type defined in function body\n",
    "extent_data = np.array([16.18, 15.96, 15.6 , 15.97, 16.01, 15.3 , 15.47, 15.78, 16.05,\n",
    "       15.58, 15.5 , 15.58, 15.25, 15.46, 15.69, 15.56, 15.23, 15.15,\n",
    "       15.44, 15.75, 15.31, 15.14, 15.21, 15.34, 15.19, 14.91, 14.37,\n",
    "       14.32, 14.51, 14.95, 14.81, 14.58, 14.36, 14.55, 14.72, 14.42,\n",
    "       14.4 , 14.2 , 14.12, 13.97, 14.39, 14.68])\n",
    "\n",
    "return_values = seaice_change(extent_data)\n",
    "\n",
    "#value1, value2 = seaice_change(extent_data)\n",
    "\n",
    "print(return_values)\n",
    "\n",
    "print(\"the sea ice extent has changed by \" + str(return_values[0]) + \" mio km² or \" + str(return_values[1]) + \" %.\")"
   ]
  },
  {
   "cell_type": "markdown",
   "id": "11ec5db8-70f7-4907-8106-459d2040d916",
   "metadata": {},
   "source": [
    "# <b>Functions and arguments"
   ]
  },
  {
   "cell_type": "markdown",
   "id": "b04134d2-2172-4c85-8d7b-0e7f86481bdb",
   "metadata": {},
   "source": [
    "<b> Optional arguments that default to a preset value if you do not provide it as input when you call the function are possible, e.g. standard values like lab temperature.\n",
    "\n",
    "    def clear_function_name (argument(s), optional = '', optional2 = 298):\n",
    "        # code of task\n",
    "        return values"
   ]
  },
  {
   "cell_type": "code",
   "execution_count": null,
   "id": "cf82dea1-8ebe-4763-82c0-e8b4b644983e",
   "metadata": {},
   "outputs": [],
   "source": [
    "import module_func_optargs as modalias\n",
    "data = np.loadtxt('../data/kcctemp.dat', skiprows=1)"
   ]
  },
  {
   "cell_type": "code",
   "execution_count": null,
   "id": "d99ea5fc-cb85-4b23-b92f-4ecf25249270",
   "metadata": {
    "tags": []
   },
   "outputs": [],
   "source": [
    "data0utput=modalias.Plotarray_with_title(data,label='Depths [m]')"
   ]
  },
  {
   "cell_type": "markdown",
   "id": "31f88a12-9926-47e4-bc9b-d5b9824c365c",
   "metadata": {
    "tags": []
   },
   "source": [
    "<b>See also built-in functions: https://docs.python.org/3/library/functions.html <br>\n",
    "Note also that the variables used within the function belong to the _local scope_ of the function and cannot be called outside of it: <br>\n",
    "However, variables defined outside, within the global scope, are recognized by functions. Careful, if you use the same variables inside and outside of functions. Ideally, use unique variable names throughout your code. <br>\n",
    "Storing your functions in different files has the following advantages: The functions can be re-used in other different programs. It is easier to share the files in which the functions are stored, without having to share an entire program"
   ]
  },
  {
   "cell_type": "markdown",
   "id": "ab73a481-bcfe-4022-ae6e-bb7d705180b7",
   "metadata": {},
   "source": [
    "### Exercise\n",
    "\n",
    "Write a function yourself."
   ]
  },
  {
   "cell_type": "code",
   "execution_count": null,
   "id": "9f3990b4-71cc-4560-8afc-5df7336de0a9",
   "metadata": {},
   "outputs": [],
   "source": [
    "def myfunction():\n",
    "    A = [1, 2, 3]\n",
    "    B = (4, 5, 6)\n",
    "    C = {7, 8, 9}\n",
    "    L = [*A, *B, *C]\n",
    "    return L\n"
   ]
  },
  {
   "cell_type": "code",
   "execution_count": null,
   "id": "e7277a48-9899-439a-b1d8-56c45056f32e",
   "metadata": {},
   "outputs": [],
   "source": [
    "myfunction()"
   ]
  },
  {
   "cell_type": "code",
   "execution_count": null,
   "id": "ea4d5428-26c0-4f5a-ab6b-04dffecef104",
   "metadata": {
    "tags": []
   },
   "outputs": [],
   "source": [
    "## ... tracking changes....\n",
    "\n",
    "#!git branch\n",
    "\n",
    "#!git add 07_DT_py_functions.ipynb module_func_optargs.py boah_a_module.py #or use --all\n",
    "\n",
    "#!git commit -m 'File Funk'\n",
    "\n",
    "#!git push --set-upstream origin student_1_Branch"
   ]
  }
 ],
 "metadata": {
  "kernelspec": {
   "display_name": "e350",
   "language": "python",
   "name": "e350"
  },
  "language_info": {
   "codemirror_mode": {
    "name": "ipython",
    "version": 3
   },
   "file_extension": ".py",
   "mimetype": "text/x-python",
   "name": "python",
   "nbconvert_exporter": "python",
   "pygments_lexer": "ipython3",
   "version": "3.10.10"
  }
 },
 "nbformat": 4,
 "nbformat_minor": 5
}
