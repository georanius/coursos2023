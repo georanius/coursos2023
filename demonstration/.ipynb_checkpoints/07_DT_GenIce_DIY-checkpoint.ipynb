{
 "cells": [
  {
   "cell_type": "markdown",
   "metadata": {
    "id": "HNwYAWaR_QFK"
   },
   "source": [
    "# Installation\n",
    "\n",
    "You must install GenIce2 and extra plugins by yourself.\n",
    "\n"
   ]
  },
  {
   "cell_type": "code",
   "execution_count": null,
   "metadata": {},
   "outputs": [],
   "source": [
    "!git clone https://github.com/georanius/GenIce.git"
   ]
  },
  {
   "cell_type": "code",
   "execution_count": null,
   "metadata": {},
   "outputs": [],
   "source": [
    "!python -m venv GenIceEnv"
   ]
  },
  {
   "cell_type": "code",
   "execution_count": null,
   "metadata": {},
   "outputs": [],
   "source": [
    "!source GenIceEnv/bin/activate"
   ]
  },
  {
   "cell_type": "code",
   "execution_count": null,
   "metadata": {
    "tags": []
   },
   "outputs": [],
   "source": [
    "!pip install --user ipykernel"
   ]
  },
  {
   "cell_type": "code",
   "execution_count": null,
   "metadata": {
    "tags": []
   },
   "outputs": [],
   "source": [
    "!python -m ipykernel install --user --name=GenIceEnv"
   ]
  },
  {
   "cell_type": "code",
   "execution_count": null,
   "metadata": {
    "tags": []
   },
   "outputs": [],
   "source": [
    "!jupyter kernelspec list"
   ]
  },
  {
   "cell_type": "code",
   "execution_count": null,
   "metadata": {
    "id": "gFymXYXdA1_a"
   },
   "outputs": [],
   "source": [
    "# install GenIce2 and extra plugins from PyPI via pip.\n",
    "!pip install genice2 genice2-svg genice2-cage\n",
    "exit(0)\n",
    "!pip3 install pythran\n",
    "!pip3 install cython pybind11\n",
    "!pip3 install --no-binary :all: --no-use-pep517 numpy\n",
    "!brew install openblas gfortran\n",
    "!export OPENBLAS=/opt/homebrew/opt/openblas/lib/\n",
    "!pip3 install --no-binary :all: --no-use-pep517 scipy"
   ]
  },
  {
   "cell_type": "markdown",
   "metadata": {
    "id": "-pFXcvVJ_QFQ"
   },
   "source": [
    "## Output in Gromacs format.\n",
    "\n",
    "A simplest example."
   ]
  },
  {
   "cell_type": "code",
   "execution_count": null,
   "metadata": {
    "id": "P85n-TcL_QFR"
   },
   "outputs": [],
   "source": [
    "from genice2.genice import GenIce\n",
    "from genice2.plugin import Lattice, Format, Molecule\n",
    "\n",
    "lattice    = Lattice(\"ice11\")\n",
    "formatter  = Format(\"gromacs\")\n",
    "water      = Molecule(\"spce\")\n",
    "ice = GenIce(lattice).generate_ice(formatter, water=water)\n",
    "print(ice)"
   ]
  },
  {
   "cell_type": "markdown",
   "metadata": {
    "id": "mI8MvQyc_QFV"
   },
   "source": [
    "## Generate an SVG image\n",
    "\n",
    "Here we are using the Forms syntax of Google Colab to choose the ice type."
   ]
  },
  {
   "cell_type": "code",
   "execution_count": null,
   "metadata": {
    "id": "JujsH423_QFY"
   },
   "outputs": [],
   "source": [
    "from genice2.genice import GenIce\n",
    "from genice2.plugin import Lattice, Format, Molecule\n",
    "\n",
    "ice = \"engel17\" #@param [\"ice1h\", \"ice2\", \"ice3\", \"engel17\"] {allow-input: true}\n",
    "#@markdown Press *Shift+Enter* to execute.\n",
    "\n",
    "lattice    = Lattice(ice)\n",
    "formatter  = Format(\"svg\", shadow=True,rotate=\"y5,x5\")\n",
    "# formatter  = Format(\"twist\", svg=True,rotatex=5,rotatey=5)\n",
    "img = GenIce(lattice, rep=[2,2,2]).generate_ice(formatter)\n",
    "\n",
    "from IPython.display import SVG, display\n",
    "display(SVG(img))"
   ]
  },
  {
   "cell_type": "markdown",
   "metadata": {
    "id": "t0Z0QSOK_QFb"
   },
   "source": [
    "## Generate a PNG image\n",
    "\n",
    "PNG renderer is also included in genice_svg package."
   ]
  },
  {
   "cell_type": "code",
   "execution_count": null,
   "metadata": {
    "tags": []
   },
   "outputs": [],
   "source": [
    "!pip install pairlist"
   ]
  },
  {
   "cell_type": "code",
   "execution_count": null,
   "metadata": {
    "tags": []
   },
   "outputs": [],
   "source": [
    "!pip install tilecycles"
   ]
  },
  {
   "cell_type": "code",
   "execution_count": null,
   "metadata": {
    "tags": []
   },
   "outputs": [],
   "source": [
    "!pip install graphstat "
   ]
  },
  {
   "cell_type": "code",
   "execution_count": null,
   "metadata": {
    "tags": []
   },
   "outputs": [],
   "source": [
    "!pip install yaplotlib"
   ]
  },
  {
   "cell_type": "code",
   "execution_count": null,
   "metadata": {
    "id": "l0sg81tt_QFc"
   },
   "outputs": [],
   "source": [
    "from genice2.genice import GenIce\n",
    "from genice2.plugin import Lattice, Format, Molecule\n",
    "\n",
    "lattice    = Lattice(\"CS2\")\n",
    "formatter  = Format(\"png\", shadow=\"#8881\",encode=False,bg=\"#fff\",rotate=\"x5,y5\")\n",
    "img = GenIce(lattice, rep=[2,2,2]).generate_ice(formatter)\n",
    "\n",
    "from IPython.display import display\n",
    "display(img)"
   ]
  },
  {
   "cell_type": "code",
   "execution_count": null,
   "metadata": {},
   "outputs": [],
   "source": []
  },
  {
   "cell_type": "markdown",
   "metadata": {
    "id": "Y3CtlAt-_QFe"
   },
   "source": [
    "## Store the image in a file\n",
    "\n",
    "Save it in a PNG file."
   ]
  },
  {
   "cell_type": "code",
   "execution_count": null,
   "metadata": {
    "id": "uv8aW75b_QFf"
   },
   "outputs": [],
   "source": [
    "from genice2.genice import GenIce\n",
    "from genice2.plugin import Lattice, Format, Molecule\n",
    "\n",
    "lattice    = Lattice(\"ice3\")\n",
    "formatter  = Format(\"png\", shadow=\"#8881\",encode=True, bg=\"#fff\",rotate=\"x5,y5\")\n",
    "img = GenIce(lattice, rep=[2,2,2]).generate_ice(formatter)\n",
    "\n",
    "with open(\"ice3.png\", \"wb\") as f:\n",
    "    f.write(img)"
   ]
  },
  {
   "cell_type": "markdown",
   "metadata": {
    "id": "nTt0sIHi_QFi"
   },
   "source": [
    "## Analysis\n",
    "\n",
    "Some statistical analyses are also available."
   ]
  },
  {
   "cell_type": "code",
   "execution_count": null,
   "metadata": {
    "id": "g4dWcvwv_QFj"
   },
   "outputs": [],
   "source": [
    "from genice2.genice import GenIce\n",
    "from genice2.plugin import Lattice, Format, Molecule\n",
    "import numpy as np\n",
    "from matplotlib import pyplot as plt\n",
    "import random\n",
    "\n",
    "lattice    = Lattice(\"1c\")\n",
    "formatter  = Format(\"_KG\")\n",
    "water      = Molecule(\"spce\")\n",
    "for seed in range(1000,1010):\n",
    "    random.seed(seed)\n",
    "    np.random.seed(seed)\n",
    "    result = GenIce(lattice, rep=(10,10,10)).generate_ice(formatter, water=water)\n",
    "\n",
    "    kg = np.fromstring(result, dtype=float, sep=\" \")\n",
    "    N = kg.shape[0]\n",
    "    kg = kg.reshape([N//2, 2])\n",
    "    plt.plot(kg[:,0], kg[:,1])\n",
    "\n",
    "plt.xlabel(\"r / nm\")\n",
    "plt.ylabel(\"Kirkwood G\")\n",
    "plt.show()"
   ]
  },
  {
   "cell_type": "markdown",
   "metadata": {
    "id": "9-KbKZUg_QFm"
   },
   "source": [
    "## Logging\n",
    "\n",
    "You may want to see the process log."
   ]
  },
  {
   "cell_type": "code",
   "execution_count": null,
   "metadata": {
    "id": "YDzW7USV_QFm"
   },
   "outputs": [],
   "source": [
    "from logging import getLogger, INFO, DEBUG, WARNING\n",
    "logger = getLogger()\n",
    "logger.setLevel(INFO)\n",
    "\n",
    "from genice2.genice import GenIce\n",
    "from genice2.plugin import Lattice, Format, Molecule\n",
    "\n",
    "lattice   = Lattice(\"1c\")\n",
    "formatter = Format(\"gromacs\")\n",
    "water     = Molecule(\"spce\")\n",
    "ice = GenIce(lattice, rep=(16,16,16), signature=\"Jupyter test\").generate_ice(formatter, water=water)\n",
    "with open(\"ice1c.gro\", \"w\") as f:\n",
    "    f.write(ice)\n",
    "\n",
    "logger.setLevel(WARNING)"
   ]
  },
  {
   "cell_type": "markdown",
   "metadata": {
    "id": "GWN1tTvXDu_-"
   },
   "source": [
    "## Raw data\n",
    "\n",
    "You can access the \"raw\" (internal) data."
   ]
  },
  {
   "cell_type": "code",
   "execution_count": null,
   "metadata": {
    "id": "mpM25WEgDu_-"
   },
   "outputs": [],
   "source": [
    "from genice2.genice import GenIce\n",
    "from genice2.plugin import Lattice, Format, Molecule\n",
    "\n",
    "lattice    = Lattice(\"xFAU\", rep=3)\n",
    "formatter  = Format(\"raw\", stage=(1,))\n",
    "raw = GenIce(lattice, signature=\"Aeroice 3xFAU\").generate_ice(formatter)\n",
    "\n",
    "raw"
   ]
  },
  {
   "cell_type": "markdown",
   "metadata": {
    "id": "EcA4cvEnDvAB"
   },
   "source": [
    "### Visualization by Plotly\n",
    "\n",
    "Use the raw data to plot by yourself."
   ]
  },
  {
   "cell_type": "code",
   "execution_count": null,
   "metadata": {
    "id": "Red3f1LdDvAB"
   },
   "outputs": [],
   "source": [
    "waters = raw[\"reppositions\"]\n",
    "import plotly.graph_objects as go\n",
    "\n",
    "fig = go.Figure(data=[go.Scatter3d(x = waters[:,0],\n",
    "                                   y = waters[:,1],\n",
    "                                   z = waters[:,2],\n",
    "                                   marker=dict(size=10),\n",
    "                                   mode = 'markers'\n",
    "                                   )])\n",
    "fig.show()"
   ]
  },
  {
   "cell_type": "markdown",
   "metadata": {
    "id": "L2P6aWpku91I"
   },
   "source": [
    "## Integration with py3Dmol.\n",
    "\n",
    "Py3Dmol works on Google Colaboratory."
   ]
  },
  {
   "cell_type": "code",
   "execution_count": null,
   "metadata": {
    "id": "_3GLhHNttlZP"
   },
   "outputs": [],
   "source": [
    "%pip install py3Dmol"
   ]
  },
  {
   "cell_type": "code",
   "execution_count": null,
   "metadata": {
    "id": "bdtB9dUStqAw"
   },
   "outputs": [],
   "source": [
    "from genice2.genice import GenIce\n",
    "from genice2.plugin import Lattice, Format, Molecule\n",
    "\n",
    "lattice    = Lattice(\"1h_unit\")\n",
    "formatter  = Format(\"gromacs\")\n",
    "water      = Molecule(\"spce\")\n",
    "ice = GenIce(lattice, rep=(4,4,4)).generate_ice(formatter, water=water)"
   ]
  },
  {
   "cell_type": "code",
   "execution_count": null,
   "metadata": {
    "id": "BxolfqLTt2oO"
   },
   "outputs": [],
   "source": [
    "import py3Dmol\n",
    "\n",
    "view = py3Dmol.view()\n",
    "view.addModel(ice, 'gro')\n",
    "view.setStyle({'stick':{}})\n",
    "view.addUnitCell()\n",
    "view.zoomTo()"
   ]
  },
  {
   "cell_type": "markdown",
   "metadata": {
    "id": "g764Gyfco0jo"
   },
   "source": [
    "## Various file formats using MDAnalysis"
   ]
  },
  {
   "cell_type": "code",
   "execution_count": null,
   "metadata": {
    "id": "PDRm3tgBrO6E"
   },
   "outputs": [],
   "source": [
    "%pip install genice2-mdanalysis\n",
    "exit(0)\n"
   ]
  },
  {
   "cell_type": "code",
   "execution_count": null,
   "metadata": {
    "id": "_hAM4JLxpDTy"
   },
   "outputs": [],
   "source": [
    "from genice2.genice import GenIce\n",
    "from genice2.plugin import Lattice, Format, Molecule\n",
    "\n",
    "lattice    = Lattice(\"1h_unit\")\n",
    "formatter  = Format(\"mdanalysis\")\n",
    "water      = Molecule(\"spce\")\n",
    "# MDAnalysis universe\n",
    "universe = GenIce(lattice, rep=(4,4,4)).generate_ice(formatter, water=water)\n"
   ]
  },
  {
   "cell_type": "code",
   "execution_count": null,
   "metadata": {
    "id": "KBMprmJ3rgdw"
   },
   "outputs": [],
   "source": [
    "# MDAnalysis universe object\n",
    "\n",
    "# Save as a .gro file.\n",
    "allatoms = universe.select_atoms(\"all\")\n",
    "allatoms.write(\"1h_unit.pdb\")"
   ]
  },
  {
   "cell_type": "code",
   "execution_count": null,
   "metadata": {
    "id": "lC2OFBkzscMO"
   },
   "outputs": [],
   "source": [
    "!rm -rf GenIceEnv/ GenIce #clean up"
   ]
  }
 ],
 "metadata": {
  "colab": {
   "include_colab_link": true,
   "name": "test.ipynb",
   "provenance": []
  },
  "kernelspec": {
   "display_name": "GenIceEnv",
   "language": "python",
   "name": "geniceenv"
  },
  "language_info": {
   "codemirror_mode": {
    "name": "ipython",
    "version": 3
   },
   "file_extension": ".py",
   "mimetype": "text/x-python",
   "name": "python",
   "nbconvert_exporter": "python",
   "pygments_lexer": "ipython3",
   "version": "3.10.10"
  }
 },
 "nbformat": 4,
 "nbformat_minor": 4
}
