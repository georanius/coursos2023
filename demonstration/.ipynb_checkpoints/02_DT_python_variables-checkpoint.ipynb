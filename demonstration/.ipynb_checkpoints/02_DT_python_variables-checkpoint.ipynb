{
 "cells": [
  {
   "cell_type": "markdown",
   "metadata": {},
   "source": [
    "# Digitale Techniken: Theoretical basics of Python\n",
    "2023-10, johanna.kerch@uni-goettingen.de, goeran.liebs@uni-goettingen.de\n",
    "\n",
    "\n",
    "<img src=\"https://mirrors.creativecommons.org/presskit/buttons/88x31/png/by-nc-sa.png\" style=\"height:50px\" align=\"left\"/> <br><br>\n",
    "\n",
    "https://creativecommons.org/licenses/by-nc-sa/4.0/"
   ]
  },
  {
   "cell_type": "markdown",
   "metadata": {
    "tags": []
   },
   "source": [
    "#### Independend installation of Python and Jupyter\n",
    "\n",
    "If you like to run python and jupyter on a computer, follow the recommendation regarding your operations system (OS) and python distripution. Best way is to run a programm (e.g. docker, wmware) that runs an other comupter on a computer. That leaves your own OS (host) unchanged and allows you to run your code within its own computer, that includs only the required installations or python versions or distributions. And you are able to run your code on any computing device (e.g. smartphones, serverfarms, etc.) where you can install such virtualization programms.  "
   ]
  },
  {
   "cell_type": "markdown",
   "metadata": {
    "tags": []
   },
   "source": [
    "#### Python distributions and versions\n",
    " A distribution of Python is a bundle that contains an implementation of Python along with a bunch of libraries or tools (e.g. Anaconda).\n",
    " Python has several versions, thus it is important that you choose the rigth, when you are involved in a project or want to run a downloaded source code.\n",
    " Preferably in a virtual environement, or docker container or similair.\n",
    " \n",
    "#### Python standard library\n",
    "This are the functionalities provided by python without importing additional modules.\n",
    "https://docs.python.org/3/library/index.html"
   ]
  },
  {
   "cell_type": "markdown",
   "metadata": {
    "tags": []
   },
   "source": [
    "### Installation of Jupyter, Jupyterlab, Jupyterhub\n",
    "The installation of Jupyter* can be done with python package manager and the command ```pip install jupyterlab``` or with anaconda or docker via a line executed in your terminal.\n",
    "This will run a seperate computer on your computer that displays its interface in your browser.\n",
    "Today we use such a virtual computer running in the cloud (GWDG Rechenzentrum) or any where from an other profider... go find some more.\n",
    "\n",
    "Later in this notebook we will understand that we just installed a python package with modules. In summery we install a python package to implement python code in a nice browser application."
   ]
  },
  {
   "cell_type": "markdown",
   "metadata": {},
   "source": [
    "### Jupyter Notebook, behind the scenes, making of"
   ]
  },
  {
   "cell_type": "markdown",
   "metadata": {},
   "source": [
    "Traditionally, python can be used in a python-interpreter running in the terminal. That means, you type python3 in the terminal, hit enter and your are ready to execute single lines of python code. If you wish to run code of more lines, you put them correctly in a file with the extension ```.py```.\n",
    "This script will run with the command ``` python3 yourscriptname.py ``` in the terminal. Including as first line ```#!/usr/bin python3``` a python script can be run with ```./yourscriptname.py``` in the terminal, after changing the user-rights of the file to executable with the command ```chmod +x yourscriptname.py``` .\n",
    "<br>\n",
    "Sounds complicated. Thus, enjoy executable cells in a Jupyter Notebook. Like this one, you are reading now. \n",
    "In the next cell we display the first 60 Lines of this notebook, with the bash command. Try to recognice the titles and the executable cells with python code or the next cell.<br>"
   ]
  },
  {
   "cell_type": "code",
   "execution_count": null,
   "metadata": {
    "tags": []
   },
   "outputs": [],
   "source": [
    "!head -n160 02_DT_python_basics.ipynb #enjoy a notebook as it is, a text file following some java and internetstandarts"
   ]
  },
  {
   "cell_type": "markdown",
   "metadata": {},
   "source": [
    "Dokumentation: https://jupyterlab.readthedocs.io/en/stable/index.html, https://astrofrog.github.io/py4sci/, Tutorial recommendations: https://wiki.python.org/moin/BeginnersGuide/NonProgrammers, and many more for any level or purpose."
   ]
  },
  {
   "cell_type": "markdown",
   "metadata": {},
   "source": [
    "### Creation, Installation and Import of a Python module"
   ]
  },
  {
   "cell_type": "markdown",
   "metadata": {},
   "source": [
    "What is a module? What types of modules are there? Just to remember...\n",
    "\n",
    "1. you can write, compile and import self-written modules containing functions, classes in a folder e.g. ``src``\n",
    "\n",
    "2. you can import available (open-source) third-party modules/libraries after installing them with ```!pip ...```, in contrast to standart modules comming with your python distribution (e.g. math).<br>\n",
    "   \n",
    "3. write something yourself, or check if the functionality has not already been implemented, reproducible, or an other package..."
   ]
  },
  {
   "cell_type": "markdown",
   "metadata": {},
   "source": [
    "Examples: \n",
    "\n",
    "* ``math``: accessing many built-in mathematical functions\n",
    "* ``numpy, pandas, geopandas...``: working with n-dim. arrays\n",
    "* ``matplotlib, geoplot...`` : creating plots\n",
    "* ``segyio``: reading/processing seismic data\n",
    "*  https://github.com/javedali99/python-resources-for-earth-sciences\n"
   ]
  },
  {
   "cell_type": "markdown",
   "metadata": {},
   "source": [
    "### Import modules"
   ]
  },
  {
   "cell_type": "markdown",
   "metadata": {
    "tags": []
   },
   "source": [
    "If you like to do special opperations, you may choose modules from a variety, \n",
    "according to your purpose (e.g. math, pvpn ). "
   ]
  },
  {
   "cell_type": "code",
   "execution_count": null,
   "metadata": {},
   "outputs": [],
   "source": [
    "import math \n",
    "# this imports a python module\n",
    "# functions and classes for specific programming purpose...here higher math\n",
    "math.sin(90 * math.pi/180) # here we call the function or methode of the math module"
   ]
  },
  {
   "cell_type": "markdown",
   "metadata": {},
   "source": [
    "What do you need to keep in mind for this module?\n",
    "\n",
    "- special functions and constants (sin, cos, pi...) need a module, e.g. ``math``\n",
    "- trigonometrical functions: angles in rad = deg/180*$\\pi$\n",
    "- decimal power: 100000 $\\rightarrow$ ``10e4``\n",
    "- complex numbers: ``complex(a,b)``\n",
    "- mixing numeric types: e.g. float + integer $\\rightarrow$ float"
   ]
  },
  {
   "cell_type": "markdown",
   "metadata": {},
   "source": [
    "### Install modules"
   ]
  },
  {
   "cell_type": "code",
   "execution_count": null,
   "metadata": {
    "tags": []
   },
   "outputs": [],
   "source": [
    "!pip install segyio #just an example (Seismic), to install one direkt from the online-resource "
   ]
  },
  {
   "cell_type": "markdown",
   "metadata": {},
   "source": [
    "By default, pip will bring packages from Python Package Index (https://pypi.org/), a repository of software for the Python programming language where anyone can upload packages."
   ]
  },
  {
   "cell_type": "code",
   "execution_count": null,
   "metadata": {
    "tags": []
   },
   "outputs": [],
   "source": [
    "!pip list #check out your installed packages"
   ]
  },
  {
   "cell_type": "code",
   "execution_count": null,
   "metadata": {
    "tags": []
   },
   "outputs": [],
   "source": [
    "help('tornado')"
   ]
  },
  {
   "cell_type": "markdown",
   "metadata": {},
   "source": [
    "## Do not forget the environment \n",
    "#### Python virtual environments\n",
    "\n",
    "Python virtual environments give you the ability to isolate your Python development projects from your system installed Python and other Python environments. This gives you full control of your project, by just incountering needed modules and makes it easily reproducible, for other individuals.\n",
    "\n",
    "After a while programming python, you will have a large number of modules installed. And it might be confusing which package was for which project.\n",
    "Thus you can use pythons (or anacondas) virtual environment feature. With the lines below in the console you might create a new kernel, that encludes all the modules you need in a project, read from requirements.txt. \n",
    "Try this following lines in the TERMINAL with a repo of your choise! "
   ]
  },
  {
   "cell_type": "raw",
   "metadata": {},
   "source": [
    "git clone -b v3.1.0 https://github.com/opesci/devito\n",
    "\n",
    "cd devito/\n",
    "\n",
    "python3 -m venv YourCoolEnvironment\n",
    "\n",
    "source YourCoolEnvironment/bin/activate\n",
    "\n",
    "pip install -r requirements.txt\n",
    "\n",
    "pip install jupyter\n",
    "\n",
    "ipython kernel install --name \"YourCoolEnvironment\" --user\n",
    "\n",
    "jupyter kernelspec list\n",
    "jupyter kernelspec remove <kernel-name>  ### and restart jupyterserver and then you find your new kernel in the right upper conrner."
   ]
  },
  {
   "cell_type": "markdown",
   "metadata": {
    "tags": []
   },
   "source": [
    "### Or an environment with anaconda"
   ]
  },
  {
   "cell_type": "raw",
   "metadata": {},
   "source": [
    "### please, you try this in your commando console\n",
    "git clone -b v3.1.0 https://github.com/opesci/devito \n",
    "cd devito\n",
    "conda env create -f environment.yml\n",
    "source activate devito\n",
    "pip install -e ."
   ]
  },
  {
   "cell_type": "markdown",
   "metadata": {},
   "source": [
    "# Define (or assign) a numeric or data variable\n",
    "\n",
    "https://docs.python.org/3/library/stdtypes.html"
   ]
  },
  {
   "cell_type": "code",
   "execution_count": null,
   "metadata": {},
   "outputs": [],
   "source": [
    "val1 = 'astring contains symbols' # a variable of type string\n",
    "a = 42                         # an integer (int)\n",
    "b = 4.2 #Floating comma values, check out nummerical limits of your machine\n",
    "c = 4.2e-12 #power of 10\n",
    "d = 8.**2 #Power/exponent\n",
    "e = 8/5 #Integer division produces float"
   ]
  },
  {
   "cell_type": "markdown",
   "metadata": {},
   "source": [
    "\n",
    "\n"
   ]
  },
  {
   "cell_type": "markdown",
   "metadata": {},
   "source": [
    "#### Complex values (...squareroot of -1)"
   ]
  },
  {
   "cell_type": "code",
   "execution_count": null,
   "metadata": {},
   "outputs": [],
   "source": [
    "f = complex(3,-5.) # Complex values (``complex``), alias imagineary\n",
    "print(f)"
   ]
  },
  {
   "cell_type": "markdown",
   "metadata": {},
   "source": [
    "#### Booleans and comparisons, a digit"
   ]
  },
  {
   "cell_type": "code",
   "execution_count": null,
   "metadata": {},
   "outputs": [],
   "source": [
    "t = True\n",
    "f = False\n",
    "type(t)"
   ]
  },
  {
   "cell_type": "markdown",
   "metadata": {},
   "source": [
    "#### From string and list"
   ]
  },
  {
   "cell_type": "code",
   "execution_count": null,
   "metadata": {},
   "outputs": [],
   "source": [
    "s = \"string\" #String = sequence of characters with index"
   ]
  },
  {
   "cell_type": "markdown",
   "metadata": {},
   "source": []
  },
  {
   "cell_type": "code",
   "execution_count": null,
   "metadata": {},
   "outputs": [],
   "source": [
    "s[1]       #second symbol in the string... zero counts... nothing is also a state"
   ]
  },
  {
   "cell_type": "markdown",
   "metadata": {},
   "source": [
    "Add strings to a string:"
   ]
  },
  {
   "cell_type": "code",
   "execution_count": null,
   "metadata": {},
   "outputs": [],
   "source": [
    "sentence = \"you \" + \"can \" + \"concatenate \" + s + \"s \" + \" to strings\"\n",
    "print(sentence)"
   ]
  },
  {
   "cell_type": "markdown",
   "metadata": {},
   "source": [
    "There are methods (functions) for variables in Python. Type the a variable and a dot and then hit the Tap key and a list will pop up."
   ]
  },
  {
   "cell_type": "code",
   "execution_count": null,
   "metadata": {},
   "outputs": [],
   "source": [
    "word_list = sentence.split() \n",
    "type(word_list)"
   ]
  },
  {
   "cell_type": "markdown",
   "metadata": {},
   "source": [
    "How does this actually work? You can ask for help with ``?`` or ``help()``. Try to understand how the help is structured."
   ]
  },
  {
   "cell_type": "code",
   "execution_count": null,
   "metadata": {},
   "outputs": [],
   "source": [
    "help(sentence.split)"
   ]
  },
  {
   "cell_type": "code",
   "execution_count": null,
   "metadata": {},
   "outputs": [],
   "source": [
    "word_list[0:3] #Call upon a certain elements of a list:"
   ]
  },
  {
   "cell_type": "markdown",
   "metadata": {},
   "source": [
    "Mind the <b>index</b> for strings and lists:\n",
    "* [0] $\\rightarrow$ first (!) element (\"zero-based\")\n",
    "* [3] $\\rightarrow$ fourth element \n",
    "* [0:3] $\\rightarrow$ first to third (!) element, fourth excluded\n",
    "* [2:] $\\rightarrow$ third to last element, fourth included\n",
    "* [-2:] $\\rightarrow$ second last to last element"
   ]
  },
  {
   "cell_type": "markdown",
   "metadata": {},
   "source": [
    "<b>Slicing</b> with ``[start:end:step]``<br>"
   ]
  },
  {
   "cell_type": "code",
   "execution_count": null,
   "metadata": {},
   "outputs": [],
   "source": [
    "sentence[::3]"
   ]
  },
  {
   "cell_type": "markdown",
   "metadata": {},
   "source": [
    "Pick every 3rd character:"
   ]
  },
  {
   "cell_type": "code",
   "execution_count": null,
   "metadata": {},
   "outputs": [],
   "source": [
    "sentence[::3]\n",
    "word_list[::3]"
   ]
  },
  {
   "cell_type": "markdown",
   "metadata": {},
   "source": [
    "Reassign value to element of list:"
   ]
  },
  {
   "cell_type": "code",
   "execution_count": null,
   "metadata": {},
   "outputs": [],
   "source": [
    "word_list[3] =word_list[-1] = \"lists\"\n",
    "print(word_list)"
   ]
  },
  {
   "cell_type": "markdown",
   "metadata": {},
   "source": [
    "Assign an element of the list to a new variable:"
   ]
  },
  {
   "cell_type": "code",
   "execution_count": null,
   "metadata": {},
   "outputs": [],
   "source": [
    "k = word_list[0]\n",
    "print(k)"
   ]
  },
  {
   "cell_type": "markdown",
   "metadata": {},
   "source": [
    "Return number of elements in variable:"
   ]
  },
  {
   "cell_type": "code",
   "execution_count": null,
   "metadata": {},
   "outputs": [],
   "source": [
    "len(word_list)"
   ]
  },
  {
   "cell_type": "markdown",
   "metadata": {},
   "source": [
    "Define list by square brackets: [...]:"
   ]
  },
  {
   "cell_type": "code",
   "execution_count": null,
   "metadata": {},
   "outputs": [],
   "source": [
    "l = [1,\n",
    "     2,\n",
    "     3]"
   ]
  },
  {
   "cell_type": "markdown",
   "metadata": {},
   "source": [
    "Add two lists (the elements in a list can be of mixed type, e.g. integers and strings):"
   ]
  },
  {
   "cell_type": "code",
   "execution_count": null,
   "metadata": {},
   "outputs": [],
   "source": [
    "newlist = word_list + l\n",
    "print(newlist)"
   ]
  },
  {
   "cell_type": "markdown",
   "metadata": {},
   "source": [
    "Add elements to a list:"
   ]
  },
  {
   "cell_type": "code",
   "execution_count": null,
   "metadata": {},
   "outputs": [],
   "source": [
    "l.append('rocks')\n",
    "print(l)"
   ]
  },
  {
   "cell_type": "markdown",
   "metadata": {},
   "source": [
    "Change elements in a list:"
   ]
  },
  {
   "cell_type": "code",
   "execution_count": null,
   "metadata": {},
   "outputs": [],
   "source": [
    "l[2] = 'earth'\n",
    "print(l)"
   ]
  },
  {
   "cell_type": "markdown",
   "metadata": {},
   "source": [
    "Insert elements in a list:"
   ]
  },
  {
   "cell_type": "code",
   "execution_count": null,
   "metadata": {},
   "outputs": [],
   "source": [
    "l.insert(2,3)\n",
    "l.insert(4,'science')\n",
    "print(l)"
   ]
  },
  {
   "cell_type": "markdown",
   "metadata": {},
   "source": [
    "#### Tuples\n",
    "similar to list (another type of sequence) but not changeable (immutable, like strings)"
   ]
  },
  {
   "cell_type": "code",
   "execution_count": null,
   "metadata": {},
   "outputs": [],
   "source": [
    "t = (a, b, c, 4, \"geo\")\n",
    "print(t)\n",
    "type(t)"
   ]
  },
  {
   "cell_type": "markdown",
   "metadata": {},
   "source": [
    "Reassign value does not work with tuples:"
   ]
  },
  {
   "cell_type": "code",
   "execution_count": null,
   "metadata": {},
   "outputs": [],
   "source": [
    "#t[3] = 5 #uncomment an try out the error"
   ]
  },
  {
   "cell_type": "markdown",
   "metadata": {},
   "source": [
    "#### Dictionaries"
   ]
  },
  {
   "cell_type": "markdown",
   "metadata": {},
   "source": [
    "A dictionary is a mapping of a key:value pair. <br>\n",
    "They are defined with curly brackets."
   ]
  },
  {
   "cell_type": "code",
   "execution_count": null,
   "metadata": {
    "tags": []
   },
   "outputs": [],
   "source": [
    "dic = {'apfel':'apple', 2:'banana', 3:'cherry'}"
   ]
  },
  {
   "cell_type": "markdown",
   "metadata": {},
   "source": [
    "The value of an item is accessed by calling the key, with square brackets, as for indices:"
   ]
  },
  {
   "cell_type": "code",
   "execution_count": null,
   "metadata": {
    "tags": []
   },
   "outputs": [],
   "source": [
    "dic['apfel']"
   ]
  },
  {
   "cell_type": "markdown",
   "metadata": {},
   "source": [
    "But key != index <br>\n",
    "There is no order in the dictionary"
   ]
  },
  {
   "cell_type": "markdown",
   "metadata": {},
   "source": [
    "You can add items to the dictionary:"
   ]
  },
  {
   "cell_type": "code",
   "execution_count": null,
   "metadata": {
    "tags": []
   },
   "outputs": [],
   "source": [
    "dic['new_key'] = 'new_value'\n",
    "print(dic)"
   ]
  },
  {
   "cell_type": "markdown",
   "metadata": {},
   "source": [
    "It is possible to check, if there is a certain key in the dictionary:"
   ]
  },
  {
   "cell_type": "code",
   "execution_count": null,
   "metadata": {
    "tags": []
   },
   "outputs": [],
   "source": [
    "4 in dic"
   ]
  },
  {
   "cell_type": "code",
   "execution_count": null,
   "metadata": {
    "tags": []
   },
   "outputs": [],
   "source": [
    "\"apfel\" in dic"
   ]
  },
  {
   "cell_type": "markdown",
   "metadata": {},
   "source": [
    "Define\n",
    "- an integer and a float\n",
    "- a list with at least 5 elements of mixed type\n",
    "- a string which includes white space\n",
    "- a dictionary with translates words of a simple sentence between English and German"
   ]
  },
  {
   "cell_type": "raw",
   "metadata": {
    "tags": []
   },
   "source": [
    "!git add 02_DT_python_basics.ipynb\n",
    "\n",
    "!git commit -m 'Mono no aware'\n",
    "\n",
    "!git push --set-upstream origin main"
   ]
  },
  {
   "cell_type": "markdown",
   "metadata": {
    "tags": []
   },
   "source": [
    "Now let`s continue with demonstration/020_DT_py_controlflow.ipynb and dont forget to commit"
   ]
  }
 ],
 "metadata": {
  "kernelspec": {
   "display_name": "Python 3 (ipykernel)",
   "language": "python",
   "name": "python3"
  },
  "language_info": {
   "codemirror_mode": {
    "name": "ipython",
    "version": 3
   },
   "file_extension": ".py",
   "mimetype": "text/x-python",
   "name": "python",
   "nbconvert_exporter": "python",
   "pygments_lexer": "ipython3",
   "version": "3.10.10"
  }
 },
 "nbformat": 4,
 "nbformat_minor": 4
}
