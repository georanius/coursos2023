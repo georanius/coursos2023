{
 "cells": [
  {
   "cell_type": "markdown",
   "metadata": {},
   "source": [
    "# Digitale Techniken: Data Extraction and plotting\n",
    "2023-10, johanna.kerch@uni-goettingen.de, goeran.liebs@uni-goettingen.de\n",
    "\n",
    "<img src=\"https://mirrors.creativecommons.org/presskit/buttons/88x31/png/by-nc-sa.png\" style=\"height:50px\" align=\"left\"/> \n",
    "\n",
    "https://creativecommons.org/licenses/by-nc-sa/4.0/"
   ]
  },
  {
   "cell_type": "markdown",
   "metadata": {},
   "source": [
    "### Keep numbers in memory and be ready for higher mathematics with the module ```numpy```:\n",
    "\n",
    "A module for Python that allows you to work with multidimensional arrays and mathematical calculations."
   ]
  },
  {
   "cell_type": "code",
   "execution_count": null,
   "metadata": {},
   "outputs": [],
   "source": [
    "# import the module for nummerical n-dim arrays (fields, vectors, tensors, etc...)\n",
    "import numpy as np    # appreviation convention"
   ]
  },
  {
   "cell_type": "code",
   "execution_count": null,
   "metadata": {},
   "outputs": [],
   "source": [
    "# create an array with 2 lines and 3 columns\n",
    "Array2x3 = np.array([[56,  1,      3],\n",
    "                     [40,200,300.000]])\n",
    "print(Array2x3)\n",
    "type(Array2x3)"
   ]
  },
  {
   "cell_type": "code",
   "execution_count": null,
   "metadata": {},
   "outputs": [],
   "source": [
    "np.mean(Array2x3) # mean-METHOD of all values, ONLY ON OF MANY ARRAY FUNCTIONS"
   ]
  },
  {
   "cell_type": "code",
   "execution_count": null,
   "metadata": {},
   "outputs": [],
   "source": [
    "Array2x3[0,:] #  first line "
   ]
  },
  {
   "cell_type": "code",
   "execution_count": null,
   "metadata": {
    "tags": []
   },
   "outputs": [],
   "source": [
    "Array2x3[:,1] # second column"
   ]
  },
  {
   "cell_type": "markdown",
   "metadata": {},
   "source": [
    "## How to find, open and read data files"
   ]
  },
  {
   "cell_type": "markdown",
   "metadata": {
    "tags": []
   },
   "source": [
    "Let's define a string containing the path and a wildcard ```*``` and the desired file endings. <br>\n",
    "Subfolders are seperated with ```/``` or ```\\``` regarding the operation system of your computer."
   ]
  },
  {
   "cell_type": "code",
   "execution_count": null,
   "metadata": {},
   "outputs": [],
   "source": [
    "import os # use functionality of your OS formulated in python"
   ]
  },
  {
   "cell_type": "code",
   "execution_count": null,
   "metadata": {},
   "outputs": [],
   "source": [
    "path = os.path.join('..','data','sea_ice_extent','*.csv')# its just a string that will be modivied concerning your machines OS\n",
    "path"
   ]
  },
  {
   "cell_type": "markdown",
   "metadata": {},
   "source": [
    "Find all files matching a pattern, using ```glob```:"
   ]
  },
  {
   "cell_type": "code",
   "execution_count": null,
   "metadata": {},
   "outputs": [],
   "source": [
    "from glob import glob\n",
    "files = glob(path)\n",
    "files #check that list, shouting to "
   ]
  },
  {
   "cell_type": "markdown",
   "metadata": {},
   "source": [
    "Data were obtained from https://nsidc.org/data/seaice_index/archives, 2021-02-08.<br>\n",
    "Fetterer, F., K. Knowles, W. N. Meier, M. Savoie, and A. K. Windnagel. 2017, updated daily. Sea Ice Index, Version 3. Boulder, Colorado USA. NSIDC: National Snow and Ice Data Center. doi: https://doi.org/10.7265/N5K072F8. 2020-11-30."
   ]
  },
  {
   "cell_type": "markdown",
   "metadata": {},
   "source": [
    "Open a file object, obtain a file handle, that is, not yet the actual content of the file:"
   ]
  },
  {
   "cell_type": "code",
   "execution_count": null,
   "metadata": {},
   "outputs": [],
   "source": [
    "open_file = open(files[-1]) # open last file in the list\n",
    "\n",
    "header = open_file.readline()   # first line is red, \n",
    "#mouseover and hit SHIFT and TAP \n",
    "year=[]# make some empty lists\n",
    "extent=[]\n",
    "area=[]\n",
    "for line in open_file: #iterate over the open_file list\n",
    "    line = line.strip() # Use the method strip to pull off first and last characters\n",
    "    cols = line.split(',') # split to separate the columns, seperated by commas:\n",
    "    \n",
    "    year.append(float(cols[0])) # add an element each iterarion to the lists as FLOATS\n",
    "    extent.append(float(cols[4]))\n",
    "    area.append(float(cols[5]))\n",
    "\n",
    "year=np.array(year)           # transfomation to np.arrays for nice operattions\n",
    "extent=np.array(extent)\n",
    "area=np.array(area)"
   ]
  },
  {
   "cell_type": "code",
   "execution_count": null,
   "metadata": {
    "tags": []
   },
   "outputs": [],
   "source": [
    "import matplotlib.pyplot as plt # submodules, MAKE SOME NICE PLOTS\n",
    "plt.plot(year,extent,'D-', label='Goddard, DATA-TYPE')\n",
    "plt.xlabel('Year')\n",
    "plt.ylabel('extent [unit]')\n",
    "plt.title('Read the Paper')\n",
    "plt.grid(True)\n",
    "plt.legend();"
   ]
  },
  {
   "cell_type": "code",
   "execution_count": null,
   "metadata": {
    "tags": []
   },
   "outputs": [],
   "source": [
    "\n",
    "\n",
    "plt.plot(year,area,'D-', label='Goddard, DATA-TYPE')\n",
    "plt.xlabel('Year')\n",
    "plt.ylabel('area [unit]')\n",
    "plt.title('Read the Paper')\n",
    "plt.grid(True)\n",
    "plt.legend();\n",
    "plt.ylim(2,6)        #UUUHHH an outlayer"
   ]
  },
  {
   "cell_type": "markdown",
   "metadata": {},
   "source": [
    "# Alternatively for column-based data (more convenient):"
   ]
  },
  {
   "cell_type": "code",
   "execution_count": null,
   "metadata": {},
   "outputs": [],
   "source": [
    "depth, temperature = np.loadtxt('../data/kcctemp.dat', unpack=True, skiprows=1)\n",
    "depth"
   ]
  },
  {
   "cell_type": "code",
   "execution_count": null,
   "metadata": {},
   "outputs": [],
   "source": [
    "data = np.loadtxt('../data/kcctemp.dat', skiprows=1)"
   ]
  },
  {
   "cell_type": "code",
   "execution_count": null,
   "metadata": {
    "tags": []
   },
   "outputs": [],
   "source": [
    "plt.plot(data[:,1],data[:,0])\n",
    "plt.gca().invert_yaxis()"
   ]
  },
  {
   "cell_type": "markdown",
   "metadata": {
    "tags": []
   },
   "source": [
    "# Try out the possibilities to read files"
   ]
  },
  {
   "cell_type": "code",
   "execution_count": null,
   "metadata": {},
   "outputs": [],
   "source": [
    "# Examples of reading file line by line\n",
    "# use them to do same es above\n",
    "\n",
    "# Method 1: Using readlines() method\n",
    "with open('filename.txt', 'r') as f:\n",
    "    lines = f.readlines()\n",
    "\n",
    "# Method 2: Using for loop\n",
    "with open('filename.txt', 'r') as f:\n",
    "    lines = []\n",
    "    for line in f:\n",
    "        lines.append(line.strip())\n",
    "\n",
    "# Method 3: Using list comprehension\n",
    "with open('filename.txt', 'r') as f:\n",
    "    lines = [line.strip() for line in f]\n",
    "\n",
    "# Method 4: Using map() function\n",
    "with open('filename.txt', 'r') as f:\n",
    "    lines = list(map(str.strip, f))"
   ]
  },
  {
   "cell_type": "markdown",
   "metadata": {},
   "source": [
    "# Masking"
   ]
  },
  {
   "cell_type": "markdown",
   "metadata": {},
   "source": [
    "Select values by masking with a condition:"
   ]
  },
  {
   "cell_type": "code",
   "execution_count": null,
   "metadata": {},
   "outputs": [],
   "source": [
    "# mask from condition\n",
    "selection = temperature > -13\n",
    "print(selection)\n",
    "\n",
    "# apply mask\n",
    "temp_select = temperature[temperature > -13]\n",
    "print(temp_select)"
   ]
  },
  {
   "cell_type": "markdown",
   "metadata": {},
   "source": [
    "#### Writing files"
   ]
  },
  {
   "cell_type": "markdown",
   "metadata": {},
   "source": [
    "Exercise (voluntary): find it out yourself"
   ]
  },
  {
   "cell_type": "markdown",
   "metadata": {},
   "source": [
    "#### Date formatting, Time is relativ"
   ]
  },
  {
   "cell_type": "code",
   "execution_count": null,
   "metadata": {
    "tags": []
   },
   "outputs": [],
   "source": [
    "import datetime\n",
    "dt = datetime.datetime(2001, 1, 31, 10, 51, 0) #an time object, an other format... IoI\n",
    "#different date formats\n",
    "print(dt.strftime('%d-%m-%Y::%H-%M'))\n",
    "print(dt.strftime('%Y,%m,%d;%H:%M'))\n",
    "print(dt.strftime('%Y-%d-%m:ß%!:%HUhr%M'))\n",
    "   \n",
    "###  Calculating time in different units    \n",
    "\n",
    "d1 = datetime.date(1869, 1, 2) #two other time object\n",
    "d2 = datetime.date(1869, 10, 2)\n",
    "\n",
    "# Solutionn\n",
    "print(str(d2 - d1)+' Zeit in Tagen')  # timedelta\n",
    "print(str((d2-d1).total_seconds())+'Zeit in Sekunden') #\n",
    "   "
   ]
  },
  {
   "cell_type": "markdown",
   "metadata": {},
   "source": [
    "### Pandas\n",
    "\n",
    "https://pandas.pydata.org/"
   ]
  },
  {
   "cell_type": "markdown",
   "metadata": {},
   "source": [
    "- basically, this is \"Excel\" functionality within Python\n",
    "- it is much faster than Excel for large data sets and especially if you use mixed data (numeric and other/factors)"
   ]
  },
  {
   "cell_type": "markdown",
   "metadata": {},
   "source": [
    "Data is read as a data frame:"
   ]
  },
  {
   "cell_type": "code",
   "execution_count": null,
   "metadata": {},
   "outputs": [],
   "source": [
    "import pandas as pd    # conventional alias!\n",
    "\n",
    "df = pd.read_csv(files[-1], usecols = [0,4,5])"
   ]
  },
  {
   "cell_type": "code",
   "execution_count": null,
   "metadata": {},
   "outputs": [],
   "source": [
    "df"
   ]
  },
  {
   "cell_type": "markdown",
   "metadata": {},
   "source": [
    "## Exercise"
   ]
  },
  {
   "cell_type": "markdown",
   "metadata": {},
   "source": [
    "Try this at home:\n",
    "- open a Jupyter notebook\n",
    "- take some data you work with (in Excel)\n",
    "- use the simple routine I've shown above or pandas\n",
    "- _or_ research other ways of opening/reading data from files with python\n",
    "- approach me if it's not working, share your notebook/file and I'll try to help"
   ]
  },
  {
   "cell_type": "code",
   "execution_count": null,
   "metadata": {
    "tags": []
   },
   "outputs": [],
   "source": [
    "## ... tracking changes...."
   ]
  },
  {
   "cell_type": "code",
   "execution_count": null,
   "metadata": {
    "tags": []
   },
   "outputs": [],
   "source": [
    "#!git checkout Zweigname"
   ]
  },
  {
   "cell_type": "code",
   "execution_count": null,
   "metadata": {
    "tags": []
   },
   "outputs": [],
   "source": [
    "#!git add 03_DT_python_easy_plot.ipynb #or use --all"
   ]
  },
  {
   "cell_type": "code",
   "execution_count": null,
   "metadata": {
    "tags": []
   },
   "outputs": [],
   "source": [
    "#!git add --all"
   ]
  },
  {
   "cell_type": "code",
   "execution_count": null,
   "metadata": {
    "tags": []
   },
   "outputs": [],
   "source": [
    "#!git commit -m 'Datetime in 03'"
   ]
  },
  {
   "cell_type": "code",
   "execution_count": null,
   "metadata": {
    "tags": []
   },
   "outputs": [],
   "source": [
    "#!git push --set-upstream origin Zweigname"
   ]
  }
 ],
 "metadata": {
  "kernelspec": {
   "display_name": "Python 3 (ipykernel)",
   "language": "python",
   "name": "python3"
  },
  "language_info": {
   "codemirror_mode": {
    "name": "ipython",
    "version": 3
   },
   "file_extension": ".py",
   "mimetype": "text/x-python",
   "name": "python",
   "nbconvert_exporter": "python",
   "pygments_lexer": "ipython3",
   "version": "3.10.10"
  }
 },
 "nbformat": 4,
 "nbformat_minor": 4
}
