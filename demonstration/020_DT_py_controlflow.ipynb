{
 "cells": [
  {
   "cell_type": "markdown",
   "metadata": {},
   "source": [
    "# <b> Digitale Techniken: Introduction to Python | control flow and functions\n",
    "2023-10, johanna.kerch@uni-goettingen.de, goeran.liebs@uni-goettingen.de\n",
    "\n",
    "<img src=\"https://mirrors.creativecommons.org/presskit/buttons/88x31/png/by-nc-sa.png\" style=\"height:50px\" align=\"left\"/> <br><br>\n",
    "\n",
    "https://creativecommons.org/licenses/by-nc-sa/4.0/"
   ]
  },
  {
   "cell_type": "markdown",
   "metadata": {},
   "source": [
    "Resources used for this jupyter notebook:<br>\n",
    "https://astrofrog.github.io/py4sci/"
   ]
  },
  {
   "cell_type": "markdown",
   "metadata": {},
   "source": [
    "# <b>Automating tasks and decisions with loops and conditions.\n",
    "\n",
    "<b>With a loop you repeat the same task for a number of iterations or a contition is fulfilled.\n",
    "Also, stating conditions allows to further control how the program proceeds."
   ]
  },
  {
   "cell_type": "markdown",
   "metadata": {},
   "source": [
    "### <b> The ``if`` -statements\n",
    "Some times we have to make a decision to continue with an action depending on a condition.\n",
    "Execute some code if a condition is true (boolean value)."
   ]
  },
  {
   "cell_type": "markdown",
   "metadata": {
    "tags": []
   },
   "source": [
    "For comparing (``is, is not, or`` and ``and``) as well ams signs (``==, !=, >, <, <=, >=``) can be used."
   ]
  },
  {
   "cell_type": "code",
   "execution_count": 17,
   "metadata": {},
   "outputs": [],
   "source": [
    "t = True\n",
    "f = False\n",
    "type(t)\n",
    "aboolianVariable = (t is f)"
   ]
  },
  {
   "cell_type": "code",
   "execution_count": 18,
   "metadata": {},
   "outputs": [
    {
     "data": {
      "text/plain": [
       "True"
      ]
     },
     "execution_count": 18,
     "metadata": {},
     "output_type": "execute_result"
    }
   ],
   "source": [
    "t is not f"
   ]
  },
  {
   "cell_type": "code",
   "execution_count": 19,
   "metadata": {},
   "outputs": [
    {
     "data": {
      "text/plain": [
       "True"
      ]
     },
     "execution_count": 19,
     "metadata": {},
     "output_type": "execute_result"
    }
   ],
   "source": [
    "t or f"
   ]
  },
  {
   "cell_type": "code",
   "execution_count": 22,
   "metadata": {
    "tags": []
   },
   "outputs": [
    {
     "data": {
      "text/plain": [
       "False"
      ]
     },
     "execution_count": 22,
     "metadata": {},
     "output_type": "execute_result"
    }
   ],
   "source": [
    "b = 4.2 #Floating comma values, check out nummerical limits of your machine\n",
    "c = 4.2e-12 #power of 10\n",
    "c == b"
   ]
  },
  {
   "cell_type": "code",
   "execution_count": 23,
   "metadata": {},
   "outputs": [
    {
     "data": {
      "text/plain": [
       "True"
      ]
     },
     "execution_count": 23,
     "metadata": {},
     "output_type": "execute_result"
    }
   ],
   "source": [
    "b != c"
   ]
  },
  {
   "cell_type": "code",
   "execution_count": 1,
   "metadata": {
    "tags": []
   },
   "outputs": [
    {
     "name": "stdout",
     "output_type": "stream",
     "text": [
      "True\n"
     ]
    }
   ],
   "source": [
    "aBooleanVariablename = (5==5 and 6<=6 or not 6>=5) # feel free to try out all...and think, or let the machin...\n",
    "print(aBooleanVariablename)"
   ]
  },
  {
   "cell_type": "markdown",
   "metadata": {},
   "source": [
    "### <b>As pseudo-code (tradition) we write:\n",
    "\n",
    "```bash\n",
    "if condition1:\n",
    "        # do something, if condition1 is fullfilled\n",
    "    elif condition2:\n",
    "        # do something, if condition2 is fullfilled\n",
    "    else:\n",
    "        # do something if condition1 and condition2 are not fullfilled\n",
    "```\n",
    "\n",
    "\n",
    "### <b>in R (and C++), nicer curly brackets are used:\n",
    "```R\n",
    "    if (condition) {\n",
    "        # do something\n",
    "    }\n",
    "  ```\n",
    "\n",
    "### <b>in Bash, squared brackets are used :\n",
    "```bash    \n",
    "    if [ -d \"data\" ]; then\n",
    "        echo \"folder already exists and will be removed\"\n",
    "        rm -d data\n",
    "    else \n",
    "        echo \"folder will be created\"\n",
    "        mkdir data\n",
    "    fi\n",
    "```"
   ]
  },
  {
   "cell_type": "markdown",
   "metadata": {},
   "source": [
    "### <b>Now in Python:\n",
    "- colon after, ```if statement:```\n",
    "- indentation of 4 spaces for the resulting action"
   ]
  },
  {
   "cell_type": "code",
   "execution_count": 24,
   "metadata": {
    "tags": []
   },
   "outputs": [
    {
     "name": "stdout",
     "output_type": "stream",
     "text": [
      "6  is smaller than 13\n"
     ]
    }
   ],
   "source": [
    "# example: execut several times with stroking the keys 'strg' and 'enter'\n",
    "\n",
    "import random #load the package for randomnumbergenerators\n",
    "\n",
    "numbers = [6,7,13,26,42,111]  #oh a list\n",
    "x = random.choice(numbers) #a (pseudo)random number\n",
    "\n",
    "if x == 42:\n",
    "    print(x,' is the ultimate answer to life, universe and everything')\n",
    "elif x < 13:\n",
    "    print(x,' is smaller than 13')\n",
    "else:\n",
    "    print(x,\" is a nice number, because it's so random\")"
   ]
  },
  {
   "cell_type": "markdown",
   "metadata": {},
   "source": [
    "### <b> ``for`` loops over lists, ranges and dictonaries"
   ]
  },
  {
   "cell_type": "markdown",
   "metadata": {},
   "source": [
    "Execute some code multiple times.\n",
    "- iterable (lists, strings)\n",
    "- range\n",
    "- dictionary"
   ]
  },
  {
   "cell_type": "code",
   "execution_count": 28,
   "metadata": {
    "tags": []
   },
   "outputs": [
    {
     "name": "stdout",
     "output_type": "stream",
     "text": [
      "1\n",
      "2\n",
      "3\n",
      "polizei\n",
      "3\n",
      "[['crazy', 'list'], 7, 'mehr']\n",
      "kölsche Bier\n"
     ]
    }
   ],
   "source": [
    "for x in [1,2,3,'polizei','3',[['crazy','list'],7,'mehr'], 'kölsche Bier']:  #no index used\n",
    "    print(x)"
   ]
  },
  {
   "cell_type": "code",
   "execution_count": 31,
   "metadata": {
    "tags": []
   },
   "outputs": [
    {
     "name": "stdout",
     "output_type": "stream",
     "text": [
      "176\n",
      "183\n",
      "190\n",
      "197\n"
     ]
    }
   ],
   "source": [
    "# using range function to produce sequence of integers: range(start,stop[,step]) produces right-open interval [start,stop[\n",
    "for i in range(176,200,7):\n",
    "    print(i)"
   ]
  },
  {
   "cell_type": "code",
   "execution_count": 29,
   "metadata": {
    "tags": []
   },
   "outputs": [
    {
     "name": "stdout",
     "output_type": "stream",
     "text": [
      "whateverKey\n",
      "apple\n",
      "2\n",
      "UhhaValuewithNonunicKey\n",
      "3\n",
      "cherry\n",
      "7\n",
      "apple\n",
      "9\n",
      "banana\n"
     ]
    }
   ],
   "source": [
    "dic = {'whateverKey':'apple', 2:'banana', 3:'cherry',7:'apple', 9:'banana', 2:'UhhaValuewithNonunicKey'} #whats wrong here?\n",
    "for key in dic:\n",
    "    print(key)\n",
    "    print(dic[key])"
   ]
  },
  {
   "cell_type": "markdown",
   "metadata": {},
   "source": [
    "### <b> Give me a ```while```"
   ]
  },
  {
   "cell_type": "code",
   "execution_count": 31,
   "metadata": {
    "tags": []
   },
   "outputs": [
    {
     "name": "stdout",
     "output_type": "stream",
     "text": [
      "0\n",
      "apple\n",
      "1\n",
      "UhhaValuewithNonunicKey\n",
      "2\n",
      "cherry\n",
      "3\n",
      "apple\n",
      "4\n",
      "banana\n"
     ]
    }
   ],
   "source": [
    "i = 0\n",
    "Ourkeys=list(dic.keys())\n",
    "#print(Ourkeys)\n",
    "while i <= len(Ourkeys)-1:   \n",
    "    \n",
    "    print(i)\n",
    "    print(dic[Ourkeys[i]])\n",
    "    i=i+1"
   ]
  },
  {
   "cell_type": "code",
   "execution_count": 34,
   "metadata": {
    "tags": []
   },
   "outputs": [
    {
     "name": "stdout",
     "output_type": "stream",
     "text": [
      "('whateverKey', 'apple')\n",
      "(2, 'UhhaValuewithNonunicKey')\n",
      "(3, 'cherry')\n",
      "(7, 'apple')\n",
      "(9, 'banana')\n"
     ]
    }
   ],
   "source": [
    "for v in dic.items():\n",
    "    print(v)"
   ]
  },
  {
   "cell_type": "markdown",
   "metadata": {
    "tags": []
   },
   "source": [
    "### <b> The enumerate function"
   ]
  },
  {
   "cell_type": "code",
   "execution_count": 36,
   "metadata": {
    "tags": []
   },
   "outputs": [
    {
     "name": "stdout",
     "output_type": "stream",
     "text": [
      "(0, 'whateverKey')\n",
      "(1, 2)\n",
      "(2, 3)\n",
      "(3, 7)\n",
      "(4, 9)\n",
      "111 whateverKey\n",
      "112 2\n",
      "113 3\n",
      "114 7\n",
      "115 9\n",
      "0\n",
      "whateverKey\n",
      "1\n",
      "2\n",
      "2\n",
      "3\n",
      "3\n",
      "7\n",
      "4\n",
      "9\n"
     ]
    }
   ],
   "source": [
    "# printing the tuples in object directly\n",
    "for ele in enumerate(dic):\n",
    "    print (ele)\n",
    " \n",
    "# changing index and printing separately\n",
    "for count, ele in enumerate(dic, 111):\n",
    "    print (count, ele)\n",
    " \n",
    "# getting desired output from tuple\n",
    "for count, ele in enumerate(dic):\n",
    "    print(count)\n",
    "    print(ele)"
   ]
  },
  {
   "cell_type": "markdown",
   "metadata": {},
   "source": [
    "### <b>Practice: Have a break\n",
    "\n",
    "look up functionality ``break`` change the  positions of print()-function, the numbers, ... and comment"
   ]
  },
  {
   "cell_type": "code",
   "execution_count": 37,
   "metadata": {
    "tags": []
   },
   "outputs": [
    {
     "name": "stdout",
     "output_type": "stream",
     "text": [
      "stops after brpoint is reached 0\n",
      "0\n",
      "stops after brpoint is reached 1\n",
      "1\n",
      "stops after brpoint is reached 2\n",
      "2\n",
      "stops after brpoint is reached 3\n",
      "breaks at brpoint, i == 3\n"
     ]
    }
   ],
   "source": [
    "#comment here what is going on\n",
    "for i in range(20): # please give a comment\n",
    "    print('stops after brpoint is reached',+i)\n",
    "    if i == 3: \n",
    "        print('breaks at brpoint, i == 3')\n",
    "        break\n",
    "        print('this will not be exacuted')\n",
    "    print(i)\n",
    "    \n",
    "#print(i)"
   ]
  },
  {
   "cell_type": "code",
   "execution_count": 38,
   "metadata": {
    "tags": []
   },
   "outputs": [
    {
     "name": "stdout",
     "output_type": "stream",
     "text": [
      "7 *  1 = 7\n",
      "7 *  2 = 14\n",
      "7 *  3 = 21\n",
      "7 *  4 = 28\n",
      "7 *  5 = 35\n",
      "7 *  6 = 42\n"
     ]
    }
   ],
   "source": [
    "# find first 6 multiples of 7\n",
    "i = 1\n",
    "\n",
    "while i <= 77777:\n",
    "    print('7 * ',(i), '=',7 * i)\n",
    "\n",
    "    if i >= 6:\n",
    "        break\n",
    "        print('Hello')\n",
    "    i = i + 1"
   ]
  },
  {
   "cell_type": "markdown",
   "metadata": {
    "tags": []
   },
   "source": [
    "### <b> Fast and short list creation with list comprehension, for loops and conditions\n",
    "Squared brackeds and commas are the syntax of a python list ```['first', 5, '...']```. For a list with elements that can be created by a for loop can be implementet like this."
   ]
  },
  {
   "cell_type": "code",
   "execution_count": 39,
   "metadata": {
    "tags": []
   },
   "outputs": [
    {
     "name": "stdout",
     "output_type": "stream",
     "text": [
      "[1, 4, 9, 16, 25, 36, 49, 64, 81, 100, 121, 144, 169, 196, 225, 256, 289, 324, 361, 400, 441, 484, 529, 576, 625, 676, 729, 784, 841, 900, 961, 1024, 1089, 1156, 1225, 1296, 1369, 1444, 1521, 1600, 1681, 1764, 1849, 1936, 2025, 2116, 2209, 2304, 2401, 2500, 2601, 2704, 2809, 2916, 3025, 3136, 3249, 3364, 3481, 3600, 3721, 3844, 3969, 4096, 4225, 4356, 4489, 4624, 4761, 4900, 5041, 5184, 5329, 5476, 5625, 5776, 5929, 6084, 6241, 6400, 6561, 6724, 6889, 7056, 7225, 7396, 7569, 7744, 7921, 8100, 8281, 8464, 8649, 8836, 9025, 9216, 9409, 9604, 9801, 10000]\n",
      "[1, 4, 9, 16, 25, 36, 49, 64, 81, 100, 121, 144, 169, 196, 225, 256, 289, 324, 361, 400, 441, 484, 529, 576, 625, 676, 729, 784, 841, 900, 961, 1024, 1089, 1156, 1225, 1296, 1369, 1444, 1521, 1600, 1681, 1764, 1849, 1936, 2025, 2116, 2209, 2304, 2401, 2500, 2601, 2704, 2809, 2916, 3025, 3136, 3249, 3364, 3481, 3600, 3721, 3844, 3969, 4096, 4225, 4356, 4489, 4624, 4761, 4900, 5041, 5184, 5329, 5476, 5625, 5776, 5929, 6084, 6241, 6400, 6561, 6724, 6889, 7056, 7225, 7396, 7569, 7744, 7921, 8100, 8281, 8464, 8649, 8836, 9025, 9216, 9409, 9604, 9801, 10000]\n",
      "[64, 144, 256, 400, 576, 784, 1024, 1296, 1600, 1936, 2304, 2704, 3136, 3600, 4096, 4624, 5184, 5776, 6400, 7056, 7744, 8464, 9216, 10000]\n",
      "(0, 64)\n",
      "(1, 144)\n",
      "(2, 256)\n",
      "(3, 400)\n",
      "(4, 576)\n",
      "(5, 784)\n",
      "(6, 1024)\n",
      "(7, 1296)\n",
      "(8, 1600)\n",
      "(9, 1936)\n",
      "(10, 2304)\n",
      "(11, 2704)\n",
      "(12, 3136)\n",
      "(13, 3600)\n",
      "(14, 4096)\n",
      "(15, 4624)\n",
      "(16, 5184)\n",
      "(17, 5776)\n",
      "(18, 6400)\n",
      "(19, 7056)\n",
      "(20, 7744)\n",
      "(21, 8464)\n",
      "(22, 9216)\n",
      "(23, 10000)\n",
      "100 64\n",
      "101 144\n",
      "102 256\n",
      "103 400\n",
      "104 576\n",
      "105 784\n",
      "106 1024\n",
      "107 1296\n",
      "108 1600\n",
      "109 1936\n",
      "110 2304\n",
      "111 2704\n",
      "112 3136\n",
      "113 3600\n",
      "114 4096\n",
      "115 4624\n",
      "116 5184\n",
      "117 5776\n",
      "118 6400\n",
      "119 7056\n",
      "120 7744\n",
      "121 8464\n",
      "122 9216\n",
      "123 10000\n",
      "0\n",
      "64\n",
      "1\n",
      "144\n",
      "2\n",
      "256\n",
      "3\n",
      "400\n",
      "4\n",
      "576\n",
      "5\n",
      "784\n",
      "6\n",
      "1024\n",
      "7\n",
      "1296\n",
      "8\n",
      "1600\n",
      "9\n",
      "1936\n",
      "10\n",
      "2304\n",
      "11\n",
      "2704\n",
      "12\n",
      "3136\n",
      "13\n",
      "3600\n",
      "14\n",
      "4096\n",
      "15\n",
      "4624\n",
      "16\n",
      "5184\n",
      "17\n",
      "5776\n",
      "18\n",
      "6400\n",
      "19\n",
      "7056\n",
      "20\n",
      "7744\n",
      "21\n",
      "8464\n",
      "22\n",
      "9216\n",
      "23\n",
      "10000\n"
     ]
    }
   ],
   "source": [
    "# the oldscool way, creating a list with a for loop and its intention... was nice and slow\n",
    "squares=[] #starts with nothing... \n",
    "for i in range(1,101):\n",
    "    squares.append(i**2) #appending the list again and again... \n",
    "print(squares)\n",
    "\n",
    "### or predefine list with a for-loop (list comprehension)\n",
    "squares2 = [i**2 for i in range(1,101)]\n",
    "print(squares2)\n",
    "\n",
    "### and some condition in the list\n",
    "selection=[]\n",
    "selection=[ii for ii in squares2 if ii%8==0 and ii!=16]\n",
    "print(selection)\n",
    "\n",
    "###\n",
    "for ele in enumerate(selection):\n",
    "    print (ele \n",
    "# changing index and printing separately\n",
    "for count, ele in enumerate(selection, 100):\n",
    "    print (count, ele)\n",
    "# getting desired output from tuple\n",
    "for count, ele in enumerate(selection):\n",
    "    print(count)\n",
    "    print(ele)"
   ]
  },
  {
   "cell_type": "markdown",
   "metadata": {},
   "source": [
    "### <b>Creativ training: Miss a turn and continue:\n",
    "\n",
    "<b> analyse the functionality ``continue`` (DIY), change the  positions of print() functions, to understand the behavior of your code "
   ]
  },
  {
   "cell_type": "code",
   "execution_count": 58,
   "metadata": {
    "tags": []
   },
   "outputs": [
    {
     "name": "stdout",
     "output_type": "stream",
     "text": [
      "0\n",
      "1\n",
      "2\n",
      "4\n",
      "5\n"
     ]
    }
   ],
   "source": [
    "for i in range(6): \n",
    "    if i == 3:\n",
    "        continue\n",
    "        print('Nothing happens, where is the 3')\n",
    "    print(i)"
   ]
  },
  {
   "cell_type": "code",
   "execution_count": 60,
   "metadata": {
    "tags": []
   },
   "outputs": [
    {
     "name": "stdout",
     "output_type": "stream",
     "text": [
      "Just this iteration 3\n",
      "Just this iteration 6\n",
      "Just this iteration 9\n",
      "Just this iteration 12\n",
      "Just this iteration 15\n",
      "Just this iteration 18\n"
     ]
    }
   ],
   "source": [
    "num = 0\n",
    "\n",
    "while num < 20:\n",
    "    num += 1\n",
    "    #print(num)\n",
    "    if (num % 3) == 0:\n",
    "        print('Just this iteration '+str(num))\n",
    "        continue\n",
    "        #print('Nothing happens')\n",
    "#print(num)\n",
    "    "
   ]
  },
  {
   "cell_type": "markdown",
   "metadata": {},
   "source": [
    "## <b> Masking, or avoid for and if: an other inline feature of python "
   ]
  },
  {
   "cell_type": "markdown",
   "metadata": {},
   "source": [
    "Please, remember python packages might come with special selection and filter features (e.g. Pandas).\n",
    "But in pure Python already one may select values by masking with a condition:"
   ]
  },
  {
   "cell_type": "code",
   "execution_count": 60,
   "metadata": {
    "tags": []
   },
   "outputs": [
    {
     "name": "stdout",
     "output_type": "stream",
     "text": [
      "[False, False, False, False, True, True, True, True, True, True, True, True, True, True, False, False, False, False, False, False, False, False, False, False]\n",
      "[576, 784, 1024, 1296, 1600, 1936, 2304, 2704, 3136, 3600]\n"
     ]
    }
   ],
   "source": [
    "# the mask\n",
    "msk = [(ii>400) and (ii<4000) for ii in selection]\n",
    "print(msk)\n",
    "#the filter\n",
    "print([selection[i] for i in range(len(selection)) if msk[i]])"
   ]
  },
  {
   "cell_type": "markdown",
   "metadata": {},
   "source": [
    "### <b> Exercise\n",
    "\n",
    "<b>Write some control flow yourself, inspired by this examples, or comment following examples that they are reusable for the ."
   ]
  },
  {
   "cell_type": "code",
   "execution_count": 61,
   "metadata": {
    "tags": []
   },
   "outputs": [
    {
     "name": "stdin",
     "output_type": "stream",
     "text": [
      "Go guess, which number i computed, type a number between 1 and 6:   3\n"
     ]
    },
    {
     "name": "stdout",
     "output_type": "stream",
     "text": [
      "<class 'str'>\n",
      "Well donne, clairvoyant\n"
     ]
    }
   ],
   "source": [
    "#### if statement\n",
    "import random \n",
    "\n",
    "guess_range = 6\n",
    "answer = random.randint(1, guess_range)\n",
    "\n",
    "userInput = input(\"Go guess, which number i computed, type a number between 1 and \" + str(guess_range) + \":  \")\n",
    "guess = int(userInput)\n",
    "print(type(userInput))\n",
    "\n",
    "if guess == answer:\n",
    "    print('Well donne, clairvoyant')\n",
    "else:\n",
    "    print('please try again, now, ',answer, 'was the answer')\n",
    "        \n",
    "     "
   ]
  },
  {
   "cell_type": "code",
   "execution_count": 62,
   "metadata": {
    "tags": []
   },
   "outputs": [
    {
     "name": "stdout",
     "output_type": "stream",
     "text": [
      "0 54\n",
      "1 67\n",
      "2 48\n",
      "3 99\n",
      "4 27\n",
      "0 idx1 Queen\n",
      "1 idx2 King\n",
      "2 idx3 Advisor\n"
     ]
    }
   ],
   "source": [
    "# for loop over range\n",
    "scores = [54,67,48,99,27]\n",
    "for i in range(len(scores)):\n",
    "   print(i, scores[i])\n",
    "\n",
    "#nicer for loop for python\n",
    "#you can use it for other data types like strings, tuples, and dictionaries.\n",
    "\n",
    "dic = {'idx1':'Queen', 'idx2':'King', 'idx3':'Advisor'}\n",
    "for i, score in enumerate(dic):\n",
    "   print(i, score, dic[score])"
   ]
  },
  {
   "cell_type": "code",
   "execution_count": 66,
   "metadata": {
    "tags": []
   },
   "outputs": [
    {
     "name": "stdout",
     "output_type": "stream",
     "text": [
      "Your password [4, 5, 22] was chracked after 13847 attemts\n"
     ]
    }
   ],
   "source": [
    "import random\n",
    "#SET your PASSWORD here random numbers between 3 and 23\n",
    "securecode = [4,5,22]#random.sample(range(3, 23), 3)\n",
    "\n",
    "hackerattemt = random.sample(range(3, 23), 3)\n",
    "\n",
    "attemtnr=0\n",
    "while securecode!=hackerattemt:\n",
    "    hackerattemt = random.sample(range(3, 23), 3)\n",
    "    attemtnr+=1\n",
    "print(\"Your password\", securecode, \"was chracked after\", attemtnr, \"attemts\")\n",
    "\n"
   ]
  },
  {
   "cell_type": "code",
   "execution_count": 25,
   "metadata": {
    "tags": []
   },
   "outputs": [
    {
     "name": "stdout",
     "output_type": "stream",
     "text": [
      "(0, 'eat')\n",
      "(1, 'sleep')\n",
      "(2, 'repeat')\n",
      "100 eat\n",
      "101 sleep\n",
      "102 repeat\n",
      "0\n",
      "eat\n",
      "1\n",
      "sleep\n",
      "2\n",
      "repeat\n"
     ]
    }
   ],
   "source": [
    "l1 = [\"eat\", \"sleep\", \"repeat\"]\n",
    " \n",
    "# printing the tuples in object directly\n",
    "for ele in enumerate(l1):\n",
    "    print (ele)\n",
    "# changing index and printing separately\n",
    "for count, ele in enumerate(l1, 100):\n",
    "    print (count, ele)\n",
    "# getting desired output from tuple\n",
    "for count, ele in enumerate(l1):\n",
    "    print(count)\n",
    "    print(ele)"
   ]
  },
  {
   "cell_type": "code",
   "execution_count": null,
   "metadata": {
    "tags": []
   },
   "outputs": [],
   "source": [
    "## ... tracking changes....\n",
    "#!git checkout -B  NoBranchB #Attention that will blow up a new branch... of your forked, \n",
    "#but you might merge it or push as a new course. (e.g. title the ultimate digitalization)#\n",
    "\n",
    "#!git add 020_DT_py_controlflow.ipynb #or use --all\n",
    "\n",
    "#!git commit -m 'it all FLows in you'\n",
    "\n",
    "#!git push --set-upstream origin main"
   ]
  }
 ],
 "metadata": {
  "kernelspec": {
   "display_name": "Python 3 (ipykernel)",
   "language": "python",
   "name": "python3"
  },
  "language_info": {
   "codemirror_mode": {
    "name": "ipython",
    "version": 3
   },
   "file_extension": ".py",
   "mimetype": "text/x-python",
   "name": "python",
   "nbconvert_exporter": "python",
   "pygments_lexer": "ipython3",
   "version": "3.10.10"
  }
 },
 "nbformat": 4,
 "nbformat_minor": 4
}
