{
 "cells": [
  {
   "cell_type": "markdown",
   "id": "adf9e2dd",
   "metadata": {},
   "source": [
    "# Digitale Techniken: Introduction to Bash\n",
    "2023-10, johanna.kerch@uni-goettingen.de, goeran.liebs@uni-goettingen.de\n",
    "\n",
    "\n",
    "<img src=\"https://mirrors.creativecommons.org/presskit/buttons/88x31/png/by-nc-sa.png\" style=\"height:50px\" align=\"left\"/> <br><br>\n",
    "\n",
    "https://creativecommons.org/licenses/by-nc-sa/4.0/"
   ]
  },
  {
   "cell_type": "markdown",
   "id": "6b4830de",
   "metadata": {},
   "source": [
    "<a id='sectionX'></a>\n",
    "## Bash commands in the UNIX terminal\n"
   ]
  },
  {
   "cell_type": "markdown",
   "id": "84e4fa70-8ae8-4019-9951-2a424c7a3e71",
   "metadata": {},
   "source": [
    "Manipulating data in the file system can be done today via a graphical interface (i.e. you see littel images of folders and klick on it, etc.). But especially if you have to work with many and large data files, you are more efficient by using the commandos of your operating system.<br>\n",
    "Traditonally unix terminals are used to execute commandos of the programming language bash, or files with lines of commandos within. \n",
    "In a jupyter-notebook you can execute a bash commando in a code-cell with a prefixed exclamation mark, or you change the kernel of the code-cell to bash. "
   ]
  },
  {
   "cell_type": "markdown",
   "id": "1058aad4",
   "metadata": {},
   "source": [
    "<b>The  ```pwd``` commando prints: The path of your working directory, i.e. with one window (shell,terminal,CLI) you can look only in one folder.<br>"
   ]
  },
  {
   "cell_type": "code",
   "execution_count": null,
   "id": "79bcf659",
   "metadata": {
    "tags": []
   },
   "outputs": [],
   "source": [
    "pwd # print working directory #THIS IS A COMMENT IN BASH ...NOT A HASHTAG"
   ]
  },
  {
   "cell_type": "code",
   "execution_count": null,
   "id": "961b0892-9dd3-417b-ad94-6a204125fb72",
   "metadata": {},
   "outputs": [],
   "source": [
    "Remark: The working directroy of a notebook is not what you see to your right in the file-browser. "
   ]
  },
  {
   "cell_type": "markdown",
   "id": "a9098343",
   "metadata": {},
   "source": [
    "<b>What are the contents of this folder?<br>\n",
    "Print a list of the directory content, with options -l and -a (list, all incl. hidden files)"
   ]
  },
  {
   "cell_type": "code",
   "execution_count": null,
   "id": "bce44e60",
   "metadata": {
    "tags": []
   },
   "outputs": [],
   "source": [
    "ls # -la  # write your comments here"
   ]
  },
  {
   "cell_type": "markdown",
   "id": "8b6dd254",
   "metadata": {},
   "source": [
    "<b>Make a new folder named \"dataScience\"<br>"
   ]
  },
  {
   "cell_type": "code",
   "execution_count": null,
   "id": "d1422314",
   "metadata": {
    "tags": []
   },
   "outputs": [],
   "source": [
    "mkdir dataScience"
   ]
  },
  {
   "cell_type": "markdown",
   "id": "2b8ff6f2-ccb6-4f63-b61f-0b91baff3fc9",
   "metadata": {},
   "source": [
    "<br><b>\n",
    "Let us try a control flow structure for a condition (```if... then... else... fi```). <br>\n",
    "Maybe there is already a folder named \"dataScience\", let's check first and have a message about the status printed out.<br>\n",
    "Every time you run this script tha file will be deleted if the file exists and created if the file does not exists. "
   ]
  },
  {
   "cell_type": "code",
   "execution_count": null,
   "id": "483186e5",
   "metadata": {
    "tags": []
   },
   "outputs": [],
   "source": [
    "if [ -d \"dataScience\" ]; then\n",
    "    echo \"folder already exists and will be removed\"\n",
    "    rm -d dataScience\n",
    "else \n",
    "    echo \"folder will be created\"\n",
    "    mkdir dataScience\n",
    "fi"
   ]
  },
  {
   "cell_type": "markdown",
   "id": "344c9b44",
   "metadata": {},
   "source": [
    "<b>Change directory to ../data and list the content of the folder."
   ]
  },
  {
   "cell_type": "code",
   "execution_count": null,
   "id": "c37074fc-da77-4dd3-bfa5-ec5375ae9ed6",
   "metadata": {
    "tags": []
   },
   "outputs": [],
   "source": [
    "cd ../data #change directory"
   ]
  },
  {
   "cell_type": "markdown",
   "id": "2eacf844-4385-4e8e-890c-f34968c12c93",
   "metadata": {
    "tags": []
   },
   "source": [
    "<b>Hit Esc-Key and than the b-key on your key-board (new cell, click in) and typ the commando ```pwd```  and hit strg-Key and Enter-Key together, to check your position."
   ]
  },
  {
   "cell_type": "markdown",
   "id": "5c76a1ae-8ca6-4e05-a7d4-fb60c925f8dc",
   "metadata": {
    "tags": []
   },
   "source": [
    "<b>Ever programm can be executed with a commando in the terminal. There are many of them (e.g. Programs to install programs), or to un/compress data.<br>\n",
    "<b>\n",
    "Thus the commando:\n"
   ]
  },
  {
   "cell_type": "code",
   "execution_count": null,
   "id": "201ab002",
   "metadata": {
    "tags": []
   },
   "outputs": [],
   "source": [
    "unzip -o -d icedata ice_core_graindata_for_DTex.zip # will uncompressing the zip file behind the commando with the (so called) flag -d"
   ]
  },
  {
   "cell_type": "code",
   "execution_count": null,
   "id": "7c3acd6c",
   "metadata": {
    "tags": []
   },
   "outputs": [],
   "source": [
    "cd icedata # write here... What is going on..."
   ]
  },
  {
   "cell_type": "markdown",
   "id": "18530acb",
   "metadata": {},
   "source": [
    "<b>Ideally, data is accompanied by a readme file or header files providing some text with information (e.g. measurer, units, data-formats, how to read and open the data-files). This is typically named \"readme\" and when markdown (lightweight markup language) is used, the file ending would be .md<br>\n",
    "We are searching for files with the file extension .md by using a \"wildcard\", i.e. an asterisk as a placeholder for any file name."
   ]
  },
  {
   "cell_type": "code",
   "execution_count": null,
   "id": "b369ec8f",
   "metadata": {
    "tags": []
   },
   "outputs": [],
   "source": [
    "ls *.md"
   ]
  },
  {
   "cell_type": "markdown",
   "id": "a649b0e7",
   "metadata": {},
   "source": [
    "<b>Let's read on of the data files."
   ]
  },
  {
   "cell_type": "code",
   "execution_count": null,
   "id": "567a90ad",
   "metadata": {
    "tags": []
   },
   "outputs": [],
   "source": [
    "cat boundary_orientation.0.txt"
   ]
  },
  {
   "cell_type": "markdown",
   "id": "eb918e99",
   "metadata": {},
   "source": [
    "<b>Let's print the first 3 lines only."
   ]
  },
  {
   "cell_type": "code",
   "execution_count": null,
   "id": "d0836953",
   "metadata": {
    "tags": []
   },
   "outputs": [],
   "source": [
    "head -n3 boundary_orientation.0.txt"
   ]
  },
  {
   "cell_type": "markdown",
   "id": "014d57ab",
   "metadata": {},
   "source": [
    "<b>Let's print the tail, but only the last 5 lines of the file."
   ]
  },
  {
   "cell_type": "code",
   "execution_count": null,
   "id": "b0d056c4",
   "metadata": {
    "tags": []
   },
   "outputs": [],
   "source": [
    "tail -n5 boundary_orientation.0.txt"
   ]
  },
  {
   "cell_type": "markdown",
   "id": "054c1f5c",
   "metadata": {},
   "source": [
    "<b>Let's combine the two commands by using a \"pipe\" to apply the 2nd command \"tail\" to the results of the 1st command \"head\"."
   ]
  },
  {
   "cell_type": "code",
   "execution_count": null,
   "id": "9854da28",
   "metadata": {
    "tags": []
   },
   "outputs": [],
   "source": [
    "head -n3 boundary_orientation.0.txt | tail -n2"
   ]
  },
  {
   "cell_type": "markdown",
   "id": "181f9af5",
   "metadata": {},
   "source": [
    "<b>Count files of a specific pattern using a \"pipe\" to apply the 2nd command \"wc\" to the results of the 1st command \"ls\"."
   ]
  },
  {
   "cell_type": "code",
   "execution_count": null,
   "id": "7a9ef2a1",
   "metadata": {
    "tags": []
   },
   "outputs": [],
   "source": [
    "ls *.txt | wc -l"
   ]
  },
  {
   "cell_type": "markdown",
   "id": "12c6c1b0",
   "metadata": {},
   "source": [
    "<b>The lines in the file ``` boundary_orientation.0.txt``` contain information about ice drilling core samples called KCC_26 up to KCC_101.<br> The number provides information about the depth of an ice core sample, and if you want to plot the data vs. depth, it need's to be sorted."
   ]
  },
  {
   "cell_type": "code",
   "execution_count": null,
   "id": "7bab37b1",
   "metadata": {
    "tags": []
   },
   "outputs": [],
   "source": [
    "sort -g boundary_orientation.0.txt"
   ]
  },
  {
   "cell_type": "markdown",
   "id": "4116c063",
   "metadata": {},
   "source": [
    "<b>Let's do this for all the 40 parameter files and write the output to new files in a subfolder.\n"
   ]
  },
  {
   "cell_type": "markdown",
   "id": "b15aed4d-61e7-483b-a945-d84d1a42226f",
   "metadata": {},
   "source": [
    "<b>Edute:Take the file-browser panel at your left. And klick you to this folder with the path\n",
    "    and delete the folder ```sorted ``` with``` rm -r sorted ``` and wait antil its gone."
   ]
  },
  {
   "cell_type": "code",
   "execution_count": null,
   "id": "4347f29f-aeb6-4633-8ce9-3f30d9656568",
   "metadata": {
    "tags": []
   },
   "outputs": [],
   "source": [
    "rm -r sorted #delete folder from old cours run #wait!"
   ]
  },
  {
   "cell_type": "code",
   "execution_count": null,
   "id": "c04702c0",
   "metadata": {
    "tags": []
   },
   "outputs": [],
   "source": [
    "mkdir sorted #create a new one\n",
    "for file in *.txt; do sort -V \"$file\" -o sorted/\"$file\"; done # NOTE the -V flag, try -g ..."
   ]
  },
  {
   "cell_type": "markdown",
   "id": "326778d3",
   "metadata": {},
   "source": [
    "<b>Check the output."
   ]
  },
  {
   "cell_type": "code",
   "execution_count": null,
   "id": "d270daad",
   "metadata": {
    "tags": []
   },
   "outputs": [],
   "source": [
    "cat sorted/boundary_orientation.0.txt"
   ]
  },
  {
   "cell_type": "markdown",
   "id": "7f06ab2a",
   "metadata": {},
   "source": [
    "<b>Now, if you would like to compile the data from the 40 parameters for one sample, you don't need to open each file and copy the line, you can do this with a for loop."
   ]
  },
  {
   "cell_type": "code",
   "execution_count": null,
   "id": "b61ace0a",
   "metadata": {
    "tags": []
   },
   "outputs": [],
   "source": [
    "cd sorted"
   ]
  },
  {
   "cell_type": "code",
   "execution_count": null,
   "id": "a03b2ecf",
   "metadata": {
    "tags": []
   },
   "outputs": [],
   "source": [
    "for file in *.txt; do head -n8 \"$file\" | tail -n1 >> 26_31.txt; done"
   ]
  },
  {
   "cell_type": "code",
   "execution_count": null,
   "id": "b61a7d21",
   "metadata": {
    "tags": []
   },
   "outputs": [],
   "source": [
    "cat 26_31.txt"
   ]
  },
  {
   "cell_type": "code",
   "execution_count": null,
   "id": "f4c14b45-8e6d-4408-995b-e7ef0e99954e",
   "metadata": {
    "tags": []
   },
   "outputs": [],
   "source": [
    "cd ../../../demonstration #for the next run of this book, be back were you startet"
   ]
  },
  {
   "cell_type": "code",
   "execution_count": null,
   "id": "925d363a-f99d-4f64-a503-a894b21c2848",
   "metadata": {
    "tags": []
   },
   "outputs": [],
   "source": [
    "pwd"
   ]
  },
  {
   "cell_type": "markdown",
   "id": "5ecc9240",
   "metadata": {},
   "source": [
    "### Take home message\n",
    "\n",
    "Bash is a great tool that allows for quick and efficient file manipulation with a little practice and strong support from the online community."
   ]
  },
  {
   "cell_type": "markdown",
   "id": "fc6e4617-abac-4344-9253-dcd0d7f46c95",
   "metadata": {},
   "source": [
    "### More useful commands (home exercise)"
   ]
  },
  {
   "cell_type": "markdown",
   "id": "37a91676-7c9a-4a27-8330-a882afddf803",
   "metadata": {},
   "source": [
    "Often you simply need to find a file (matching a certain pattern) and you don't know where it is.<br>\n",
    "``find`` is the command which allows to specify type and name of a file you are looking for and many more options, e.g. to to deal with symbolic links or to specify the depth of levels for the search or to filter for size, permission, readability, executability, and much more.<br>\n",
    "In the following example the current directory ``.`` is searched for a regular file where the name matches the pattern ``*.md``."
   ]
  },
  {
   "cell_type": "code",
   "execution_count": null,
   "id": "d5099373-fe75-453f-9e7f-fc83d3e19457",
   "metadata": {},
   "outputs": [],
   "source": [
    "find ../. -type f -name \"*.py\""
   ]
  },
  {
   "cell_type": "markdown",
   "id": "0dae7143-0e0f-4ffe-8562-95024b384e0c",
   "metadata": {},
   "source": [
    "``-type`` can be (among else) set to ``d`` (directory), ``f`` (regular file), ``l`` (symbolic link).<br>\n",
    "``-name`` is followed by the exact name of the file or a search pattern, using a wildcard. ``-iname`` can be used if the search is supposed to be case-insensitive."
   ]
  },
  {
   "cell_type": "markdown",
   "id": "700f98ba-8dd0-488c-bc82-28f4efe3bfa3",
   "metadata": {},
   "source": [
    "For more linux, server, hacker stuff, e.g.\n",
    "https://linuxhandbook.com/find-command-examples/\n",
    "                                                    "
   ]
  },
  {
   "cell_type": "markdown",
   "id": "8a34d315-8e20-4ea7-a6b0-baad7cb3794f",
   "metadata": {},
   "source": [
    "<b> Explain``wget, curl``.\n",
    "\n",
    "<b> Give examples for ``grep``.\n",
    "\n",
    "<b> Explain how to change user permission with ``chmod``."
   ]
  },
  {
   "cell_type": "markdown",
   "id": "734390e3-c9ec-4a7b-b057-6e9c14434ec9",
   "metadata": {
    "tags": []
   },
   "source": [
    "## .... feel free to change, but track your changes..."
   ]
  },
  {
   "cell_type": "code",
   "execution_count": 3,
   "id": "8d9ac89e-cb09-4b8a-8e6d-58286d4dc1ed",
   "metadata": {
    "tags": []
   },
   "outputs": [],
   "source": [
    "git add --all"
   ]
  },
  {
   "cell_type": "code",
   "execution_count": 4,
   "id": "2db8ea81-ac15-4d41-9fb4-5e4e815714b0",
   "metadata": {
    "tags": []
   },
   "outputs": [
    {
     "name": "stdout",
     "output_type": "stream",
     "text": [
      "[main 6b152f6] links from book to book examples inserted\n",
      " 8 files changed, 144427 insertions(+), 725 deletions(-)\n",
      " create mode 100644 2muchData/.ipynb_checkpoints/data_joker_1-checkpoint.txt\n",
      " create mode 100644 2muchData/.ipynb_checkpoints/data_joker_2-checkpoint.txt\n",
      " create mode 100644 data/.ipynb_checkpoints/data_joker_1-checkpoint.txt\n",
      " create mode 100644 data/sea_ice_extent/.ipynb_checkpoints/N_08_extent_mod-checkpoint.csv\n",
      " rewrite demonstration/03_DT_python_readNplot.ipynb (78%)\n"
     ]
    }
   ],
   "source": [
    "git commit -m 'links from book to book examples inserted'"
   ]
  },
  {
   "cell_type": "code",
   "execution_count": 5,
   "id": "f3e1ee00-121b-4789-be21-8f6f05ed3541",
   "metadata": {
    "tags": []
   },
   "outputs": [
    {
     "name": "stdout",
     "output_type": "stream",
     "text": [
      "Enumerating objects: 23, done.\n",
      "Counting objects: 100% (23/23), done.\n",
      "Delta compression using up to 4 threads\n",
      "Compressing objects: 100% (13/13), done.\n",
      "Writing objects: 100% (13/13), 2.98 KiB | 1.49 MiB/s, done.\n",
      "Total 13 (delta 10), reused 0 (delta 0), pack-reused 0\n",
      "To gitlab.gwdg.de:liebs2/digitale-techniken-wise2324-pre.git\n",
      "   20938cd..6b152f6  main -> main\n"
     ]
    }
   ],
   "source": [
    "git push"
   ]
  },
  {
   "cell_type": "markdown",
   "id": "b6f4be23",
   "metadata": {},
   "source": [
    "### Further ressources\n",
    "\n",
    "- https://www.gnu.org/software/bash/manual/bash.html\n",
    "- https://ubuntu.com/tutorials/command-line-for-beginners#3-opening-a-terminal\n",
    "- https://devhints.io/bash"
   ]
  },
  {
   "cell_type": "markdown",
   "id": "dc514308-f771-4340-9ac5-d6ac2de3fa49",
   "metadata": {
    "tags": []
   },
   "source": [
    "If you did not get anything continue with <a href='#sectionX'> SectionX</a>.\n",
    "(A link to the mark ```a id='sectionX'></a>``` somewhere in this NB.)\n",
    "\n",
    "And if you want to continue click here on this link\n",
    "[010_DT_python_installation.ipynb](./010_DT_python_installation.ipynb)\n",
    "(Just the path of a notebook)\n",
    "\n",
    "or just look to geoexamples [KLICK here](./03_DT_python_readNplot.ipynb#sectionPlot)\n",
    "A link into an other notebook in the same folder, where a mark like this\n",
    "```id='sectionPlot'></a>``` is."
   ]
  }
 ],
 "metadata": {
  "kernelspec": {
   "display_name": "Bash",
   "language": "bash",
   "name": "bash"
  },
  "language_info": {
   "codemirror_mode": "shell",
   "file_extension": ".sh",
   "mimetype": "text/x-sh",
   "name": "bash"
  }
 },
 "nbformat": 4,
 "nbformat_minor": 5
}
