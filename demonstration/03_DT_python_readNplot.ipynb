{
 "cells": [
  {
   "cell_type": "markdown",
   "metadata": {},
   "source": [
    "# Digitale Techniken: Data Extraction and plotting\n",
    "2023-10, johanna.kerch@uni-goettingen.de, goeran.liebs@uni-goettingen.de\n",
    "\n",
    "<img src=\"https://mirrors.creativecommons.org/presskit/buttons/88x31/png/by-nc-sa.png\" style=\"height:50px\" align=\"left\"/> \n",
    "\n",
    "https://creativecommons.org/licenses/by-nc-sa/4.0/"
   ]
  },
  {
   "cell_type": "markdown",
   "metadata": {},
   "source": [
    "### Keep numbers in memory and be ready for higher mathematics with the module ```numpy```:\n",
    "\n",
    "A module for Python that allows you to work with multidimensional arrays and mathematical calculations."
   ]
  },
  {
   "cell_type": "code",
   "execution_count": null,
   "metadata": {},
   "outputs": [],
   "source": [
    "# import the module for nummerical n-dim arrays (fields, vectors, tensors, etc...)\n",
    "import numpy as np    # appreviation convention"
   ]
  },
  {
   "cell_type": "code",
   "execution_count": null,
   "metadata": {},
   "outputs": [],
   "source": [
    "# create an array with 2 lines and 3 columns\n",
    "Array2x3 = np.array([[56,  1,      3],\n",
    "                     [40,200,300.000]])\n",
    "print(Array2x3)\n",
    "type(Array2x3)"
   ]
  },
  {
   "cell_type": "code",
   "execution_count": null,
   "metadata": {},
   "outputs": [],
   "source": [
    "np.mean(Array2x3) # mean-METHOD of all values, ONLY ON OF MANY ARRAY FUNCTIONS"
   ]
  },
  {
   "cell_type": "code",
   "execution_count": null,
   "metadata": {},
   "outputs": [],
   "source": [
    "Array2x3[0,:] #  first line "
   ]
  },
  {
   "cell_type": "code",
   "execution_count": null,
   "metadata": {
    "tags": []
   },
   "outputs": [],
   "source": [
    "Array2x3[:,1] # second column"
   ]
  },
  {
   "cell_type": "markdown",
   "metadata": {},
   "source": [
    "<a id='sectionPlot'></a>\n",
    "## How to find, open, read and plot data from files\n"
   ]
  },
  {
   "cell_type": "markdown",
   "metadata": {
    "tags": []
   },
   "source": [
    "But first let's define a string containing the path and a wildcard ```*``` and the desired file endings. Later you might loop over many data files to read them all. <br>\n",
    "This keeps your code running on several operation systems (OS), because subfolders are seperated with ```/``` or ```\\``` concerning the OS of your computer."
   ]
  },
  {
   "cell_type": "code",
   "execution_count": null,
   "metadata": {},
   "outputs": [],
   "source": [
    "import os # use functionality of your OS formulated in python"
   ]
  },
  {
   "cell_type": "code",
   "execution_count": null,
   "metadata": {},
   "outputs": [],
   "source": [
    "path = os.path.join('..','data','sea_ice_extent','*.csv')# its just a string that will be modivied concerning your machines OS\n",
    "path"
   ]
  },
  {
   "cell_type": "markdown",
   "metadata": {},
   "source": [
    "Find all files matching a pattern, using ```glob```:"
   ]
  },
  {
   "cell_type": "code",
   "execution_count": null,
   "metadata": {},
   "outputs": [],
   "source": [
    "from glob import glob\n",
    "files = glob(path)\n",
    "files #check that list, shouting to "
   ]
  },
  {
   "cell_type": "markdown",
   "metadata": {},
   "source": [
    "Data were obtained from https://nsidc.org/data/seaice_index/archives, 2021-02-08.<br>\n",
    "Fetterer, F., K. Knowles, W. N. Meier, M. Savoie, and A. K. Windnagel. 2017, updated daily. Sea Ice Index, Version 3. Boulder, Colorado USA. NSIDC: National Snow and Ice Data Center. doi: https://doi.org/10.7265/N5K072F8. 2020-11-30."
   ]
  },
  {
   "cell_type": "markdown",
   "metadata": {},
   "source": [
    "Open a file object, obtain a file handle, that is, not yet the actual content of the file:"
   ]
  },
  {
   "cell_type": "code",
   "execution_count": null,
   "metadata": {},
   "outputs": [],
   "source": [
    "open_file = open(files[-1]) # open last file in the list\n",
    "header = open_file.readline()   # first line is red, \n",
    "#mouseover and hit SHIFT and TAP \n",
    "year=[]# make some empty lists\n",
    "extent=[]\n",
    "area=[]\n",
    "for line in open_file: #iterate over the open_file list\n",
    "    line = line.strip() # Use the method strip to pull off first and last characters\n",
    "    #print(line[3])\n",
    "    cols = line.split(',') # split to separate the columns, seperated by commas:\n",
    "    \n",
    "    year.append(float(cols[0])) # add an element each iterarion to the lists as FLOATS\n",
    "    extent.append(float(cols[4]))\n",
    "    area.append(float(cols[5]))\n",
    "\n",
    "year=np.array(year)           # transfomation to np.arrays for nice operattions\n",
    "extent=np.array(extent)\n",
    "area=np.array(area)"
   ]
  },
  {
   "cell_type": "code",
   "execution_count": null,
   "metadata": {
    "tags": []
   },
   "outputs": [],
   "source": [
    "import matplotlib.pyplot as plt # submodules, MAKE SOME NICE PLOTS\n",
    "plt.plot(year,extent,'D-', label='Goddard, DATA-TYPE')\n",
    "plt.xlabel('Year')\n",
    "plt.ylabel('extent [unit]')\n",
    "plt.title('Read the Paper')\n",
    "plt.grid(True)\n",
    "plt.legend();"
   ]
  },
  {
   "cell_type": "code",
   "execution_count": null,
   "metadata": {
    "tags": []
   },
   "outputs": [],
   "source": [
    "\n",
    "\n",
    "plt.plot(year,area,'D-', label='Goddard, DATA-TYPE')\n",
    "plt.xlabel('Year')\n",
    "plt.ylabel('area [unit]')\n",
    "plt.title('Read the Paper')\n",
    "plt.grid(True)\n",
    "plt.legend();\n",
    "plt.ylim(2,6)        #UUUHHH an outlayer"
   ]
  },
  {
   "cell_type": "markdown",
   "metadata": {},
   "source": [
    "# Alternatively for column-based data (more convenient):"
   ]
  },
  {
   "cell_type": "code",
   "execution_count": null,
   "metadata": {},
   "outputs": [],
   "source": [
    "depth, temperature = np.loadtxt('../data/kcctemp.dat', unpack=True, skiprows=1)\n",
    "depth"
   ]
  },
  {
   "cell_type": "code",
   "execution_count": null,
   "metadata": {},
   "outputs": [],
   "source": [
    "data = np.loadtxt('../data/kcctemp.dat', skiprows=1)"
   ]
  },
  {
   "cell_type": "code",
   "execution_count": null,
   "metadata": {
    "tags": []
   },
   "outputs": [],
   "source": [
    "plt.plot(data[:,1],data[:,0])\n",
    "plt.gca().invert_yaxis()"
   ]
  },
  {
   "cell_type": "markdown",
   "metadata": {
    "tags": []
   },
   "source": [
    "# Try out the possibilities to read files"
   ]
  },
  {
   "cell_type": "code",
   "execution_count": null,
   "metadata": {},
   "outputs": [],
   "source": [
    "# Method 1: Using for loop"
   ]
  },
  {
   "cell_type": "code",
   "execution_count": null,
   "metadata": {},
   "outputs": [],
   "source": [
    "open_file = open(files[-1]) # open last file in the list\n",
    "header = open_file.readline()   # first line is red, \n",
    "#mouseover and hit SHIFT and TAP \n",
    "year=[]# make some empty lists\n",
    "extent=[]\n",
    "area=[]\n",
    "for line in open_file: #iterate over the open_file list\n",
    "    line = line.strip() # Use the method strip to pull off first and last characters\n",
    "    #print(line[3])\n",
    "    cols = line.split(',') # split to separate the columns, seperated by commas:\n",
    "    \n",
    "    year.append(float(cols[0])) # add an element each iterarion to the lists as FLOATS\n",
    "    extent.append(float(cols[4]))\n",
    "    area.append(float(cols[5]))\n",
    "\n",
    "year=np.array(year)           # transfomation to np.arrays for nice operattions\n",
    "extent=np.array(extent)\n",
    "area=np.array(area)"
   ]
  },
  {
   "cell_type": "code",
   "execution_count": null,
   "metadata": {
    "tags": []
   },
   "outputs": [],
   "source": [
    "year"
   ]
  },
  {
   "cell_type": "code",
   "execution_count": null,
   "metadata": {
    "tags": []
   },
   "outputs": [],
   "source": [
    "plt.plot(year,extent,'D-', label='Goddard, DATA-TYPE')"
   ]
  },
  {
   "cell_type": "code",
   "execution_count": null,
   "metadata": {},
   "outputs": [],
   "source": [
    "#Same method, but other file\n",
    "with open('../data/data_joker_1.txt', 'r') as f:\n",
    "    datetime = []\n",
    "    lightIntensity = []\n",
    "    temperature = []\n",
    "    relativeHumidity = []\n",
    "    ppmCO2 = []\n",
    "\n",
    "    for line in f:\n",
    "        line = line.strip()\n",
    "        datarecord=line.split(',')\n",
    "        lightIntensity.append(datarecord[1])\n",
    "        temperature.append(datarecord[2])\n",
    "        relativeHumidity.append(datarecord[3])\n",
    "        ppmCO2.append(cols[4])\n",
    "     \n",
    "\n",
    "plt.plot(np.asarray(temperature[1:],float))"
   ]
  },
  {
   "cell_type": "code",
   "execution_count": null,
   "metadata": {},
   "outputs": [],
   "source": [
    "# Method 2: list comprehension\n",
    "with open('../data/data_joker_1.txt', 'r') as f:\n",
    "\n",
    "    list_of_lists = []\n",
    "    next(f)#skip firstline\n",
    "    for line in f:\n",
    "        inner_list = [elt.strip() for elt in line.split(',')]\n",
    "        inner_floats = np.array([float(x) for x in inner_list[1:]])\n",
    "        list_of_lists.append(inner_floats)\n",
    "\n",
    "matrix=np.array(list_of_lists)\n",
    "#skip fisrt column\n",
    "plt.plot(matrix[:,1])"
   ]
  },
  {
   "cell_type": "code",
   "execution_count": null,
   "metadata": {},
   "outputs": [],
   "source": [
    "# Method 3: Using a string for all\n",
    "str = open('../data/data_joker_1.txt', 'r').read()\n",
    "megastr=str.replace ('\\n',',')\n",
    "megalist=megastr.split(',')\n",
    "datetime=megalist[0::5] ###look down to daytime module...\n",
    "lightIntensity=np.asarray(megalist[6::5])\n",
    "temperature=megalist[7::5]\n",
    "relativeHumidity=np.asarray(megalist[8::5])\n",
    "ppmCO2=np.asarray(megalist[9::5])\n",
    "\n",
    "plt.plot(np.asarray(temperature,float))"
   ]
  },
  {
   "cell_type": "code",
   "execution_count": 11,
   "metadata": {},
   "outputs": [
    {
     "data": {
      "text/plain": [
       "[<matplotlib.lines.Line2D at 0x7f74dcade1d0>]"
      ]
     },
     "execution_count": 11,
     "metadata": {},
     "output_type": "execute_result"
    },
    {
     "data": {
      "image/png": "[encoded data removed]",
      "text/plain": [
       "<Figure size 640x480 with 1 Axes>"
      ]
     },
     "metadata": {},
     "output_type": "display_data"
    }
   ],
   "source": [
    "# Method 4: Using map() function\n",
    "# workout...\n",
    "with open('../data/data_joker_1.txt', 'r') as f:\n",
    "    lines = list(map(str.strip, f))\n",
    "    comma_separated = \", \".join(lines)# a sting with all characters\n",
    "    longlist=comma_separated.split(',')\n",
    "    \n",
    "import matplotlib.pyplot as plt\n",
    "import numpy as np\n",
    "plt.plot(np.asarray(longlist[7::5],float))"
   ]
  },
  {
   "cell_type": "code",
   "execution_count": null,
   "metadata": {
    "tags": []
   },
   "outputs": [],
   "source": [
    "# Method 5: the power of numpy\n",
    "import numpy as np  #help(np.loadtxt)\n",
    "matrix2 = np.loadtxt('../data/data_joker_1.txt', usecols=[1,2,3], skiprows=1, delimiter=',')\n",
    "plt.plot(matrix2[: ,1])"
   ]
  },
  {
   "cell_type": "markdown",
   "metadata": {},
   "source": [
    "#### Writing files"
   ]
  },
  {
   "cell_type": "markdown",
   "metadata": {},
   "source": [
    "Exercise: Invert the processes above. But rember we already have so much datafiles... \n",
    "What is Database normalization?"
   ]
  },
  {
   "cell_type": "markdown",
   "metadata": {},
   "source": [
    "#### Date formatting, Time is relativ"
   ]
  },
  {
   "cell_type": "code",
   "execution_count": null,
   "metadata": {
    "tags": []
   },
   "outputs": [],
   "source": [
    "import datetime\n",
    "dt = datetime.datetime(2001, 1, 31, 10, 51, 0) #an time object, an other format... IoI\n",
    "#different date formats\n",
    "print(dt.strftime('%d-%m-%Y::%H-%M'))\n",
    "print(dt.strftime('%Y,%m,%d;%H:%M'))\n",
    "print(dt.strftime('%Y-%d-%m:ß%!:%HUhr%M'))\n",
    "   \n",
    "###  Calculating time in different units    \n",
    "\n",
    "d1 = datetime.date(1869, 1, 2) #two other time object\n",
    "d2 = datetime.date(1869, 10, 2)\n",
    "\n",
    "# Solutionn\n",
    "print(str(d2 - d1)+' Zeit in Tagen')  # timedelta\n",
    "print(str((d2-d1).total_seconds())+'Zeit in Sekunden') #\n",
    "   "
   ]
  },
  {
   "cell_type": "markdown",
   "metadata": {},
   "source": [
    "## <b> Pandas\n",
    "\n",
    "https://pandas.pydata.org/"
   ]
  },
  {
   "cell_type": "markdown",
   "metadata": {},
   "source": [
    "- basically, this is \"Excel\" functionality within Python\n",
    "- it is much faster than Excel for large data sets and especially if you use mixed data (numeric and other/factors)"
   ]
  },
  {
   "cell_type": "markdown",
   "metadata": {},
   "source": [
    "Data is read as a data frame:"
   ]
  },
  {
   "cell_type": "code",
   "execution_count": null,
   "metadata": {},
   "outputs": [],
   "source": [
    "import pandas as pd    # conventional alias!\n",
    "\n",
    "df = pd.read_csv(files[-1], usecols = [0,4,5])"
   ]
  },
  {
   "cell_type": "code",
   "execution_count": null,
   "metadata": {},
   "outputs": [],
   "source": [
    "df"
   ]
  },
  {
   "cell_type": "markdown",
   "metadata": {
    "tags": []
   },
   "source": [
    "### <b> Welcome to the data-jungle\n",
    "    \n",
    "Here a nice example: we direct download radar data with the unix/bash tool curl.\n",
    "But its a data file of a Matlab workspace..."
   ]
  },
  {
   "cell_type": "code",
   "execution_count": 2,
   "metadata": {
    "tags": []
   },
   "outputs": [
    {
     "name": "stdout",
     "output_type": "stream",
     "text": [
      "  % Total    % Received % Xferd  Average Speed   Time    Time     Time  Current\n",
      "                                 Dload  Upload   Total   Spent    Left  Speed\n",
      "100 17.8M  100 17.8M    0     0  5214k      0  0:00:03  0:00:03 --:--:-- 5214k\n"
     ]
    }
   ],
   "source": [
    "!curl -o How2readwithPy.mat https://data.cresis.ku.edu/data/rds/2017_Greenland_P3/CSARP_standard/20170428_03/Data_img_02_20170428_03_021.mat "
   ]
  },
  {
   "cell_type": "code",
   "execution_count": 13,
   "metadata": {
    "tags": []
   },
   "outputs": [
    {
     "name": "stdout",
     "output_type": "stream",
     "text": [
      "<HDF5 file \"How2readwithPy.mat\" (mode r)>\n"
     ]
    },
    {
     "ename": "TypeError",
     "evalue": "Group.get() missing 1 required positional argument: 'name'",
     "output_type": "error",
     "traceback": [
      "\u001b[0;31m---------------------------------------------------------------------------\u001b[0m",
      "\u001b[0;31mTypeError\u001b[0m                                 Traceback (most recent call last)",
      "Cell \u001b[0;32mIn[13], line 4\u001b[0m\n\u001b[1;32m      2\u001b[0m f \u001b[38;5;241m=\u001b[39m h5py\u001b[38;5;241m.\u001b[39mFile(\u001b[38;5;124m'\u001b[39m\u001b[38;5;124mHow2readwithPy.mat\u001b[39m\u001b[38;5;124m'\u001b[39m,\u001b[38;5;124m'\u001b[39m\u001b[38;5;124mr\u001b[39m\u001b[38;5;124m'\u001b[39m) \n\u001b[1;32m      3\u001b[0m \u001b[38;5;28mprint\u001b[39m(f)\n\u001b[0;32m----> 4\u001b[0m data \u001b[38;5;241m=\u001b[39m \u001b[43mf\u001b[49m\u001b[38;5;241;43m.\u001b[39;49m\u001b[43mget\u001b[49m\u001b[43m(\u001b[49m\u001b[43m)\u001b[49m \u001b[38;5;66;03m# Get a certain dataset\u001b[39;00m\n\u001b[1;32m      5\u001b[0m data \u001b[38;5;241m=\u001b[39m np\u001b[38;5;241m.\u001b[39marray(data)\n",
      "\u001b[0;31mTypeError\u001b[0m: Group.get() missing 1 required positional argument: 'name'"
     ]
    }
   ],
   "source": [
    "\n",
    "import numpy as np, h5py \n",
    "f = h5py.File('How2readwithPy.mat','r') \n",
    "print(f)\n",
    "data = f.get('') # Get a certain dataset\n",
    "data = np.array(data)\n"
   ]
  },
  {
   "cell_type": "code",
   "execution_count": 11,
   "metadata": {
    "tags": []
   },
   "outputs": [
    {
     "data": {
      "text/plain": [
       "<HDF5 file \"How2readwithPy.mat\" (mode r)>"
      ]
     },
     "execution_count": 11,
     "metadata": {},
     "output_type": "execute_result"
    }
   ],
   "source": [
    "f"
   ]
  },
  {
   "cell_type": "code",
   "execution_count": 10,
   "metadata": {
    "tags": []
   },
   "outputs": [
    {
     "data": {
      "text/plain": [
       "[<matplotlib.lines.Line2D at 0x7f7d7fc618d0>]"
      ]
     },
     "execution_count": 10,
     "metadata": {},
     "output_type": "execute_result"
    },
    {
     "data": {
      "image/png": "[encoded data removed]",
      "text/plain": [
       "<Figure size 640x480 with 1 Axes>"
      ]
     },
     "metadata": {},
     "output_type": "display_data"
    }
   ],
   "source": [
    "import matplotlib.pyplot as plt\n",
    "import numpy as np\n",
    "plt.plot(data)"
   ]
  },
  {
   "cell_type": "markdown",
   "metadata": {},
   "source": [
    "## Exercise"
   ]
  },
  {
   "cell_type": "markdown",
   "metadata": {},
   "source": [
    "Try this at home:\n",
    "- open a Jupyter notebook\n",
    "- take some data you work with (in Excel)\n",
    "- use the simple routine I've shown above or pandas\n",
    "- _or_ research other ways of opening/reading data from files with python\n",
    "- approach me if it's not working, share your notebook/file and I'll try to help"
   ]
  },
  {
   "cell_type": "code",
   "execution_count": null,
   "metadata": {
    "tags": []
   },
   "outputs": [],
   "source": [
    "## ... tracking changes...."
   ]
  },
  {
   "cell_type": "code",
   "execution_count": null,
   "metadata": {
    "tags": []
   },
   "outputs": [],
   "source": [
    "#!git checkout Zweigname"
   ]
  },
  {
   "cell_type": "code",
   "execution_count": 24,
   "metadata": {
    "tags": []
   },
   "outputs": [],
   "source": [
    "!git add 03_DT_python_readNplot.ipynb 03_DT_python_readNplot.ipynb #or use --all"
   ]
  },
  {
   "cell_type": "code",
   "execution_count": 25,
   "metadata": {
    "tags": []
   },
   "outputs": [
    {
     "name": "stdout",
     "output_type": "stream",
     "text": [
      "[main 2a1de56] free the data\n",
      " 1 file changed, 8 insertions(+), 8 deletions(-)\n"
     ]
    }
   ],
   "source": [
    "!git commit -m 'free the data'"
   ]
  },
  {
   "cell_type": "code",
   "execution_count": 26,
   "metadata": {
    "tags": []
   },
   "outputs": [
    {
     "name": "stdout",
     "output_type": "stream",
     "text": [
      "Enumerating objects: 7, done.\n",
      "Counting objects: 100% (7/7), done.\n",
      "Delta compression using up to 4 threads\n",
      "Compressing objects: 100% (4/4), done.\n",
      "Writing objects: 100% (4/4), 499 bytes | 499.00 KiB/s, done.\n",
      "Total 4 (delta 3), reused 0 (delta 0), pack-reused 0\n",
      "remote: \n",
      "remote: ========================================================================\u001b[K\n",
      "remote: \n",
      "remote:      Dear Gitlab users, on Thursday, 19.10.2023, we will swith the\u001b[K\n",
      "remote:      login-method to SSO-only. If you are not sure what this means,\u001b[K\n",
      "remote:                       please read our newest [FAQ\u001b[K\n",
      "remote: entry](https://faq.gwdg.de/index.php?action=artikel&cat=57&id=433&artlang=de).\u001b[K\n",
      "remote:       Gitlab will not be available on that day between 5:00 pm and\u001b[K\n",
      "remote:                          approximately 5:30 pm.\u001b[K\n",
      "remote: \n",
      "remote: ========================================================================\u001b[K\n",
      "remote: \n",
      "To gitlab.gwdg.de:liebs2/digitale-techniken-wise2324-pre.git\n",
      "   1c4a3cf..2a1de56  main -> main\n",
      "Branch 'main' set up to track remote branch 'main' from 'origin'.\n"
     ]
    }
   ],
   "source": [
    "!git push --set-upstream origin main"
   ]
  }
 ],
 "metadata": {
  "kernelspec": {
   "display_name": "Python 3 (ipykernel)",
   "language": "python",
   "name": "python3"
  },
  "language_info": {
   "codemirror_mode": {
    "name": "ipython",
    "version": 3
   },
   "file_extension": ".py",
   "mimetype": "text/x-python",
   "name": "python",
   "nbconvert_exporter": "python",
   "pygments_lexer": "ipython3",
   "version": "3.10.12"
  }
 },
 "nbformat": 4,
 "nbformat_minor": 4
}
