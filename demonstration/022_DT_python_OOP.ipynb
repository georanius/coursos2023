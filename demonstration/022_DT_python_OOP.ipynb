{
 "cells": [
  {
   "cell_type": "markdown",
   "metadata": {},
   "source": [
    "# <b>Digitale Techniken: Introduction to Python | object-oriented programming\n",
    "2023-10, johanna.kerch@uni-goettingen.de, goeran.liebs@uni-goettingen.de\n",
    "\n",
    "\n",
    "<img src=\"https://mirrors.creativecommons.org/presskit/buttons/88x31/png/by-nc-sa.png\" style=\"height:50px\" align=\"left\"/> <br><br>\n",
    "\n",
    "https://creativecommons.org/licenses/by-nc-sa/4.0/"
   ]
  },
  {
   "cell_type": "markdown",
   "metadata": {},
   "source": [
    "Source: https://astrofrog.github.io/py4sci/, Thomas Robitaille, https://python-textbok.readthedocs.io/en/1.0/Classes.html"
   ]
  },
  {
   "cell_type": "markdown",
   "metadata": {},
   "source": [
    "# <b> Object-oriented programming"
   ]
  },
  {
   "cell_type": "markdown",
   "metadata": {},
   "source": [
    "## <b> Bundle data and functionality together"
   ]
  },
  {
   "cell_type": "markdown",
   "metadata": {},
   "source": [
    "By the way, in python every variable is already an object.\n",
    "\n",
    "A class is a template for creating objects with variables and functions. What might be interpreted as plan for storage structures and operations. This can be a simple boolean, like just one bit or a warehouse database structure with products customers and employees. <br>\n",
    "\n",
    "As an example: Think about a campsite reservation, on a web side. A booking is an object, thus an instance of the class. And the class holds the information field (ID, name, arrival day, attribute, ...). And a functions is a calculation of the fee.  \n",
    "    <br>\n",
    "Or imagine, thousands of particles (or charges) interacting with their own specific properties in a simulation. With instances of classes, it's easy to increase the number of particles. Without classes, it will end up in many hard-to-manage global variables from all particles somewhere in memory, reassigned over and over again.<br>\n",
    "\n",
    "To itself, a class assigns his own attributes (variables) and methods (functions), presented in a text block (class definition). <br>\n",
    "Instances of a class are created by assigning the variables and applying the associated methods to them. To spawn an instance, a function called ```self``` is used."
   ]
  },
  {
   "cell_type": "code",
   "execution_count": 1,
   "metadata": {
    "tags": []
   },
   "outputs": [
    {
     "data": {
      "text/plain": [
       "'HELLO'"
      ]
     },
     "execution_count": 1,
     "metadata": {},
     "output_type": "execute_result"
    }
   ],
   "source": [
    "instance_of_str = 'Hello'\n",
    "instance_of_str.upper()  # calling the instance of built-in-string-class named \"str\". applying the the method .upper()"
   ]
  },
  {
   "cell_type": "code",
   "execution_count": 1,
   "metadata": {
    "tags": []
   },
   "outputs": [
    {
     "data": {
      "text/plain": [
       "[2, 4, 6]"
      ]
     },
     "execution_count": 1,
     "metadata": {},
     "output_type": "execute_result"
    }
   ],
   "source": [
    "Listinstancenr1 = [4,2,6] # a variable of variables which have function that work with them\n",
    "Listinstancenr1.sort()\n",
    "Listinstancenr1"
   ]
  },
  {
   "cell_type": "markdown",
   "metadata": {},
   "source": [
    "In these cases, ``upper`` and ``sort`` are both **methods**, and ``instance_of_str`` and ``Listinstancenr1`` are **instances** of the ``str`` and ``list`` **class**, respectively."
   ]
  },
  {
   "cell_type": "markdown",
   "metadata": {},
   "source": [
    "## <b> Classes, instances, and methods"
   ]
  },
  {
   "cell_type": "markdown",
   "metadata": {},
   "source": [
    "Example: class defintion... in your script or separately in a file somewhere."
   ]
  },
  {
   "cell_type": "code",
   "execution_count": 3,
   "metadata": {
    "tags": []
   },
   "outputs": [],
   "source": [
    "class Person(object):  # new class called 'Person'\n",
    "    \n",
    "    # define functions that operate on an instance of this class\n",
    "    \n",
    "    # Initializer of object/instance; \n",
    "    #__init__() function, makes an instance, assigns variables \n",
    "    def __init__(self,name):\n",
    "        self.name = name\n",
    "        \n",
    "    def say_hello(self):\n",
    "        print(\"Hello, my name is \" + self.name)"
   ]
  },
  {
   "cell_type": "markdown",
   "metadata": {},
   "source": [
    "<b> and let's try it:"
   ]
  },
  {
   "cell_type": "code",
   "execution_count": 7,
   "metadata": {
    "tags": []
   },
   "outputs": [
    {
     "name": "stdout",
     "output_type": "stream",
     "text": [
      "Hello, my name is Pythorias\n"
     ]
    }
   ],
   "source": [
    "Instantperson1 = Person('Pythorias')\n",
    "Instantperson1.say_hello()"
   ]
  },
  {
   "cell_type": "code",
   "execution_count": 9,
   "metadata": {
    "tags": []
   },
   "outputs": [],
   "source": [
    "Instantperson1.AnOtherAttribut='compromizing information of Person'"
   ]
  },
  {
   "cell_type": "code",
   "execution_count": 11,
   "metadata": {
    "tags": []
   },
   "outputs": [
    {
     "name": "stdout",
     "output_type": "stream",
     "text": [
      "compromizing information of Person\n"
     ]
    }
   ],
   "source": [
    "print(Instantperson1.AnOtherAttribut)"
   ]
  },
  {
   "cell_type": "code",
   "execution_count": 13,
   "metadata": {
    "tags": []
   },
   "outputs": [
    {
     "name": "stdout",
     "output_type": "stream",
     "text": [
      "Help on Person in module __main__ object:\n",
      "\n",
      "class Person(builtins.object)\n",
      " |  Person(name)\n",
      " |  \n",
      " |  Methods defined here:\n",
      " |  \n",
      " |  __init__(self, name)\n",
      " |      Initialize self.  See help(type(self)) for accurate signature.\n",
      " |  \n",
      " |  say_hello(self)\n",
      " |  \n",
      " |  ----------------------------------------------------------------------\n",
      " |  Data descriptors defined here:\n",
      " |  \n",
      " |  __dict__\n",
      " |      dictionary for instance variables (if defined)\n",
      " |  \n",
      " |  __weakref__\n",
      " |      list of weak references to the object (if defined)\n",
      "\n"
     ]
    }
   ],
   "source": [
    "type(Instantperson1)\n",
    "help(Instantperson1)"
   ]
  },
  {
   "cell_type": "markdown",
   "metadata": {},
   "source": [
    "## <b> A class is defined by using the following syntax:\n",
    "\n",
    "```python\n",
    "class Person(object):\n",
    "[FOUR WHITE SPACES]def\n",
    "```\n",
    "\n",
    "<b>This looks similar to the definition for a function, except that it doesn't directly contain code, but it then contains a series of functions:\n",
    "\n",
    "```python\n",
    "class Person(object):      \n",
    "    def __init__(self, ...):\n",
    "            ...\n",
    "    def say_hello(self, ...):\n",
    "           ...\n",
    "```"
   ]
  },
  {
   "cell_type": "markdown",
   "metadata": {},
   "source": [
    "<b> The ```_init__``` method creats an instance of the class (i.e. constructor) and takes a string and assigns it to the ```name``` **attribute** of the instance:"
   ]
  },
  {
   "cell_type": "code",
   "execution_count": 17,
   "metadata": {
    "tags": []
   },
   "outputs": [
    {
     "name": "stdout",
     "output_type": "stream",
     "text": [
      "Ray Nolds\n",
      "Pythorias\n",
      "True\n"
     ]
    }
   ],
   "source": [
    "Instantperson2 = Person('Ray Nolds')\n",
    "print(Instantperson2.name)\n",
    "print(Instantperson1.name)\n",
    "Instantperson2.goodcustomer=bool('Yes')\n",
    "print(Instantperson2.goodcustomer)"
   ]
  },
  {
   "cell_type": "markdown",
   "metadata": {},
   "source": [
    "<b> As you can see, the ```Instantperson2```  instance has an attribute ```name``` that has been assingend. <br>Now let's look at the second method:\n",
    "\n",
    "    def say_hello(self):\n",
    "        print \"Hello, my name is \" + self.name\n",
    "\n",
    "<b> This looks more like a normal function, but takes the same ``self`` argument. Note that while all methods should take the ``self`` argument, this argument doesn't need to be passed because when calling a method, this is automatically done:"
   ]
  },
  {
   "cell_type": "code",
   "execution_count": 9,
   "metadata": {
    "tags": []
   },
   "outputs": [
    {
     "name": "stdout",
     "output_type": "stream",
     "text": [
      "Hello, my name is Pythorias\n"
     ]
    }
   ],
   "source": [
    "Instantperson1.say_hello()"
   ]
  },
  {
   "cell_type": "markdown",
   "metadata": {},
   "source": [
    "is equivalent to:"
   ]
  },
  {
   "cell_type": "code",
   "execution_count": 10,
   "metadata": {},
   "outputs": [
    {
     "name": "stdout",
     "output_type": "stream",
     "text": [
      "Hello, my name is Pythorias\n"
     ]
    }
   ],
   "source": [
    "Person.say_hello(Instantperson1)"
   ]
  },
  {
   "cell_type": "markdown",
   "metadata": {},
   "source": [
    "<b> In the last example, we passed the instance explicitly to the function, but of course the first notation is much cleaner and simpler. Now let's look at the following example:"
   ]
  },
  {
   "cell_type": "code",
   "execution_count": 21,
   "metadata": {},
   "outputs": [
    {
     "name": "stdout",
     "output_type": "stream",
     "text": [
      "Hello, my name is Alice\n",
      "Hello, my name is Bob\n"
     ]
    }
   ],
   "source": [
    "alice = Person(\"Alice\")\n",
    "bob = Person(\"Bob\")\n",
    "alice.say_hello()\n",
    "bob.say_hello()"
   ]
  },
  {
   "cell_type": "markdown",
   "metadata": {},
   "source": [
    "<b> as you can see, when calling ``say_hello``, the result will depend to the actual object that the method is attached to.<br>\n",
    "Since they are essentially functions, methods can of course take arguments, which can be any Python object(s). For example:"
   ]
  },
  {
   "cell_type": "code",
   "execution_count": 23,
   "metadata": {},
   "outputs": [],
   "source": [
    "class Person(object):\n",
    "    \n",
    "    def __init__(self, name):\n",
    "        self.name = name\n",
    "        \n",
    "    def say_hello(self):\n",
    "        print(\"Hello, my name is \" + self.name)\n",
    "        \n",
    "    def say_hello_to(self, other):\n",
    "        print(\"Hello \" + other.name + \", my name is \" + self.name)"
   ]
  },
  {
   "cell_type": "code",
   "execution_count": 25,
   "metadata": {},
   "outputs": [
    {
     "name": "stdout",
     "output_type": "stream",
     "text": [
      "Hello Bob, my name is Alice\n"
     ]
    }
   ],
   "source": [
    "alice = Person(\"Alice\")\n",
    "bob = Person(\"Bob\")\n",
    "alice.say_hello_to(bob)"
   ]
  },
  {
   "cell_type": "code",
   "execution_count": 27,
   "metadata": {},
   "outputs": [
    {
     "name": "stdout",
     "output_type": "stream",
     "text": [
      "Hello Bob, my name is Alice\n"
     ]
    }
   ],
   "source": [
    "# equivalent to\n",
    "\n",
    "Person.say_hello_to(alice, bob)"
   ]
  },
  {
   "cell_type": "markdown",
   "metadata": {
    "tags": []
   },
   "source": [
    "## Import of the SuperHero class and his random-methode from the scr/NiceModuleName.py: <br>\n",
    "<b> Open src/NiceModuleName.py (click), modify it (unsymetric move .e.g. +2 steps to the left), restart the kernel and import and execute the function."
   ]
  },
  {
   "cell_type": "code",
   "execution_count": 13,
   "metadata": {
    "tags": []
   },
   "outputs": [
    {
     "data": {
      "image/png": "[encoded data removed]",
      "text/plain": [
       "<Figure size 640x480 with 1 Axes>"
      ]
     },
     "metadata": {},
     "output_type": "display_data"
    }
   ],
   "source": [
    "from src.NiceModuleName import SuperHero\n",
    "Superman=SuperHero(\"Otto Normal\")\n",
    "Superman.makes_super_action()"
   ]
  },
  {
   "cell_type": "markdown",
   "metadata": {},
   "source": [
    "## <b> Inheritance"
   ]
  },
  {
   "cell_type": "markdown",
   "metadata": {},
   "source": [
    "<b>One of the powerful features of object-oriented programming is **inheritance**, which means that it is possible to define classes based on other classes. For example, we can define:"
   ]
  },
  {
   "cell_type": "code",
   "execution_count": 39,
   "metadata": {},
   "outputs": [],
   "source": [
    "import numpy as np\n",
    "\n",
    "class Scientist(Person):\n",
    "    \n",
    "    def scalar(self, x, y):\n",
    "        return np.dot(x, y)"
   ]
  },
  {
   "cell_type": "markdown",
   "metadata": {},
   "source": [
    "<b>This looks similar to before, but this time when defining the class, we've used ``Person`` instead of ``object``. This means that by default, ``Scientist`` will behave like a ``Person`` instance, but it then has some additional methods defined:"
   ]
  },
  {
   "cell_type": "code",
   "execution_count": 41,
   "metadata": {},
   "outputs": [
    {
     "data": {
      "text/plain": [
       "32"
      ]
     },
     "execution_count": 21,
     "metadata": {},
     "output_type": "execute_result"
    }
   ],
   "source": [
    "albert = Scientist(\"albi\")\n",
    "albert.scalar([1,2,3], [4,5,6])"
   ]
  },
  {
   "cell_type": "code",
   "execution_count": 43,
   "metadata": {
    "tags": []
   },
   "outputs": [
    {
     "data": {
      "text/plain": [
       "47"
      ]
     },
     "execution_count": 22,
     "metadata": {},
     "output_type": "execute_result"
    }
   ],
   "source": [
    "Scientist.scalar('no_name',[4,5,6],[2,3,4])"
   ]
  },
  {
   "cell_type": "markdown",
   "metadata": {},
   "source": [
    "<b>The ``say_hello_to`` method takes any object that has a ``name`` attribute, so it can say hello to another person or scientist:"
   ]
  },
  {
   "cell_type": "code",
   "execution_count": 47,
   "metadata": {},
   "outputs": [
    {
     "name": "stdout",
     "output_type": "stream",
     "text": [
      "Hello Bob, my name is albi\n",
      "Hello albi, my name is Bob\n"
     ]
    }
   ],
   "source": [
    "bob = Person(\"Bob\")\n",
    "albert.say_hello_to(bob)\n",
    "bob.say_hello_to(albert)"
   ]
  },
  {
   "cell_type": "markdown",
   "metadata": {},
   "source": [
    "## <b> Attributes"
   ]
  },
  {
   "cell_type": "markdown",
   "metadata": {},
   "source": [
    "<b> As mentioned above, attributes are variables attached to the object. We have to mention that attributes are *not* static, so they can be changed from outside the class:"
   ]
  },
  {
   "cell_type": "code",
   "execution_count": 49,
   "metadata": {},
   "outputs": [
    {
     "name": "stdout",
     "output_type": "stream",
     "text": [
      "Hello, my name is Walter\n"
     ]
    }
   ],
   "source": [
    "ip = Person('Walter')\n",
    "ip.say_hello()  # method with ()"
   ]
  },
  {
   "cell_type": "code",
   "execution_count": 21,
   "metadata": {},
   "outputs": [
    {
     "data": {
      "text/plain": [
       "'Walter'"
      ]
     },
     "execution_count": 21,
     "metadata": {},
     "output_type": "execute_result"
    }
   ],
   "source": [
    "ip.name  # attribute simply called, gives information on the instance"
   ]
  },
  {
   "cell_type": "code",
   "execution_count": 22,
   "metadata": {},
   "outputs": [
    {
     "name": "stdout",
     "output_type": "stream",
     "text": [
      "Hello, my name is Walter_0.2\n"
     ]
    }
   ],
   "source": [
    "ip.name = 'Walter_0.2' # ATTETNTION name of p overwritten\n",
    "ip.say_hello()"
   ]
  },
  {
   "cell_type": "markdown",
   "metadata": {},
   "source": [
    "<b> and it is also possible to create new attributes from the outside:"
   ]
  },
  {
   "cell_type": "code",
   "execution_count": 23,
   "metadata": {},
   "outputs": [
    {
     "name": "stdout",
     "output_type": "stream",
     "text": [
      "Walter_0.2\n",
      "97\n"
     ]
    }
   ],
   "source": [
    "ip.age = 97\n",
    "print(ip.name)\n",
    "print(ip.age)"
   ]
  },
  {
   "cell_type": "markdown",
   "metadata": {},
   "source": [
    "## <b> Why (re)use objects?"
   ]
  },
  {
   "cell_type": "markdown",
   "metadata": {},
   "source": [
    "<b> For example, if you are doing thermodynamic simulations of a gas. A class gas-atoms can be definded with possition and velocity. With many instaces of this, you my observe observables like temperature and pressure.\n",
    "An atomes position might have a cartesian point, you could define:"
   ]
  },
  {
   "cell_type": "code",
   "execution_count": 24,
   "metadata": {},
   "outputs": [],
   "source": [
    "# class useful to contain data, even without methods\n",
    "\n",
    "class Point(object):\n",
    "    def __init__(self, x, y, z):\n",
    "        self.x = x\n",
    "        self.y = y\n",
    "        self.z = z"
   ]
  },
  {
   "cell_type": "code",
   "execution_count": 25,
   "metadata": {},
   "outputs": [],
   "source": [
    "ortsvector1 = Point(1, 2, 3)\n",
    "ortsvector1.x, ortsvector1.y, ortsvector1.z = 7, 8, 9\n",
    "ortsvector2 = Point(4, 5, 6)"
   ]
  },
  {
   "cell_type": "markdown",
   "metadata": {},
   "source": [
    "<b>Now a single variable instead of three, can be given do a function:<b>"
   ]
  },
  {
   "cell_type": "code",
   "execution_count": 26,
   "metadata": {},
   "outputs": [],
   "source": [
    "def find_separation_packed(p1, p2):\n",
    "    return np.sqrt((p1.x - p2.x)**2 + (p1.y - p2.y)**2 + (p1.z - p2.z)**2)"
   ]
  },
  {
   "cell_type": "code",
   "execution_count": 27,
   "metadata": {
    "tags": []
   },
   "outputs": [
    {
     "data": {
      "text/plain": [
       "5.196152422706632"
      ]
     },
     "execution_count": 27,
     "metadata": {},
     "output_type": "execute_result"
    }
   ],
   "source": [
    "find_separation_packed(ortsvector1,ortsvector2)"
   ]
  },
  {
   "cell_type": "markdown",
   "metadata": {},
   "source": [
    "<b>in contrast to:"
   ]
  },
  {
   "cell_type": "code",
   "execution_count": 28,
   "metadata": {},
   "outputs": [
    {
     "data": {
      "text/plain": [
       "5.196152422706632"
      ]
     },
     "execution_count": 28,
     "metadata": {},
     "output_type": "execute_result"
    }
   ],
   "source": [
    "def find_separation_long(x1, y1, z1, x2, y2, z2):\n",
    "    return np.sqrt((x1 - x2)**2 + (y1 - y2)**2 + (z1 - z2)**2)\n",
    "\n",
    "find_separation_long(1,2,3,4,5,6) #which number from wich particle?"
   ]
  },
  {
   "cell_type": "markdown",
   "metadata": {},
   "source": [
    "<b>This might not look like a big difference, but now imagine that you also wanted to pass 3-d velocities, then you would need to call the function with 12 arguments!\n",
    "You may also be able to re-use classes for different projects if they are general enough!"
   ]
  },
  {
   "cell_type": "code",
   "execution_count": 29,
   "metadata": {
    "tags": []
   },
   "outputs": [],
   "source": [
    "## ... tracking changes...."
   ]
  },
  {
   "cell_type": "code",
   "execution_count": 30,
   "metadata": {
    "tags": []
   },
   "outputs": [],
   "source": [
    "#!git branch"
   ]
  },
  {
   "cell_type": "code",
   "execution_count": 31,
   "metadata": {
    "tags": []
   },
   "outputs": [],
   "source": [
    "!git add 022_DT_python_OOP.ipynb src/NiceModuleName.py"
   ]
  },
  {
   "cell_type": "code",
   "execution_count": 32,
   "metadata": {
    "tags": []
   },
   "outputs": [
    {
     "name": "stdout",
     "output_type": "stream",
     "text": [
      "[main e7ba8a2] all objects are variables :)\n",
      " 1 file changed, 895 insertions(+), 907 deletions(-)\n",
      " rewrite demonstration/022_DT_python_OOP.ipynb (74%)\n"
     ]
    }
   ],
   "source": [
    "!git commit -m 'asymmetric radnom move :)'"
   ]
  },
  {
   "cell_type": "code",
   "execution_count": 33,
   "metadata": {
    "tags": []
   },
   "outputs": [
    {
     "name": "stdout",
     "output_type": "stream",
     "text": [
      "Enumerating objects: 7, done.\n",
      "Counting objects: 100% (7/7), done.\n",
      "Delta compression using up to 4 threads\n",
      "Compressing objects: 100% (4/4), done.\n",
      "Writing objects: 100% (4/4), 49.10 KiB | 8.18 MiB/s, done.\n",
      "Total 4 (delta 2), reused 0 (delta 0), pack-reused 0\n",
      "remote: \n",
      "remote: ========================================================================\u001b[K\n",
      "remote: \n",
      "remote:      Dear Gitlab users, on Thursday, 19.10.2023, we will switch the\u001b[K\n",
      "remote:      login-method to SSO-only. If you are not sure what this means,\u001b[K\n",
      "remote:                       please read our newest [FAQ\u001b[K\n",
      "remote: entry](https://faq.gwdg.de/index.php?action=artikel&cat=57&id=433&artlang=de).\u001b[K\n",
      "remote:       Gitlab will not be available on that day between 5:00 pm and\u001b[K\n",
      "remote:                          approximately 5:30 pm.\u001b[K\n",
      "remote: \n",
      "remote: ========================================================================\u001b[K\n",
      "remote: \n",
      "To gitlab.gwdg.de:liebs2/digitale-techniken-wise2324-pre.git\n",
      "   1f8d6f1..e7ba8a2  main -> main\n",
      "Branch 'main' set up to track remote branch 'main' from 'origin'.\n"
     ]
    }
   ],
   "source": [
    "!git push --set-upstream origin main"
   ]
  }
 ],
 "metadata": {
  "kernelspec": {
   "display_name": "Python 3.10 (XPython)",
   "language": "python",
   "name": "xpython"
  },
  "language_info": {
   "file_extension": ".py",
   "mimetype": "text/x-python",
   "name": "python",
   "version": "3.10.10"
  }
 },
 "nbformat": 4,
 "nbformat_minor": 4
}
