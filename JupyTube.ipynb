{
 "cells": [
  {
   "cell_type": "code",
   "execution_count": null,
   "id": "588401b3-5f38-45f0-9844-c501bd235c5b",
   "metadata": {},
   "outputs": [],
   "source": [
    "from IPython.display import YouTubeVideo\n",
    "\n",
    "YouTubeVideo('DM65_JyGxCo', width=640, height=360)"
   ]
  },
  {
   "cell_type": "code",
   "execution_count": null,
   "id": "1ca88e86-63e6-4eb3-b57a-e33ecfd4231d",
   "metadata": {},
   "outputs": [],
   "source": [
    "!pip install plotly"
   ]
  },
  {
   "cell_type": "code",
   "execution_count": null,
   "id": "d39364ce-9704-4c93-bd10-863e82ecc5ad",
   "metadata": {},
   "outputs": [],
   "source": [
    "!pip install numpy"
   ]
  },
  {
   "cell_type": "code",
   "execution_count": 1,
   "id": "c0737f92-7c8e-49bb-8aba-005569e1da2c",
   "metadata": {},
   "outputs": [
    {
     "data": {
      "application/vnd.jupyter.widget-view+json": {
       "model_id": "681fbf4d16f44f72b3e324dc34df49be",
       "version_major": 2,
       "version_minor": 0
      },
      "text/plain": [
       "FigureWidget({\n",
       "    'data': [{'type': 'histogram',\n",
       "              'uid': 'a5e233e2-5468-4257-8463-767f2b365be5',\n",
       "              'x': array([ 1.79448266,  1.61798402,  0.22853794, ...,  0.54377629, -0.40807846,\n",
       "                           0.14415061])}],\n",
       "    'layout': {'bargap': 0.05,\n",
       "               'template': '...',\n",
       "               'title': {'text': 'Dynamic Histogram'},\n",
       "               'xaxis': {'range': [-4, 4], 'title': {'text': 'x'}},\n",
       "               'yaxis': {'title': {'text': 'count'}}}\n",
       "})"
      ]
     },
     "execution_count": 1,
     "metadata": {},
     "output_type": "execute_result"
    }
   ],
   "source": [
    "# imports\n",
    "#import chart_studio.plotly as py\n",
    "import plotly as py\n",
    "import plotly.graph_objs as go\n",
    "import numpy as np\n",
    "\n",
    "# Generate dataset\n",
    "x = np.random.randn(5000)\n",
    "\n",
    "# Create figure and get reference to histogram trace\n",
    "fig = go.FigureWidget(\n",
    "    [go.Histogram(x=x)],\n",
    "    go.Layout(\n",
    "        title='Dynamic Histogram',\n",
    "        xaxis={'range': [-4, 4],\n",
    "               'title': 'x'},\n",
    "        yaxis={'title': 'count'},\n",
    "        bargap=0.05))\n",
    "hist = fig.data[0]\n",
    "\n",
    "# Install xaxis zoom callback\n",
    "def handle_zoom(xaxis, xrange):\n",
    "    filtered_x = x[np.logical_and(xrange[0] <= x, x <= xrange[1])]\n",
    "    hist.x = filtered_x\n",
    "fig.layout.xaxis.on_change(handle_zoom, 'range')\n",
    "\n",
    "# Display FigureWidget\n",
    "fig"
   ]
  }
 ],
 "metadata": {
  "kernelspec": {
   "display_name": "Python 3 (ipykernel)",
   "language": "python",
   "name": "python3"
  },
  "language_info": {
   "codemirror_mode": {
    "name": "ipython",
    "version": 3
   },
   "file_extension": ".py",
   "mimetype": "text/x-python",
   "name": "python",
   "nbconvert_exporter": "python",
   "pygments_lexer": "ipython3",
   "version": "3.10.12"
  }
 },
 "nbformat": 4,
 "nbformat_minor": 5
}
